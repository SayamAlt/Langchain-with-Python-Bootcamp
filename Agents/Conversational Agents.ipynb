{
 "cells": [
  {
   "cell_type": "code",
   "execution_count": 4,
   "id": "5fde6e4a-614e-46b8-a77b-e195fa6b06b5",
   "metadata": {},
   "outputs": [],
   "source": [
    "from langchain.chat_models import ChatOpenAI\n",
    "from langchain.agents import load_tools, initialize_agent, AgentType\n",
    "from langchain.memory import ConversationBufferWindowMemory\n",
    "from dotenv import load_dotenv\n",
    "import os, warnings\n",
    "warnings.filterwarnings('ignore')"
   ]
  },
  {
   "cell_type": "code",
   "execution_count": 6,
   "id": "458dd56e-a453-4f26-9499-aa94ad93d147",
   "metadata": {},
   "outputs": [],
   "source": [
    "load_dotenv()\n",
    "api_key = os.environ['OPENAI_API_KEY']"
   ]
  },
  {
   "cell_type": "code",
   "execution_count": 8,
   "id": "354d4cae-44a8-4122-b480-080a95a2a718",
   "metadata": {},
   "outputs": [],
   "source": [
    "memory = ConversationBufferWindowMemory(memory_key='chat_history')"
   ]
  },
  {
   "cell_type": "code",
   "execution_count": 10,
   "id": "be7024b5-a728-48d0-822d-a2a5581d41a5",
   "metadata": {},
   "outputs": [],
   "source": [
    "llm = ChatOpenAI(api_key=api_key,temperature=0)"
   ]
  },
  {
   "cell_type": "code",
   "execution_count": 14,
   "id": "6f78d49f-73d5-44fc-9037-0686fe036d1e",
   "metadata": {},
   "outputs": [],
   "source": [
    "tools = load_tools(tool_names=['llm-math'],llm=llm)\n",
    "agent = initialize_agent(llm=llm,\n",
    "                         tools=tools,\n",
    "                         agent=AgentType.CONVERSATIONAL_REACT_DESCRIPTION,\n",
    "                         memory=memory,\n",
    "                         verbose=True)"
   ]
  },
  {
   "cell_type": "code",
   "execution_count": 18,
   "id": "d30a6284-0ef0-4c76-bbe8-15631fd33a07",
   "metadata": {},
   "outputs": [
    {
     "name": "stdout",
     "output_type": "stream",
     "text": [
      "\n",
      "\n",
      "\u001b[1m> Entering new AgentExecutor chain...\u001b[0m\n",
      "\u001b[32;1m\u001b[1;3mThought: Do I need to use a tool? No\n",
      "AI: Here are some delicious Italian recipes you might enjoy:\n",
      "\n",
      "1. Spaghetti Carbonara: A classic pasta dish made with eggs, cheese, pancetta, and black pepper.\n",
      "2. Margherita Pizza: A simple yet delicious pizza topped with tomato sauce, fresh mozzarella, basil, and olive oil.\n",
      "3. Tiramisu: A popular Italian dessert made with layers of coffee-soaked ladyfingers and mascarpone cheese.\n",
      "4. Risotto alla Milanese: A creamy and flavorful risotto dish made with saffron and Parmesan cheese.\n",
      "5. Osso Buco: A hearty dish made with braised veal shanks, vegetables, white wine, and broth.\n",
      "\n",
      "These are just a few examples of the many delicious Italian recipes out there. Enjoy cooking!\u001b[0m\n",
      "\n",
      "\u001b[1m> Finished chain.\u001b[0m\n"
     ]
    },
    {
     "data": {
      "text/plain": [
       "'Here are some delicious Italian recipes you might enjoy:\\n\\n1. Spaghetti Carbonara: A classic pasta dish made with eggs, cheese, pancetta, and black pepper.\\n2. Margherita Pizza: A simple yet delicious pizza topped with tomato sauce, fresh mozzarella, basil, and olive oil.\\n3. Tiramisu: A popular Italian dessert made with layers of coffee-soaked ladyfingers and mascarpone cheese.\\n4. Risotto alla Milanese: A creamy and flavorful risotto dish made with saffron and Parmesan cheese.\\n5. Osso Buco: A hearty dish made with braised veal shanks, vegetables, white wine, and broth.\\n\\nThese are just a few examples of the many delicious Italian recipes out there. Enjoy cooking!'"
      ]
     },
     "execution_count": 18,
     "metadata": {},
     "output_type": "execute_result"
    }
   ],
   "source": [
    "# We use input because it's human AI human AI response - conversational\n",
    "agent.run(input=\"What are some delicious Italian recipes?\")"
   ]
  },
  {
   "cell_type": "code",
   "execution_count": 22,
   "id": "1389c111-0443-41df-9420-c4dfcb310d59",
   "metadata": {},
   "outputs": [
    {
     "name": "stdout",
     "output_type": "stream",
     "text": [
      "\n",
      "\n",
      "\u001b[1m> Entering new AgentExecutor chain...\u001b[0m\n",
      "\u001b[32;1m\u001b[1;3mThought: Do I need to use a tool? No\n",
      "AI: Among the Italian dishes I mentioned, Tiramisu is typically considered the sweetest. Tiramisu is a dessert made with layers of coffee-soaked ladyfingers and mascarpone cheese, and it has a rich and sweet flavor profile.\u001b[0m\n",
      "\n",
      "\u001b[1m> Finished chain.\u001b[0m\n"
     ]
    },
    {
     "data": {
      "text/plain": [
       "'Among the Italian dishes I mentioned, Tiramisu is typically considered the sweetest. Tiramisu is a dessert made with layers of coffee-soaked ladyfingers and mascarpone cheese, and it has a rich and sweet flavor profile.'"
      ]
     },
     "execution_count": 22,
     "metadata": {},
     "output_type": "execute_result"
    }
   ],
   "source": [
    "agent.run(input=\"Which one of those dishes tends to be the most sweetest?\")"
   ]
  },
  {
   "cell_type": "code",
   "execution_count": 24,
   "id": "dcd7c924-6efe-435b-9876-d8a975e99ec8",
   "metadata": {},
   "outputs": [
    {
     "name": "stdout",
     "output_type": "stream",
     "text": [
      "\n",
      "\n",
      "\u001b[1m> Entering new AgentExecutor chain...\u001b[0m\n",
      "\u001b[32;1m\u001b[1;3mThought: Do I need to use a tool? Yes\n",
      "Action: Calculator\n",
      "Action Input: Grocery shopping list for Tiramisu\u001b[0m\n",
      "Observation: \u001b[36;1m\u001b[1;3mAnswer: 38.435\u001b[0m\n",
      "Thought:\u001b[32;1m\u001b[1;3mDo I need to use a tool? No\n",
      "AI: Here is a grocery shopping list for making Tiramisu:\n",
      "\n",
      "1. Ladyfingers\n",
      "2. Mascarpone cheese\n",
      "3. Eggs\n",
      "4. Sugar\n",
      "5. Coffee\n",
      "6. Cocoa powder\n",
      "\n",
      "These are the main ingredients you will need to make a delicious Tiramisu dessert. Enjoy!\u001b[0m\n",
      "\n",
      "\u001b[1m> Finished chain.\u001b[0m\n"
     ]
    },
    {
     "data": {
      "text/plain": [
       "'Here is a grocery shopping list for making Tiramisu:\\n\\n1. Ladyfingers\\n2. Mascarpone cheese\\n3. Eggs\\n4. Sugar\\n5. Coffee\\n6. Cocoa powder\\n\\nThese are the main ingredients you will need to make a delicious Tiramisu dessert. Enjoy!'"
      ]
     },
     "execution_count": 24,
     "metadata": {},
     "output_type": "execute_result"
    }
   ],
   "source": [
    "agent.run(input=\"Give me a grocery shopping list for that dish.\")"
   ]
  }
 ],
 "metadata": {
  "kernelspec": {
   "display_name": "Python 3 (ipykernel)",
   "language": "python",
   "name": "python3"
  },
  "language_info": {
   "codemirror_mode": {
    "name": "ipython",
    "version": 3
   },
   "file_extension": ".py",
   "mimetype": "text/x-python",
   "name": "python",
   "nbconvert_exporter": "python",
   "pygments_lexer": "ipython3",
   "version": "3.12.7"
  }
 },
 "nbformat": 4,
 "nbformat_minor": 5
}
