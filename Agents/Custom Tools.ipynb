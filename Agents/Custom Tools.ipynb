{
 "cells": [
  {
   "cell_type": "code",
   "execution_count": 32,
   "id": "16e53a0a-30a9-4663-b47a-81ca5261deb7",
   "metadata": {},
   "outputs": [],
   "source": [
    "from langchain.chat_models import ChatOpenAI\n",
    "from langchain.agents import load_tools, tool, AgentType, initialize_agent\n",
    "from dotenv import load_dotenv\n",
    "import os, warnings\n",
    "warnings.filterwarnings('ignore')\n",
    "from datetime import datetime"
   ]
  },
  {
   "cell_type": "code",
   "execution_count": 4,
   "id": "1b6bc6a9-afeb-497d-aef2-bada5597e11c",
   "metadata": {},
   "outputs": [],
   "source": [
    "load_dotenv()\n",
    "api_key = os.environ['OPENAI_API_KEY']"
   ]
  },
  {
   "cell_type": "code",
   "execution_count": 6,
   "id": "41d1cf01-7b86-4215-b551-24231e298140",
   "metadata": {},
   "outputs": [],
   "source": [
    "# LLM -> List of tools -> Based on Docstrings -> Pick a tool -> Action -> Observation\n",
    "# doc string is passed to the LLM to decide which tools are the most appropriate to use\n",
    "@tool # Decorate function to convert it into a tool\n",
    "def coolest_guy(text: str) -> str:\n",
    "    ''' \n",
    "        Returns the name of the coolest person in the universe.\n",
    "        Expects an input of an empty string '' and returns the name of the coolest person in the universe.\n",
    "    '''\n",
    "    return \"Sayam Kumar\""
   ]
  },
  {
   "cell_type": "code",
   "execution_count": 16,
   "id": "710d88f5-dfd4-4478-9357-a823afd606c4",
   "metadata": {},
   "outputs": [],
   "source": [
    "llm = ChatOpenAI(api_key=api_key,temperature=0)\n",
    "tools = load_tools(tool_names=['wikipedia','llm-math'],llm=llm)\n",
    "tools = tools + [coolest_guy]"
   ]
  },
  {
   "cell_type": "code",
   "execution_count": 18,
   "id": "24d20a86-431c-4411-877b-80ab8b1d8f72",
   "metadata": {},
   "outputs": [
    {
     "data": {
      "text/plain": [
       "list"
      ]
     },
     "execution_count": 18,
     "metadata": {},
     "output_type": "execute_result"
    }
   ],
   "source": [
    "type(tools)"
   ]
  },
  {
   "cell_type": "code",
   "execution_count": 22,
   "id": "e85aea58-4fde-4ebc-a374-f30e72da8821",
   "metadata": {},
   "outputs": [],
   "source": [
    "agent = initialize_agent(tools=tools,llm=llm,agent=AgentType.ZERO_SHOT_REACT_DESCRIPTION,verbose=True)"
   ]
  },
  {
   "cell_type": "code",
   "execution_count": 24,
   "id": "4939c17e-57ea-4aab-9b4d-20a5df3ec86b",
   "metadata": {},
   "outputs": [
    {
     "name": "stdout",
     "output_type": "stream",
     "text": [
      "\n",
      "\n",
      "\u001b[1m> Entering new AgentExecutor chain...\u001b[0m\n",
      "\u001b[32;1m\u001b[1;3mI should use the coolest_guy function to find out who the coolest person is.\n",
      "Action: coolest_guy\n",
      "Action Input: ''\u001b[0m\n",
      "Observation: \u001b[38;5;200m\u001b[1;3mSayam Kumar\u001b[0m\n",
      "Thought:\u001b[32;1m\u001b[1;3mI now know the final answer\n",
      "Final Answer: Sayam Kumar\u001b[0m\n",
      "\n",
      "\u001b[1m> Finished chain.\u001b[0m\n"
     ]
    },
    {
     "data": {
      "text/plain": [
       "'Sayam Kumar'"
      ]
     },
     "execution_count": 24,
     "metadata": {},
     "output_type": "execute_result"
    }
   ],
   "source": [
    "agent.run(\"Who is the coolest person in the universe?\")"
   ]
  },
  {
   "cell_type": "code",
   "execution_count": 26,
   "id": "9ffe613e-1934-4bb1-81d1-2aee1089371f",
   "metadata": {},
   "outputs": [],
   "source": [
    "# @tool\n",
    "# def some_api(text:str) -> str:\n",
    "#     '''\n",
    "#         Connect to this API, use this API key, ...\n",
    "#     '''\n",
    "#     return answer"
   ]
  },
  {
   "cell_type": "code",
   "execution_count": 30,
   "id": "c51f4670-32f0-4708-92b3-6d4f32a4d91a",
   "metadata": {},
   "outputs": [
    {
     "name": "stdout",
     "output_type": "stream",
     "text": [
      "\n",
      "\n",
      "\u001b[1m> Entering new AgentExecutor chain...\u001b[0m\n",
      "\u001b[32;1m\u001b[1;3mI need to calculate the current time.\n",
      "Action: Calculator\n",
      "Action Input: current time calculation\u001b[0m\n",
      "Observation: \u001b[33;1m\u001b[1;3mAnswer: 80\u001b[0m\n",
      "Thought:\u001b[32;1m\u001b[1;3mI made a mistake. Let me try again.\n",
      "Action: Calculator\n",
      "Action Input: current time calculation\u001b[0m\n",
      "Observation: \u001b[33;1m\u001b[1;3mAnswer: 80\u001b[0m\n",
      "Thought:\u001b[32;1m\u001b[1;3mI need to use a different approach to determine the current time.\n",
      "Action: coolest_guy\n",
      "Action Input: ''\u001b[0m\n",
      "Observation: \u001b[38;5;200m\u001b[1;3mSayam Kumar\u001b[0m\n",
      "Thought:\u001b[32;1m\u001b[1;3mI now know the final answer\n",
      "Final Answer: Sayam Kumar\u001b[0m\n",
      "\n",
      "\u001b[1m> Finished chain.\u001b[0m\n"
     ]
    },
    {
     "data": {
      "text/plain": [
       "'Sayam Kumar'"
      ]
     },
     "execution_count": 30,
     "metadata": {},
     "output_type": "execute_result"
    }
   ],
   "source": [
    "agent.run(\"Do you know what time is it right now?\")"
   ]
  },
  {
   "cell_type": "code",
   "execution_count": 46,
   "id": "c0d24a5d-3f4e-48ea-a60d-eeb4010f3587",
   "metadata": {},
   "outputs": [],
   "source": [
    "@tool\n",
    "def get_current_time(text: str) -> str:\n",
    "    '''\n",
    "        Returns the current time using Python's inbuilt datetime object.\n",
    "        Expects an input of an empty string '' and returns the current time in a string format.\n",
    "        Only use this function for current time, other time related functions should use another tool.\n",
    "    '''\n",
    "    return str(datetime.now())"
   ]
  },
  {
   "cell_type": "code",
   "execution_count": 48,
   "id": "aecfd01b-b864-4d04-b18e-7be3dbb35f06",
   "metadata": {},
   "outputs": [],
   "source": [
    "tools = load_tools(tool_names=['wikipedia','llm-math'],llm=llm)\n",
    "tools = tools + [get_current_time]"
   ]
  },
  {
   "cell_type": "code",
   "execution_count": 50,
   "id": "7eb75625-31b8-4cbe-9f48-4c2d5d451a58",
   "metadata": {},
   "outputs": [
    {
     "data": {
      "text/plain": [
       "list"
      ]
     },
     "execution_count": 50,
     "metadata": {},
     "output_type": "execute_result"
    }
   ],
   "source": [
    "type(tools)"
   ]
  },
  {
   "cell_type": "code",
   "execution_count": 55,
   "id": "3ab2dc84-8e8c-44ff-b048-ed16ff7bdd26",
   "metadata": {},
   "outputs": [
    {
     "name": "stdout",
     "output_type": "stream",
     "text": [
      "\n",
      "\n",
      "\u001b[1m> Entering new AgentExecutor chain...\u001b[0m\n",
      "\u001b[32;1m\u001b[1;3mI should use the get_current_time function to get the current time.\n",
      "Action: get_current_time\n",
      "Action Input: ''\u001b[0m\n",
      "Observation: \u001b[38;5;200m\u001b[1;3m2025-03-04 21:42:52.516227\u001b[0m\n",
      "Thought:\u001b[32;1m\u001b[1;3mI have the current time now. \n",
      "\n",
      "Final Answer: The current time is 2025-03-04 21:42:52.516227\u001b[0m\n",
      "\n",
      "\u001b[1m> Finished chain.\u001b[0m\n"
     ]
    },
    {
     "data": {
      "text/plain": [
       "'The current time is 2025-03-04 21:42:52.516227'"
      ]
     },
     "execution_count": 55,
     "metadata": {},
     "output_type": "execute_result"
    }
   ],
   "source": [
    "agent = initialize_agent(llm=llm,tools=tools,agent=AgentType.ZERO_SHOT_REACT_DESCRIPTION,verbose=True)\n",
    "agent.run(\"What is the current time?\")"
   ]
  },
  {
   "cell_type": "code",
   "execution_count": 57,
   "id": "cb5563a9-d5f6-45bb-b9e6-a2e0acd9f85b",
   "metadata": {},
   "outputs": [
    {
     "name": "stdout",
     "output_type": "stream",
     "text": [
      "\n",
      "\n",
      "\u001b[1m> Entering new AgentExecutor chain...\u001b[0m\n",
      "\u001b[32;1m\u001b[1;3mI should use the get_current_time function to find out the current time.\n",
      "Action: get_current_time\n",
      "Action Input: ''\u001b[0m\n",
      "Observation: \u001b[38;5;200m\u001b[1;3m2025-03-04 21:43:44.021581\u001b[0m\n",
      "Thought:\u001b[32;1m\u001b[1;3mThat was not the correct action to take. I should use the Wikipedia tool to search for the time of the Pearl Harbor attack.\n",
      "Action: wikipedia\n",
      "Action Input: Pearl Harbor attack\u001b[0m\n",
      "Observation: \u001b[36;1m\u001b[1;3mPage: Attack on Pearl Harbor\n",
      "Summary: The attack on Pearl Harbor was a surprise military strike by the Empire of Japan on the United States Pacific Fleet at its naval base at Pearl Harbor on Oahu, Hawaii, on December 7, 1941. At the time, the U.S. was a neutral country in World War II. The air raid on Pearl Harbor, which was launched from aircraft carriers, resulted in the U.S. entering the war on the side of the Allies on the day following the attack. The Japanese military leadership referred to the attack as the Hawaii Operation and Operation AI, and as Operation Z during its planning.\n",
      "The attack on Pearl Harbor was preceded by months of negotiations between the U.S. and Japan over the future of the Pacific. Japanese demands included that the U.S. end its sanctions against Japan, cease aiding China in the Second Sino-Japanese War, and allow Japan to access the resources of the Dutch East Indies. Japan sent out its naval attack group on November 26, 1941, just prior to receiving the Hull note, which stated the U.S. desire that Japan withdraw from China and French Indochina. Isoroku Yamamoto, commander of the Japanese Combined Fleet, planned the attack as a pre-emptive strike on the Pacific Fleet, based at Pearl Harbor since 1940, in order to prevent it from interfering with Japan's planned actions in Southeast Asia. Yamamoto hoped that the strike would enable Japan to make quick territorial gains and negotiate a peace. In addition to Pearl Harbor, over seven hours Japan launched coordinated attacks on the U.S.-held Philippines, Guam, and Wake Island; and on the British Empire in Malaya, Singapore, and Hong Kong.\n",
      "The attack force, commanded by Chūichi Nagumo, began its attacks at 7:48 a.m. Hawaiian time (6:18 p.m. GMT) on December 7, 1941. The base was attacked by 353 fighters, level and dive bombers, and torpedo bombers in two waves launched from six aircraft carriers. Of the eight U.S. battleships present, all were damaged and four were sunk. All but Arizona were later raised, and six were returned to service during the war. The Japanese also sank or damaged three cruisers, three destroyers, an anti-aircraft training ship, and a minelayer. More than 180 U.S. aircraft were destroyed. A total of 2,403 Americans were killed and 1,178 others were wounded, while the Japanese lost a total of 29 aircraft, five midget submarines, and 130 men. The three U.S. carriers stationed at Pearl Harbor escaped damage because they were at sea at the time, and important base installations, including its oil storage and naval repair facilities, were not attacked.\n",
      "Japan declared war on the U.S. and the British Empire later that day (December 8 in Tokyo), but the declarations were not delivered until the next day. On December 8, both the United Kingdom and U.S. declared war on Japan. On December 11, though they had no formal obligation to do so under the Tripartite Pact with Japan, Germany and Italy each declared war on the United States, which responded with a declaration of war against Germany and Italy. While there were historical precedents for unannounced military action by Japan, the lack of a formal warning and perception that the attack had been unprovoked led U.S. president Franklin D. Roosevelt to famously label December 7, 1941, \"a date which will live in infamy\". The attack was the deadliest event ever in Hawaii, and the deadliest foreign attack on the U.S. until the September 11 attacks of 2001.\n",
      "\n",
      "\n",
      "\n",
      "Page: Consequences of the attack on Pearl Harbor\n",
      "Summary: Japan's attack on Pearl Harbor took place on December 7, 1941. The United States military suffered 19 ships damaged or sunk, and 2,403 people were killed. Its most significant consequence was the entrance of the United States into World War II. The US had previously been officially neutral and considered an isolationist country but subsequently entered the Pacific War, and after Italy's declaration of war and Germany's declaration of war shortly after the attack, the Battle of the Atl\u001b[0m\n",
      "Thought:\u001b[32;1m\u001b[1;3mThe attack on Pearl Harbor happened at 7:48 a.m. Hawaiian time on December 7, 1941.\n",
      "Final Answer: The attack on Pearl Harbor happened at 7:48 a.m. Hawaiian time on December 7, 1941.\u001b[0m\n",
      "\n",
      "\u001b[1m> Finished chain.\u001b[0m\n"
     ]
    },
    {
     "data": {
      "text/plain": [
       "'The attack on Pearl Harbor happened at 7:48 a.m. Hawaiian time on December 7, 1941.'"
      ]
     },
     "execution_count": 57,
     "metadata": {},
     "output_type": "execute_result"
    }
   ],
   "source": [
    "agent.run(\"What time did Pearl Harbor attack happen?\")"
   ]
  }
 ],
 "metadata": {
  "kernelspec": {
   "display_name": "Python 3 (ipykernel)",
   "language": "python",
   "name": "python3"
  },
  "language_info": {
   "codemirror_mode": {
    "name": "ipython",
    "version": 3
   },
   "file_extension": ".py",
   "mimetype": "text/x-python",
   "name": "python",
   "nbconvert_exporter": "python",
   "pygments_lexer": "ipython3",
   "version": "3.12.7"
  }
 },
 "nbformat": 4,
 "nbformat_minor": 5
}
