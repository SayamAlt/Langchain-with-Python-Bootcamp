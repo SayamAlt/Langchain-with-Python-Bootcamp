{
  "nbformat": 4,
  "nbformat_minor": 0,
  "metadata": {
    "colab": {
      "provenance": []
    },
    "kernelspec": {
      "name": "python3",
      "display_name": "Python 3"
    },
    "language_info": {
      "name": "python"
    }
  },
  "cells": [
    {
      "cell_type": "code",
      "source": [
        "import random"
      ],
      "metadata": {
        "id": "lYJ1VuIHTz6e"
      },
      "execution_count": null,
      "outputs": []
    },
    {
      "cell_type": "code",
      "execution_count": null,
      "metadata": {
        "id": "yOF_5E2XTOrq"
      },
      "outputs": [],
      "source": [
        "class FakeLLM:\n",
        "\n",
        "  def __init__(self):\n",
        "    print('LLM Created')\n",
        "\n",
        "  def predict(self, prompt):\n",
        "    responses = [\n",
        "        'Delhi is the capital of India.',\n",
        "        'IPL is a cricket league.',\n",
        "        'AI stands for Artificial Intelligence.'\n",
        "    ]\n",
        "\n",
        "    return {'response': random.choice(responses)}"
      ]
    },
    {
      "cell_type": "code",
      "source": [
        "llm = FakeLLM()\n",
        "llm.predict('What is the capital of India?')"
      ],
      "metadata": {
        "colab": {
          "base_uri": "https://localhost:8080/"
        },
        "id": "JxbBw1WwT46T",
        "outputId": "bbba294e-c1ef-4232-cc92-dbbd43e3a805"
      },
      "execution_count": null,
      "outputs": [
        {
          "output_type": "stream",
          "name": "stdout",
          "text": [
            "LLM Created\n"
          ]
        },
        {
          "output_type": "execute_result",
          "data": {
            "text/plain": [
              "{'response': 'Delhi is the capital of India.'}"
            ]
          },
          "metadata": {},
          "execution_count": 13
        }
      ]
    },
    {
      "cell_type": "code",
      "source": [
        "class FakePromptTemplate:\n",
        "\n",
        "  def __init__(self, template, input_variables):\n",
        "    self.template = template\n",
        "    self.input_variables = input_variables\n",
        "\n",
        "  def format(self, input_dict):\n",
        "    return self.template.format(**input_dict)"
      ],
      "metadata": {
        "id": "K3TNrE4ET_gR"
      },
      "execution_count": null,
      "outputs": []
    },
    {
      "cell_type": "code",
      "source": [
        "template = FakePromptTemplate(\n",
        "    template='Write a {length} poem about {topic}',\n",
        "    input_variables=['length','topic']\n",
        ")\n",
        "\n",
        "prompt = template.format({'length': 'short', 'topic': 'crystals'})"
      ],
      "metadata": {
        "id": "TFMxxz2-UcDe"
      },
      "execution_count": null,
      "outputs": []
    },
    {
      "cell_type": "code",
      "source": [
        "llm = FakeLLM()"
      ],
      "metadata": {
        "colab": {
          "base_uri": "https://localhost:8080/"
        },
        "id": "YOeHdFA2UsAS",
        "outputId": "08be3306-5105-4106-c05c-3dac3125bb96"
      },
      "execution_count": null,
      "outputs": [
        {
          "output_type": "stream",
          "name": "stdout",
          "text": [
            "LLM Created\n"
          ]
        }
      ]
    },
    {
      "cell_type": "code",
      "source": [
        "llm.predict(prompt)"
      ],
      "metadata": {
        "colab": {
          "base_uri": "https://localhost:8080/"
        },
        "id": "Je8ivxs5U6VJ",
        "outputId": "0aafc9e8-aa79-4ebc-dc46-073cc0261fe5"
      },
      "execution_count": null,
      "outputs": [
        {
          "output_type": "execute_result",
          "data": {
            "text/plain": [
              "{'response': 'Delhi is the capital of India.'}"
            ]
          },
          "metadata": {},
          "execution_count": 19
        }
      ]
    },
    {
      "cell_type": "code",
      "source": [
        "class FakeLLMChain:\n",
        "\n",
        "  def __init__(self, prompt, llm):\n",
        "    self.llm = llm\n",
        "    self.prompt = prompt\n",
        "\n",
        "  def run(self, input_dict):\n",
        "    prompt = self.prompt.format(input_dict)\n",
        "    result = self.llm.predict(prompt)\n",
        "    return result['response']"
      ],
      "metadata": {
        "id": "jCQRG8EGU89F"
      },
      "execution_count": null,
      "outputs": []
    },
    {
      "cell_type": "code",
      "source": [
        "template = FakePromptTemplate(\n",
        "    template='Write a {length} poem about {topic}',\n",
        "    input_variables=['length','topic']\n",
        ")\n",
        "\n",
        "prompt = template.format({'length': 'short', 'topic': 'crystals'})\n",
        "llm = FakeLLM()"
      ],
      "metadata": {
        "colab": {
          "base_uri": "https://localhost:8080/"
        },
        "id": "A97p24CJViKx",
        "outputId": "238fd4ec-3c0e-4e9b-8fed-d096253734df"
      },
      "execution_count": null,
      "outputs": [
        {
          "output_type": "stream",
          "name": "stdout",
          "text": [
            "LLM Created\n"
          ]
        }
      ]
    },
    {
      "cell_type": "code",
      "source": [
        "chain = FakeLLMChain(prompt, llm)\n",
        "result = chain.run({'length': 'short', 'topic': 'crystals'})\n",
        "print(result)"
      ],
      "metadata": {
        "colab": {
          "base_uri": "https://localhost:8080/"
        },
        "id": "3v4-ak70V8PX",
        "outputId": "ce91c72a-9076-4e09-b0ba-6ec32e7eaa70"
      },
      "execution_count": null,
      "outputs": [
        {
          "output_type": "stream",
          "name": "stdout",
          "text": [
            "Delhi is the capital of India.\n"
          ]
        }
      ]
    }
  ]
}