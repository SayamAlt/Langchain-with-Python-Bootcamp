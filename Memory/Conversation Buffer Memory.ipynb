{
 "cells": [
  {
   "cell_type": "code",
   "execution_count": 30,
   "id": "ea7f8843-fabe-4d6d-858f-80871a598bbd",
   "metadata": {},
   "outputs": [],
   "source": [
    "from langchain.chat_models import ChatOpenAI\n",
    "from langchain.chains import ConversationChain\n",
    "from langchain.memory import ConversationBufferMemory\n",
    "from dotenv import load_dotenv\n",
    "import os, warnings, pickle\n",
    "warnings.filterwarnings('ignore')"
   ]
  },
  {
   "cell_type": "code",
   "execution_count": 8,
   "id": "a82b5ffd-9aa6-41c8-9c16-b18e37933d19",
   "metadata": {},
   "outputs": [],
   "source": [
    "load_dotenv()\n",
    "api_key = os.environ['OPENAI_API_KEY']"
   ]
  },
  {
   "cell_type": "code",
   "execution_count": 10,
   "id": "329e5e58-f85f-4f77-8680-341b8d0282c5",
   "metadata": {},
   "outputs": [],
   "source": [
    "llm = ChatOpenAI()"
   ]
  },
  {
   "cell_type": "code",
   "execution_count": 12,
   "id": "479fca14-efed-429c-a6bc-982c1e303881",
   "metadata": {},
   "outputs": [],
   "source": [
    "memory = ConversationBufferMemory()"
   ]
  },
  {
   "cell_type": "code",
   "execution_count": 18,
   "id": "d7498a4d-7dc8-4b1f-ba07-28bbafff6c27",
   "metadata": {},
   "outputs": [
    {
     "name": "stdout",
     "output_type": "stream",
     "text": [
      "\n",
      "\n",
      "\u001b[1m> Entering new ConversationChain chain...\u001b[0m\n",
      "Prompt after formatting:\n",
      "\u001b[32;1m\u001b[1;3mThe following is a friendly conversation between a human and an AI. The AI is talkative and provides lots of specific details from its context. If the AI does not know the answer to a question, it truthfully says it does not know.\n",
      "\n",
      "Current conversation:\n",
      "\n",
      "Human: Hello, nice to meet you\n",
      "AI:\u001b[0m\n",
      "\n",
      "\u001b[1m> Finished chain.\u001b[0m\n"
     ]
    },
    {
     "data": {
      "text/plain": [
       "\"Hello! It's a pleasure to meet you as well. I'm an AI designed to provide information and assistance. How can I help you today?\""
      ]
     },
     "execution_count": 18,
     "metadata": {},
     "output_type": "execute_result"
    }
   ],
   "source": [
    "conversation_chain = ConversationChain(llm=llm,memory=memory,verbose=True)\n",
    "conversation_chain.predict(input=\"Hello, nice to meet you\")"
   ]
  },
  {
   "cell_type": "code",
   "execution_count": 20,
   "id": "2ecb2d57-969f-4d94-849f-0477462ef1ee",
   "metadata": {},
   "outputs": [
    {
     "name": "stdout",
     "output_type": "stream",
     "text": [
      "\n",
      "\n",
      "\u001b[1m> Entering new ConversationChain chain...\u001b[0m\n",
      "Prompt after formatting:\n",
      "\u001b[32;1m\u001b[1;3mThe following is a friendly conversation between a human and an AI. The AI is talkative and provides lots of specific details from its context. If the AI does not know the answer to a question, it truthfully says it does not know.\n",
      "\n",
      "Current conversation:\n",
      "Human: Hello, nice to meet you\n",
      "AI: Hello! It's a pleasure to meet you as well. I'm an AI designed to provide information and assistance. How can I help you today?\n",
      "Human: Tell me about an interesting physics fact\n",
      "AI:\u001b[0m\n",
      "\n",
      "\u001b[1m> Finished chain.\u001b[0m\n"
     ]
    },
    {
     "data": {
      "text/plain": [
       "\"Sure! Did you know that the speed of light in a vacuum is approximately 299,792 kilometers per second? This constant speed is a fundamental aspect of physics and plays a crucial role in many scientific theories and calculations. It's fascinating to think about how light behaves and its impact on our understanding of the universe.\""
      ]
     },
     "execution_count": 20,
     "metadata": {},
     "output_type": "execute_result"
    }
   ],
   "source": [
    "conversation_chain.predict(input=\"Tell me about an interesting physics fact\")"
   ]
  },
  {
   "cell_type": "code",
   "execution_count": 22,
   "id": "1f3a6594-96e3-413b-b553-f9997b536269",
   "metadata": {},
   "outputs": [
    {
     "data": {
      "text/plain": [
       "ConversationBufferMemory(chat_memory=InMemoryChatMessageHistory(messages=[HumanMessage(content='Hello, nice to meet you', additional_kwargs={}, response_metadata={}), AIMessage(content=\"Hello! It's a pleasure to meet you as well. I'm an AI designed to provide information and assistance. How can I help you today?\", additional_kwargs={}, response_metadata={}), HumanMessage(content='Tell me about an interesting physics fact', additional_kwargs={}, response_metadata={}), AIMessage(content=\"Sure! Did you know that the speed of light in a vacuum is approximately 299,792 kilometers per second? This constant speed is a fundamental aspect of physics and plays a crucial role in many scientific theories and calculations. It's fascinating to think about how light behaves and its impact on our understanding of the universe.\", additional_kwargs={}, response_metadata={})]))"
      ]
     },
     "execution_count": 22,
     "metadata": {},
     "output_type": "execute_result"
    }
   ],
   "source": [
    "memory"
   ]
  },
  {
   "cell_type": "code",
   "execution_count": 24,
   "id": "e795f4d4-7722-44e2-ae6c-9a9554686b11",
   "metadata": {},
   "outputs": [
    {
     "name": "stdout",
     "output_type": "stream",
     "text": [
      "Human: Hello, nice to meet you\n",
      "AI: Hello! It's a pleasure to meet you as well. I'm an AI designed to provide information and assistance. How can I help you today?\n",
      "Human: Tell me about an interesting physics fact\n",
      "AI: Sure! Did you know that the speed of light in a vacuum is approximately 299,792 kilometers per second? This constant speed is a fundamental aspect of physics and plays a crucial role in many scientific theories and calculations. It's fascinating to think about how light behaves and its impact on our understanding of the universe.\n"
     ]
    }
   ],
   "source": [
    "print(memory.buffer)"
   ]
  },
  {
   "cell_type": "code",
   "execution_count": 26,
   "id": "8123ab0d-7486-4866-ae58-3c763809b359",
   "metadata": {},
   "outputs": [
    {
     "data": {
      "text/plain": [
       "{'history': \"Human: Hello, nice to meet you\\nAI: Hello! It's a pleasure to meet you as well. I'm an AI designed to provide information and assistance. How can I help you today?\\nHuman: Tell me about an interesting physics fact\\nAI: Sure! Did you know that the speed of light in a vacuum is approximately 299,792 kilometers per second? This constant speed is a fundamental aspect of physics and plays a crucial role in many scientific theories and calculations. It's fascinating to think about how light behaves and its impact on our understanding of the universe.\"}"
      ]
     },
     "execution_count": 26,
     "metadata": {},
     "output_type": "execute_result"
    }
   ],
   "source": [
    "memory.load_memory_variables({})"
   ]
  },
  {
   "cell_type": "code",
   "execution_count": 28,
   "id": "9e033d77-16da-4c37-aacd-5ac108c84198",
   "metadata": {},
   "outputs": [
    {
     "data": {
      "text/plain": [
       "ConversationBufferMemory(chat_memory=InMemoryChatMessageHistory(messages=[HumanMessage(content='Hello, nice to meet you', additional_kwargs={}, response_metadata={}), AIMessage(content=\"Hello! It's a pleasure to meet you as well. I'm an AI designed to provide information and assistance. How can I help you today?\", additional_kwargs={}, response_metadata={}), HumanMessage(content='Tell me about an interesting physics fact', additional_kwargs={}, response_metadata={}), AIMessage(content=\"Sure! Did you know that the speed of light in a vacuum is approximately 299,792 kilometers per second? This constant speed is a fundamental aspect of physics and plays a crucial role in many scientific theories and calculations. It's fascinating to think about how light behaves and its impact on our understanding of the universe.\", additional_kwargs={}, response_metadata={})]))"
      ]
     },
     "execution_count": 28,
     "metadata": {},
     "output_type": "execute_result"
    }
   ],
   "source": [
    "conversation_chain.memory"
   ]
  },
  {
   "cell_type": "code",
   "execution_count": 36,
   "id": "523da89c-8ca1-4f60-a1aa-281297758a4d",
   "metadata": {},
   "outputs": [],
   "source": [
    "pickled_str = pickle.dumps(conversation_chain.memory) # Saves any Python object into a disk"
   ]
  },
  {
   "cell_type": "code",
   "execution_count": 38,
   "id": "bfd99571-44be-4bcd-b83f-f7c2aef84840",
   "metadata": {},
   "outputs": [],
   "source": [
    "with open(\"my_conversation_memory.pkl\",\"wb\") as f:\n",
    "    f.write(pickled_str)"
   ]
  },
  {
   "cell_type": "code",
   "execution_count": 48,
   "id": "ece554c4-2c04-44e6-948f-f22db8d80afa",
   "metadata": {},
   "outputs": [],
   "source": [
    "llm = ChatOpenAI(api_key=api_key)\n",
    "new_memory_loaded = open(\"my_conversation_memory.pkl\",\"rb\").read() # Load stored conversation memory in bytes\n",
    "new_memory_loaded = pickle.loads(new_memory_loaded) # Convert from bytes to actual memory object\n",
    "reload_conversation = ConversationChain(llm=llm,memory=new_memory_loaded)"
   ]
  },
  {
   "cell_type": "code",
   "execution_count": 50,
   "id": "fff7612c-79ce-47d4-9e59-8c76dd5cbcc9",
   "metadata": {},
   "outputs": [
    {
     "name": "stdout",
     "output_type": "stream",
     "text": [
      "Human: Hello, nice to meet you\n",
      "AI: Hello! It's a pleasure to meet you as well. I'm an AI designed to provide information and assistance. How can I help you today?\n",
      "Human: Tell me about an interesting physics fact\n",
      "AI: Sure! Did you know that the speed of light in a vacuum is approximately 299,792 kilometers per second? This constant speed is a fundamental aspect of physics and plays a crucial role in many scientific theories and calculations. It's fascinating to think about how light behaves and its impact on our understanding of the universe.\n"
     ]
    }
   ],
   "source": [
    "print(reload_conversation.memory.buffer)"
   ]
  }
 ],
 "metadata": {
  "kernelspec": {
   "display_name": "Python 3 (ipykernel)",
   "language": "python",
   "name": "python3"
  },
  "language_info": {
   "codemirror_mode": {
    "name": "ipython",
    "version": 3
   },
   "file_extension": ".py",
   "mimetype": "text/x-python",
   "name": "python",
   "nbconvert_exporter": "python",
   "pygments_lexer": "ipython3",
   "version": "3.12.7"
  }
 },
 "nbformat": 4,
 "nbformat_minor": 5
}
