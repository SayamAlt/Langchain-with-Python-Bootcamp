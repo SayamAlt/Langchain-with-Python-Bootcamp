{
 "cells": [
  {
   "cell_type": "code",
   "execution_count": 6,
   "id": "c6ada1a9-e61a-492f-9236-117e340af836",
   "metadata": {},
   "outputs": [],
   "source": [
    "from langchain.chat_models import ChatOpenAI\n",
    "from langchain.memory import ConversationBufferWindowMemory\n",
    "from langchain.chains import ConversationChain\n",
    "from dotenv import load_dotenv\n",
    "import os, warnings\n",
    "warnings.filterwarnings('ignore')"
   ]
  },
  {
   "cell_type": "code",
   "execution_count": 10,
   "id": "b535fc67-1afc-41a8-bdca-d9be53a59c01",
   "metadata": {},
   "outputs": [],
   "source": [
    "load_dotenv()\n",
    "api_key = os.environ['OPENAI_API_KEY']"
   ]
  },
  {
   "cell_type": "code",
   "execution_count": 8,
   "id": "82bea338-bc0a-496b-a740-0915b0c8a57d",
   "metadata": {},
   "outputs": [],
   "source": [
    "# HUMAN and AI\n",
    "# k=1 -> Window -> k interactions"
   ]
  },
  {
   "cell_type": "code",
   "execution_count": 12,
   "id": "a4e90394-dccc-43bc-a6dd-1f8367d89d80",
   "metadata": {},
   "outputs": [],
   "source": [
    "llm = ChatOpenAI(api_key=api_key)\n",
    "memory = ConversationBufferWindowMemory(k=1)\n",
    "conversation_chain = ConversationChain(llm=llm,memory=memory)"
   ]
  },
  {
   "cell_type": "code",
   "execution_count": 14,
   "id": "2a0c5a23-3b08-4cad-8b47-54598b53f0b4",
   "metadata": {},
   "outputs": [
    {
     "data": {
      "text/plain": [
       "\"Hello! I'm doing well, thank you for asking. I'm always ready to help and provide information. How can I assist you today?\""
      ]
     },
     "execution_count": 14,
     "metadata": {},
     "output_type": "execute_result"
    }
   ],
   "source": [
    "conversation_chain.predict(input=\"Hello, how are you?\")"
   ]
  },
  {
   "cell_type": "code",
   "execution_count": 16,
   "id": "d2e67a90-33d9-45d7-be0f-43e65e9c4f7d",
   "metadata": {},
   "outputs": [
    {
     "data": {
      "text/plain": [
       "'Sure! Did you know that the sum of the first 100 positive integers is 5050? This can be calculated using the formula n(n+1)/2, where n is the number of integers being added.'"
      ]
     },
     "execution_count": 16,
     "metadata": {},
     "output_type": "execute_result"
    }
   ],
   "source": [
    "conversation_chain.predict(input=\"Tell me a math fact\")"
   ]
  },
  {
   "cell_type": "code",
   "execution_count": 18,
   "id": "2ee929e3-9d9f-4bd1-b148-815e8c9cd578",
   "metadata": {},
   "outputs": [
    {
     "data": {
      "text/plain": [
       "'Of course! One interesting fact about Mars is that it has the largest volcano in the solar system called Olympus Mons. It is about 13.6 miles high, which is nearly three times the height of Mount Everest. Additionally, Mars has a very thin atmosphere composed mostly of carbon dioxide, which makes it very different from Earth.'"
      ]
     },
     "execution_count": 18,
     "metadata": {},
     "output_type": "execute_result"
    }
   ],
   "source": [
    "conversation_chain.predict(input=\"Tell me a fact about Mars\")"
   ]
  },
  {
   "cell_type": "code",
   "execution_count": 22,
   "id": "112f4789-e334-4224-8c3a-f562a1dad8ba",
   "metadata": {},
   "outputs": [
    {
     "name": "stdout",
     "output_type": "stream",
     "text": [
      "Human: Tell me a fact about Mars\n",
      "AI: Of course! One interesting fact about Mars is that it has the largest volcano in the solar system called Olympus Mons. It is about 13.6 miles high, which is nearly three times the height of Mount Everest. Additionally, Mars has a very thin atmosphere composed mostly of carbon dioxide, which makes it very different from Earth.\n"
     ]
    }
   ],
   "source": [
    "print(memory.buffer)"
   ]
  },
  {
   "cell_type": "code",
   "execution_count": 24,
   "id": "b445cbf9-500a-4f6b-8154-0b28427129f5",
   "metadata": {},
   "outputs": [
    {
     "data": {
      "text/plain": [
       "{'history': 'Human: Tell me a fact about Mars\\nAI: Of course! One interesting fact about Mars is that it has the largest volcano in the solar system called Olympus Mons. It is about 13.6 miles high, which is nearly three times the height of Mount Everest. Additionally, Mars has a very thin atmosphere composed mostly of carbon dioxide, which makes it very different from Earth.'}"
      ]
     },
     "execution_count": 24,
     "metadata": {},
     "output_type": "execute_result"
    }
   ],
   "source": [
    "memory.load_memory_variables({}) # k=2"
   ]
  }
 ],
 "metadata": {
  "kernelspec": {
   "display_name": "Python 3 (ipykernel)",
   "language": "python",
   "name": "python3"
  },
  "language_info": {
   "codemirror_mode": {
    "name": "ipython",
    "version": 3
   },
   "file_extension": ".py",
   "mimetype": "text/x-python",
   "name": "python",
   "nbconvert_exporter": "python",
   "pygments_lexer": "ipython3",
   "version": "3.12.7"
  }
 },
 "nbformat": 4,
 "nbformat_minor": 5
}
