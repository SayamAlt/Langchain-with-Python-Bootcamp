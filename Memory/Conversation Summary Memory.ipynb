{
 "cells": [
  {
   "cell_type": "code",
   "execution_count": 8,
   "id": "be965fd5-800f-4d7a-bd2b-19c91faa08e3",
   "metadata": {},
   "outputs": [],
   "source": [
    "from langchain.chat_models import ChatOpenAI\n",
    "from langchain.chains import ConversationChain\n",
    "from langchain.memory import ConversationSummaryBufferMemory\n",
    "from dotenv import load_dotenv\n",
    "import os, warnings\n",
    "warnings.filterwarnings('ignore')"
   ]
  },
  {
   "cell_type": "code",
   "execution_count": 6,
   "id": "2f96aaf5-fec2-4990-8d5d-93825efa68ef",
   "metadata": {},
   "outputs": [],
   "source": [
    "load_dotenv()\n",
    "api_key = os.environ['OPENAI_API_KEY']"
   ]
  },
  {
   "cell_type": "code",
   "execution_count": 12,
   "id": "474f8de1-6f70-48c1-8cee-24ef5eb338a8",
   "metadata": {},
   "outputs": [],
   "source": [
    "llm = ChatOpenAI(api_key=api_key)\n",
    "memory = ConversationSummaryBufferMemory(llm=llm,max_token_limit=100)\n",
    "# HUMAN AI HUMAN AI --> LLM GENERATES A SUMMARY --> SUMMARY"
   ]
  },
  {
   "cell_type": "code",
   "execution_count": 14,
   "id": "8dd83b59-790d-4440-9a87-d302c32ea6dd",
   "metadata": {},
   "outputs": [],
   "source": [
    "conversation_chain = ConversationChain(llm=llm,memory=memory)"
   ]
  },
  {
   "cell_type": "code",
   "execution_count": 16,
   "id": "41145bd7-ba47-41b1-85e9-c38858573547",
   "metadata": {},
   "outputs": [
    {
     "data": {
      "text/plain": [
       "'Sure! When are you planning to visit Copenhagen? There are plenty of things to do in the city, such as visiting the Tivoli Gardens, exploring the Nyhavn harbor, and checking out the Little Mermaid statue. You could also take a canal tour or visit the Carlsberg Brewery. Let me know if you need more specific recommendations based on your interests and preferences!'"
      ]
     },
     "execution_count": 16,
     "metadata": {},
     "output_type": "execute_result"
    }
   ],
   "source": [
    "conversation_chain.predict(input=\"Give me some travel plans for Copenhagen\")"
   ]
  },
  {
   "cell_type": "code",
   "execution_count": 18,
   "id": "992a351f-0a34-467a-8e3f-b585b2c86fc2",
   "metadata": {},
   "outputs": [
    {
     "data": {
      "text/plain": [
       "'Rotterdam is a vibrant city in the Netherlands known for its modern architecture and bustling port. Some must-see attractions in Rotterdam include the Cube Houses, the Markthal food market, and the Euromast Tower for panoramic views of the city. You could also visit the Maritime Museum, take a boat tour of the harbor, or explore the Delfshaven neighborhood. Let me know if you need more suggestions tailored to your interests!'"
      ]
     },
     "execution_count": 18,
     "metadata": {},
     "output_type": "execute_result"
    }
   ],
   "source": [
    "conversation_chain.predict(input=\"Give me some travel plans for Rotterdam\")"
   ]
  },
  {
   "cell_type": "code",
   "execution_count": 20,
   "id": "aaee8661-ef13-4b22-931e-63fbf708963f",
   "metadata": {},
   "outputs": [
    {
     "data": {
      "text/plain": [
       "{'history': 'System: The human asks for travel plans for Copenhagen, and the AI provides a list of popular attractions and activities in the city. The human then requests travel plans for Rotterdam.\\nAI: Rotterdam is a vibrant city in the Netherlands known for its modern architecture and bustling port. Some must-see attractions in Rotterdam include the Cube Houses, the Markthal food market, and the Euromast Tower for panoramic views of the city. You could also visit the Maritime Museum, take a boat tour of the harbor, or explore the Delfshaven neighborhood. Let me know if you need more suggestions tailored to your interests!'}"
      ]
     },
     "execution_count": 20,
     "metadata": {},
     "output_type": "execute_result"
    }
   ],
   "source": [
    "memory.load_memory_variables({})"
   ]
  }
 ],
 "metadata": {
  "kernelspec": {
   "display_name": "Python 3 (ipykernel)",
   "language": "python",
   "name": "python3"
  },
  "language_info": {
   "codemirror_mode": {
    "name": "ipython",
    "version": 3
   },
   "file_extension": ".py",
   "mimetype": "text/x-python",
   "name": "python",
   "nbconvert_exporter": "python",
   "pygments_lexer": "ipython3",
   "version": "3.12.7"
  }
 },
 "nbformat": 4,
 "nbformat_minor": 5
}
