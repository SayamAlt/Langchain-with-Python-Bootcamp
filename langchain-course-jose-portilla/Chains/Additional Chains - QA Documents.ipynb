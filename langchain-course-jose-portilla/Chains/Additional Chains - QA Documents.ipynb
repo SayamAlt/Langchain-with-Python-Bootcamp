{
 "cells": [
  {
   "cell_type": "code",
   "execution_count": 2,
   "id": "603a2045-65ac-4c6f-9885-2195a121d5c4",
   "metadata": {},
   "outputs": [],
   "source": [
    "# VECTOR STORE\n",
    "# QA ON THAT VECTOR STORE"
   ]
  },
  {
   "cell_type": "code",
   "execution_count": 24,
   "id": "626c2185-3985-4170-a448-66343dfa08e9",
   "metadata": {},
   "outputs": [],
   "source": [
    "from langchain.embeddings.openai import OpenAIEmbeddings\n",
    "from langchain.vectorstores import Chroma\n",
    "from dotenv import load_dotenv\n",
    "import os, warnings\n",
    "warnings.filterwarnings('ignore')\n",
    "from langchain.chains.question_answering import load_qa_chain\n",
    "from langchain.chains.qa_with_sources import load_qa_with_sources_chain # Very similar, but gives a little more metdata\n",
    "from langchain.chat_models import ChatOpenAI"
   ]
  },
  {
   "cell_type": "code",
   "execution_count": 10,
   "id": "ef5d4e56-06ee-4f6b-89df-2256d850d696",
   "metadata": {},
   "outputs": [],
   "source": [
    "load_dotenv()\n",
    "api_key = os.environ['OPENAI_API_KEY']"
   ]
  },
  {
   "cell_type": "code",
   "execution_count": 12,
   "id": "8377eebf-2b0d-4234-adcf-ad4bc45183e9",
   "metadata": {},
   "outputs": [],
   "source": [
    "embedding_function = OpenAIEmbeddings(api_key=api_key)"
   ]
  },
  {
   "cell_type": "code",
   "execution_count": 34,
   "id": "6c2f2736-9df5-4506-820c-4243e0ceb31c",
   "metadata": {},
   "outputs": [],
   "source": [
    "db_connection = Chroma(persist_directory='../exercises/us_constitution_db/',embedding_function=embedding_function)"
   ]
  },
  {
   "cell_type": "code",
   "execution_count": 26,
   "id": "8e004108-12a7-4354-8210-61e3f786ae25",
   "metadata": {},
   "outputs": [],
   "source": [
    "chat_model = ChatOpenAI(api_key=api_key,temperature=0)"
   ]
  },
  {
   "cell_type": "code",
   "execution_count": 28,
   "id": "c3045796-c292-4576-92a2-b8f98c5ca6cd",
   "metadata": {},
   "outputs": [],
   "source": [
    "chain = load_qa_chain(llm=chat_model,chain_type='stuff') # Stuff means inserting context into a prompt call\n",
    "# PROMPT -> \"shuffling in CONTEXT\" CHROMADB VECTOR STORE"
   ]
  },
  {
   "cell_type": "code",
   "execution_count": 40,
   "id": "49c393b7-6775-4d8f-88a7-b69da0608e7c",
   "metadata": {},
   "outputs": [],
   "source": [
    "question = \"What is the 15th amendment?\""
   ]
  },
  {
   "cell_type": "code",
   "execution_count": 44,
   "id": "e28b6b78-f95b-4226-a4c0-2dec3af61650",
   "metadata": {},
   "outputs": [
    {
     "data": {
      "text/plain": [
       "[Document(metadata={'source': '../langchain-course-main/01-Data-Connections/some_data/US_Constitution.txt'}, page_content='13th Amendment\\nSection 1\\nNeither slavery nor involuntary servitude, except as a punishment for crime whereof the party shall have been duly convicted, shall exist within the United States, or any place subject to their jurisdiction.\\n\\nSection 2\\nCongress shall have power to enforce this article by appropriate legislation.\\n\\n14th Amendment\\nSection 1\\nAll persons born or naturalized in the United States, and subject to the jurisdiction thereof, are citizens of the United States and of the State wherein they reside. No State shall make or enforce any law which shall abridge the privileges or immunities of citizens of the United States; nor shall any State deprive any person of life, liberty, or property, without due process of law; nor deny to any person within its jurisdiction the equal protection of the laws.\\n\\nSection 2\\nRepresentatives shall be apportioned among the several States according to their respective numbers, counting the whole number of persons in each State, excluding Indians not taxed. But when the right to vote at any election for the choice of electors for President and Vice-President of the United States, Representatives in Congress, the Executive and Judicial officers of a State, or the members of the Legislature thereof, is denied to any of the male inhabitants of such State, being twenty-one years of age, and citizens of the United States, or in any way abridged, except for participation in rebellion, or other crime, the basis of representation therein shall be reduced in the proportion which the number of such male citizens shall bear to the whole number of male citizens twenty-one years of age in such State.\\n\\nSection 3\\nNo person shall be a Senator or Representative in Congress, or elector of President and Vice-President, or hold any office, civil or military, under the United States, or under any State, who, having previously taken an oath, as a member of Congress, or as an officer of the United States, or as a member of any State legislature, or as an executive or judicial officer of any State, to support the Constitution of the United States, shall have engaged in insurrection or rebellion against the same, or given aid or comfort to the enemies thereof. But Congress may by a vote of two-thirds of each House, remove such disability.\\n\\nSection 4\\nThe validity of the public debt of the United States, authorized by law, including debts incurred for payment of pensions and bounties for services in suppressing insurrection or rebellion, shall not be questioned. But neither the United States nor any State shall assume or pay any debt or obligation incurred in aid of insurrection or rebellion against the United States, or any claim for the loss or emancipation of any slave; but all such debts, obligations and claims shall be held illegal and void.\\n\\nSection 5\\nThe Congress shall have the power to enforce, by appropriate legislation, the provisions of this article.\\n\\n15th Amendment\\nSection 1\\nThe right of citizens of the United States to vote shall not be denied or abridged by the United States or by any State on account of race, color, or previous condition of servitude.\\n\\nSection 2\\nThe Congress shall have the power to enforce this article by appropriate legislation.\\n\\n16th Amendment\\nThe Congress shall have power to lay and collect taxes on incomes, from whatever source derived, without apportionment among the several States, and without regard to any census or enumeration.\\n\\n17th Amendment\\nThe Senate of the United States shall be composed of two Senators from each State, elected by the people thereof, for six years; and each Senator shall have one vote. The electors in each State shall have the qualifications requisite for electors of the most numerous branch of the State legislatures.\\n\\nWhen vacancies happen in the representation of any State in the Senate, the executive authority of such State shall issue writs of election to fill such vacancies: Provided, That the legislature of any State may empower the executive thereof to make temporary appointments until the people fill the vacancies by election as the legislature may direct.\\n\\nThis amendment shall not be so construed as to affect the election or term of any Senator chosen before it becomes valid as part of the Constitution.\\n\\n18th Amendment\\nSection 1\\nAfter one year from the ratification of this article the manufacture, sale, or transportation of intoxicating liquors within, the importation thereof into, or the exportation thereof from the United States and all territory subject to the jurisdiction thereof for beverage purposes is hereby prohibited.\\n\\nSection 2\\nThe Congress and the several States shall have concurrent power to enforce this article by appropriate legislation.\\n\\nSection 3\\nThis article shall be inoperative unless it shall have been ratified as an amendment to the Constitution by the legislatures of the several States, as provided in the Constitution, within seven years from the date of the submission hereof to the States by the Congress.'),\n",
       " Document(metadata={'source': '../langchain-course-main/01-Data-Connections/some_data/US_Constitution.txt'}, page_content='Section 2\\nRepresentatives shall be apportioned among the several States according to their respective numbers, counting the whole number of persons in each State, excluding Indians not taxed. But when the right to vote at any election for the choice of electors for President and Vice-President of the United States, Representatives in Congress, the Executive and Judicial officers of a State, or the members of the Legislature thereof, is denied to any of the male inhabitants of such State, being twenty-one years of age, and citizens of the United States, or in any way abridged, except for participation in rebellion, or other crime, the basis of representation therein shall be reduced in the proportion which the number of such male citizens shall bear to the whole number of male citizens twenty-one years of age in such State.\\n\\nSection 3\\nNo person shall be a Senator or Representative in Congress, or elector of President and Vice-President, or hold any office, civil or military, under the United States, or under any State, who, having previously taken an oath, as a member of Congress, or as an officer of the United States, or as a member of any State legislature, or as an executive or judicial officer of any State, to support the Constitution of the United States, shall have engaged in insurrection or rebellion against the same, or given aid or comfort to the enemies thereof. But Congress may by a vote of two-thirds of each House, remove such disability.\\n\\nSection 4\\nThe validity of the public debt of the United States, authorized by law, including debts incurred for payment of pensions and bounties for services in suppressing insurrection or rebellion, shall not be questioned. But neither the United States nor any State shall assume or pay any debt or obligation incurred in aid of insurrection or rebellion against the United States, or any claim for the loss or emancipation of any slave; but all such debts, obligations and claims shall be held illegal and void.\\n\\nSection 5\\nThe Congress shall have the power to enforce, by appropriate legislation, the provisions of this article.\\n\\n15th Amendment\\nSection 1\\nThe right of citizens of the United States to vote shall not be denied or abridged by the United States or by any State on account of race, color, or previous condition of servitude.\\n\\nSection 2\\nThe Congress shall have the power to enforce this article by appropriate legislation.\\n\\n16th Amendment\\nThe Congress shall have power to lay and collect taxes on incomes, from whatever source derived, without apportionment among the several States, and without regard to any census or enumeration.\\n\\n17th Amendment\\nThe Senate of the United States shall be composed of two Senators from each State, elected by the people thereof, for six years; and each Senator shall have one vote. The electors in each State shall have the qualifications requisite for electors of the most numerous branch of the State legislatures.\\n\\nWhen vacancies happen in the representation of any State in the Senate, the executive authority of such State shall issue writs of election to fill such vacancies: Provided, That the legislature of any State may empower the executive thereof to make temporary appointments until the people fill the vacancies by election as the legislature may direct.\\n\\nThis amendment shall not be so construed as to affect the election or term of any Senator chosen before it becomes valid as part of the Constitution.\\n\\n18th Amendment\\nSection 1\\nAfter one year from the ratification of this article the manufacture, sale, or transportation of intoxicating liquors within, the importation thereof into, or the exportation thereof from the United States and all territory subject to the jurisdiction thereof for beverage purposes is hereby prohibited.\\n\\nSection 2\\nThe Congress and the several States shall have concurrent power to enforce this article by appropriate legislation.'),\n",
       " Document(metadata={'source': '../langchain-course-main/01-Data-Connections/some_data/US_Constitution.txt'}, page_content='Section 2\\nRepresentatives shall be apportioned among the several States according to their respective numbers, counting the whole number of persons in each State, excluding Indians not taxed. But when the right to vote at any election for the choice of electors for President and Vice-President of the United States, Representatives in Congress, the Executive and Judicial officers of a State, or the members of the Legislature thereof, is denied to any of the male inhabitants of such State, being twenty-one years of age, and citizens of the United States, or in any way abridged, except for participation in rebellion, or other crime, the basis of representation therein shall be reduced in the proportion which the number of such male citizens shall bear to the whole number of male citizens twenty-one years of age in such State.\\n\\nSection 3\\nNo person shall be a Senator or Representative in Congress, or elector of President and Vice-President, or hold any office, civil or military, under the United States, or under any State, who, having previously taken an oath, as a member of Congress, or as an officer of the United States, or as a member of any State legislature, or as an executive or judicial officer of any State, to support the Constitution of the United States, shall have engaged in insurrection or rebellion against the same, or given aid or comfort to the enemies thereof. But Congress may by a vote of two-thirds of each House, remove such disability.\\n\\nSection 4\\nThe validity of the public debt of the United States, authorized by law, including debts incurred for payment of pensions and bounties for services in suppressing insurrection or rebellion, shall not be questioned. But neither the United States nor any State shall assume or pay any debt or obligation incurred in aid of insurrection or rebellion against the United States, or any claim for the loss or emancipation of any slave; but all such debts, obligations and claims shall be held illegal and void.\\n\\nSection 5\\nThe Congress shall have the power to enforce, by appropriate legislation, the provisions of this article.\\n\\n15th Amendment\\nSection 1\\nThe right of citizens of the United States to vote shall not be denied or abridged by the United States or by any State on account of race, color, or previous condition of servitude.\\n\\nSection 2\\nThe Congress shall have the power to enforce this article by appropriate legislation.\\n\\n16th Amendment\\nThe Congress shall have power to lay and collect taxes on incomes, from whatever source derived, without apportionment among the several States, and without regard to any census or enumeration.\\n\\n17th Amendment\\nThe Senate of the United States shall be composed of two Senators from each State, elected by the people thereof, for six years; and each Senator shall have one vote. The electors in each State shall have the qualifications requisite for electors of the most numerous branch of the State legislatures.\\n\\nWhen vacancies happen in the representation of any State in the Senate, the executive authority of such State shall issue writs of election to fill such vacancies: Provided, That the legislature of any State may empower the executive thereof to make temporary appointments until the people fill the vacancies by election as the legislature may direct.\\n\\nThis amendment shall not be so construed as to affect the election or term of any Senator chosen before it becomes valid as part of the Constitution.\\n\\n18th Amendment\\nSection 1\\nAfter one year from the ratification of this article the manufacture, sale, or transportation of intoxicating liquors within, the importation thereof into, or the exportation thereof from the United States and all territory subject to the jurisdiction thereof for beverage purposes is hereby prohibited.\\n\\nSection 2\\nThe Congress and the several States shall have concurrent power to enforce this article by appropriate legislation.'),\n",
       " Document(metadata={'source': '../langchain-course-main/01-Data-Connections/some_data/US_Constitution.txt'}, page_content='Section 3\\nNo person shall be a Senator or Representative in Congress, or elector of President and Vice-President, or hold any office, civil or military, under the United States, or under any State, who, having previously taken an oath, as a member of Congress, or as an officer of the United States, or as a member of any State legislature, or as an executive or judicial officer of any State, to support the Constitution of the United States, shall have engaged in insurrection or rebellion against the same, or given aid or comfort to the enemies thereof. But Congress may by a vote of two-thirds of each House, remove such disability.\\n\\nSection 4\\nThe validity of the public debt of the United States, authorized by law, including debts incurred for payment of pensions and bounties for services in suppressing insurrection or rebellion, shall not be questioned. But neither the United States nor any State shall assume or pay any debt or obligation incurred in aid of insurrection or rebellion against the United States, or any claim for the loss or emancipation of any slave; but all such debts, obligations and claims shall be held illegal and void.\\n\\nSection 5\\nThe Congress shall have the power to enforce, by appropriate legislation, the provisions of this article.\\n\\n15th Amendment\\nSection 1\\nThe right of citizens of the United States to vote shall not be denied or abridged by the United States or by any State on account of race, color, or previous condition of servitude.\\n\\nSection 2\\nThe Congress shall have the power to enforce this article by appropriate legislation.\\n\\n16th Amendment\\nThe Congress shall have power to lay and collect taxes on incomes, from whatever source derived, without apportionment among the several States, and without regard to any census or enumeration.\\n\\n17th Amendment\\nThe Senate of the United States shall be composed of two Senators from each State, elected by the people thereof, for six years; and each Senator shall have one vote. The electors in each State shall have the qualifications requisite for electors of the most numerous branch of the State legislatures.\\n\\nWhen vacancies happen in the representation of any State in the Senate, the executive authority of such State shall issue writs of election to fill such vacancies: Provided, That the legislature of any State may empower the executive thereof to make temporary appointments until the people fill the vacancies by election as the legislature may direct.')]"
      ]
     },
     "execution_count": 44,
     "metadata": {},
     "output_type": "execute_result"
    }
   ],
   "source": [
    "docs = db_connection.similarity_search(query=question)\n",
    "docs"
   ]
  },
  {
   "cell_type": "code",
   "execution_count": 46,
   "id": "19d752f0-bdfb-43ce-a574-39429336177a",
   "metadata": {},
   "outputs": [
    {
     "data": {
      "text/plain": [
       "'The 15th Amendment to the United States Constitution prohibits the denial or abridgment of the right to vote based on race, color, or previous condition of servitude. It grants citizens the right to vote regardless of these factors.'"
      ]
     },
     "execution_count": 46,
     "metadata": {},
     "output_type": "execute_result"
    }
   ],
   "source": [
    "chain.run(input_documents=docs,question=question)"
   ]
  },
  {
   "cell_type": "code",
   "execution_count": 48,
   "id": "c3aadd3f-d531-462a-b8af-1df85bda0727",
   "metadata": {},
   "outputs": [
    {
     "data": {
      "text/plain": [
       "'The 15th Amendment states that the right of citizens of the United States to vote shall not be denied or abridged by the United States or by any State on account of race, color, or previous condition of servitude.\\nSOURCES: ../langchain-course-main/01-Data-Connections/some_data/US_Constitution.txt'"
      ]
     },
     "execution_count": 48,
     "metadata": {},
     "output_type": "execute_result"
    }
   ],
   "source": [
    "chain = load_qa_with_sources_chain(llm=chat_model,chain_type='stuff')\n",
    "chain.run(input_documents=docs,question=question)"
   ]
  }
 ],
 "metadata": {
  "kernelspec": {
   "display_name": "Python 3 (ipykernel)",
   "language": "python",
   "name": "python3"
  },
  "language_info": {
   "codemirror_mode": {
    "name": "ipython",
    "version": 3
   },
   "file_extension": ".py",
   "mimetype": "text/x-python",
   "name": "python",
   "nbconvert_exporter": "python",
   "pygments_lexer": "ipython3",
   "version": "3.12.7"
  }
 },
 "nbformat": 4,
 "nbformat_minor": 5
}
