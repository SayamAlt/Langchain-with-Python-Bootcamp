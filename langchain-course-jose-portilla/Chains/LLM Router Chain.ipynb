{
 "cells": [
  {
   "cell_type": "code",
   "execution_count": 50,
   "id": "b8b6da99-f046-4bc1-88ee-c78e744c7492",
   "metadata": {},
   "outputs": [],
   "source": [
    "from langchain.prompts import PromptTemplate\n",
    "from langchain.chat_models import ChatOpenAI\n",
    "from langchain.chains import LLMRouterChain, LLMChain\n",
    "from dotenv import load_dotenv\n",
    "load_dotenv()\n",
    "import os, warnings\n",
    "warnings.filterwarnings('ignore')\n",
    "from langchain.chains.router.multi_prompt_prompt import MULTI_PROMPT_ROUTER_TEMPLATE\n",
    "from langchain.chains.router.llm_router import LLMRouterChain, RouterOutputParser\n",
    "from langchain.chains.router import MultiPromptChain"
   ]
  },
  {
   "cell_type": "code",
   "execution_count": 18,
   "id": "9fa4783f-0d0d-4f67-b726-811e633e16a0",
   "metadata": {},
   "outputs": [],
   "source": [
    "api_key = os.environ['OPENAI_API_KEY']"
   ]
  },
  {
   "cell_type": "code",
   "execution_count": 4,
   "id": "e14cc51c-8391-4623-9f27-8e06fcc9e20c",
   "metadata": {},
   "outputs": [],
   "source": [
    "# Student ask a question about Physics\n",
    "# \"how does a magnet work?\"\n",
    "# \"explain Feynman diagram\"\n",
    "# INPUT --> ROUTER --> LLM decides which chain to route to --> Chain --> OUTPUT"
   ]
  },
  {
   "cell_type": "code",
   "execution_count": 68,
   "id": "7aa7e322-afec-43ff-87f2-62cdcb96ec44",
   "metadata": {},
   "outputs": [],
   "source": [
    "beginner_template = \"\"\"\n",
    "You are a physics teacher who is really focused on beginners and explaining complex concepts in simple to understand terms. \n",
    "You assume no prior knowledge.\n",
    "Here is your question:\\n{input}\n",
    "\"\"\""
   ]
  },
  {
   "cell_type": "code",
   "execution_count": 70,
   "id": "1d10ffbc-f47f-43a3-bb3a-fa757c243af3",
   "metadata": {},
   "outputs": [],
   "source": [
    "intermediate_template = \"\"\"\n",
    "You are a physics teacher who explains moderately difficult physics topics to intermediate audience members.\n",
    "You have some prior knowledge.\n",
    "Here is your question:\\n{input}\n",
    "\"\"\""
   ]
  },
  {
   "cell_type": "code",
   "execution_count": 72,
   "id": "3ac45726-3f71-4417-aca8-5f34a4218aed",
   "metadata": {},
   "outputs": [],
   "source": [
    "expert_template = \"\"\"\n",
    "You are a physics professor who explains physics topics to advanced audience members. \n",
    "You can assume anyone you answer has PhD in physics.\n",
    "Here is your question:\\n{input}\n",
    "\"\"\""
   ]
  },
  {
   "cell_type": "code",
   "execution_count": 74,
   "id": "f7cc17d7-1f0f-4c24-928f-48a566ded6bb",
   "metadata": {},
   "outputs": [],
   "source": [
    "# Route Prompt Information\n",
    "# [] NAME, DESCRIPTION, TEMPLATE\n",
    "prompt_info = [\n",
    "    {\n",
    "        \"name\": 'beginner physics',\n",
    "        \"description\": 'Answers basic physics questions',\n",
    "        \"template\": beginner_template\n",
    "    },\n",
    "    {\n",
    "        \"name\": 'intermediate physics',\n",
    "        \"description\": 'Answers moderate physics questions',\n",
    "        \"template\": intermediate_template\n",
    "    },\n",
    "    {\n",
    "        \"name\": 'advanced physics',\n",
    "        \"description\": 'Answers advanced physics questions',\n",
    "        \"template\": expert_template\n",
    "    }\n",
    "]"
   ]
  },
  {
   "cell_type": "code",
   "execution_count": 76,
   "id": "85fbd235-4e4e-49ce-ad7e-79afff05f5bd",
   "metadata": {},
   "outputs": [],
   "source": [
    "llm = ChatOpenAI(api_key=api_key)"
   ]
  },
  {
   "cell_type": "code",
   "execution_count": 78,
   "id": "197af04e-b92b-4e98-835e-e2060e896c94",
   "metadata": {},
   "outputs": [],
   "source": [
    "destination_chains = {}\n",
    "\n",
    "for p_info in prompt_info:\n",
    "    name = p_info['name']\n",
    "    prompt_template = p_info['template']\n",
    "    prompt = ChatPromptTemplate.from_template(template=prompt_template)\n",
    "    chain = LLMChain(llm=llm,prompt=prompt)\n",
    "    destination_chains[name] = chain"
   ]
  },
  {
   "cell_type": "code",
   "execution_count": 80,
   "id": "a3fcb138-7700-47c9-864d-51ce702dc099",
   "metadata": {},
   "outputs": [],
   "source": [
    "# LLM Chain --> Template"
   ]
  },
  {
   "cell_type": "code",
   "execution_count": 82,
   "id": "2d2c0516-9f48-4ea1-9cab-e7f48960c5cd",
   "metadata": {},
   "outputs": [],
   "source": [
    "default_prompt = ChatPromptTemplate.from_template(\"{input}\")\n",
    "default_chain = LLMChain(llm=llm,prompt=default_prompt)"
   ]
  },
  {
   "cell_type": "code",
   "execution_count": 84,
   "id": "640747aa-6bd4-4e4e-b48b-cdb223d4c0bb",
   "metadata": {},
   "outputs": [
    {
     "name": "stdout",
     "output_type": "stream",
     "text": [
      "Given a raw text input to a language model select the model prompt best suited for the input. You will be given the names of the available prompts and a description of what the prompt is best suited for. You may also revise the original input if you think that revising it will ultimately lead to a better response from the language model.\n",
      "\n",
      "<< FORMATTING >>\n",
      "Return a markdown code snippet with a JSON object formatted to look like:\n",
      "```json\n",
      "{{{{\n",
      "    \"destination\": string \\ name of the prompt to use or \"DEFAULT\"\n",
      "    \"next_inputs\": string \\ a potentially modified version of the original input\n",
      "}}}}\n",
      "```\n",
      "\n",
      "REMEMBER: \"destination\" MUST be one of the candidate prompt names specified below OR it can be \"DEFAULT\" if the input is not well suited for any of the candidate prompts.\n",
      "REMEMBER: \"next_inputs\" can just be the original input if you don't think any modifications are needed.\n",
      "\n",
      "<< CANDIDATE PROMPTS >>\n",
      "{destinations}\n",
      "\n",
      "<< INPUT >>\n",
      "{{input}}\n",
      "\n",
      "<< OUTPUT (must include ```json at the start of the response) >>\n",
      "<< OUTPUT (must end with ```) >>\n",
      "\n"
     ]
    }
   ],
   "source": [
    "print(MULTI_PROMPT_ROUTER_TEMPLATE)"
   ]
  },
  {
   "cell_type": "code",
   "execution_count": 86,
   "id": "eeb30044-1897-4add-9a7d-d5afc4eed756",
   "metadata": {},
   "outputs": [
    {
     "data": {
      "text/plain": [
       "['beginner physics: Answers basic physics questions',\n",
       " 'intermediate physics: Answers moderate physics questions',\n",
       " 'advanced physics: Answers advanced physics questions']"
      ]
     },
     "execution_count": 86,
     "metadata": {},
     "output_type": "execute_result"
    }
   ],
   "source": [
    "destinations = [f\"{p_info['name']}: {p_info['description']}\" for p_info in prompt_info]\n",
    "destinations"
   ]
  },
  {
   "cell_type": "code",
   "execution_count": 88,
   "id": "fd3bd11c-e214-481c-9ce1-1d7af428ab5d",
   "metadata": {},
   "outputs": [
    {
     "name": "stdout",
     "output_type": "stream",
     "text": [
      "beginner physics: Answers basic physics questions\n",
      "intermediate physics: Answers moderate physics questions\n",
      "advanced physics: Answers advanced physics questions\n"
     ]
    }
   ],
   "source": [
    "destinations_str = \"\\n\".join(destinations)\n",
    "print(destinations_str)"
   ]
  },
  {
   "cell_type": "code",
   "execution_count": 90,
   "id": "68d0e2ed-befe-4b63-b893-3b1e8e1f580f",
   "metadata": {},
   "outputs": [
    {
     "name": "stdout",
     "output_type": "stream",
     "text": [
      "Given a raw text input to a language model select the model prompt best suited for the input. You will be given the names of the available prompts and a description of what the prompt is best suited for. You may also revise the original input if you think that revising it will ultimately lead to a better response from the language model.\n",
      "\n",
      "<< FORMATTING >>\n",
      "Return a markdown code snippet with a JSON object formatted to look like:\n",
      "```json\n",
      "{{\n",
      "    \"destination\": string \\ name of the prompt to use or \"DEFAULT\"\n",
      "    \"next_inputs\": string \\ a potentially modified version of the original input\n",
      "}}\n",
      "```\n",
      "\n",
      "REMEMBER: \"destination\" MUST be one of the candidate prompt names specified below OR it can be \"DEFAULT\" if the input is not well suited for any of the candidate prompts.\n",
      "REMEMBER: \"next_inputs\" can just be the original input if you don't think any modifications are needed.\n",
      "\n",
      "<< CANDIDATE PROMPTS >>\n",
      "beginner physics: Answers basic physics questions\n",
      "intermediate physics: Answers moderate physics questions\n",
      "advanced physics: Answers advanced physics questions\n",
      "\n",
      "<< INPUT >>\n",
      "{input}\n",
      "\n",
      "<< OUTPUT (must include ```json at the start of the response) >>\n",
      "<< OUTPUT (must end with ```) >>\n",
      "\n"
     ]
    }
   ],
   "source": [
    "router_template = MULTI_PROMPT_ROUTER_TEMPLATE.format(destinations=destinations_str)\n",
    "print(router_template)"
   ]
  },
  {
   "cell_type": "code",
   "execution_count": 92,
   "id": "9cd09029-f14d-475d-aff7-ce64403bad87",
   "metadata": {},
   "outputs": [],
   "source": [
    "router_prompt = PromptTemplate(template=router_template,\n",
    "                               input_variables=['input'],\n",
    "                               output_parser=RouterOutputParser())"
   ]
  },
  {
   "cell_type": "code",
   "execution_count": 94,
   "id": "7c4cd818-3938-4a9a-bbcd-b7157b1fd2b4",
   "metadata": {},
   "outputs": [],
   "source": [
    "router_chain = LLMRouterChain.from_llm(llm=llm,prompt=router_prompt)"
   ]
  },
  {
   "cell_type": "code",
   "execution_count": 96,
   "id": "f8aee325-7a37-44e4-bc4b-79575d28d200",
   "metadata": {},
   "outputs": [],
   "source": [
    "chain = MultiPromptChain(router_chain=router_chain,\n",
    "                         destination_chains=destination_chains,\n",
    "                         default_chain=default_chain,\n",
    "                         verbose=True)"
   ]
  },
  {
   "cell_type": "code",
   "execution_count": 98,
   "id": "83ca3058-7626-4245-bdd9-d02da5dad5d6",
   "metadata": {},
   "outputs": [
    {
     "name": "stdout",
     "output_type": "stream",
     "text": [
      "\n",
      "\n",
      "\u001b[1m> Entering new MultiPromptChain chain...\u001b[0m\n",
      "beginner physics: {'input': 'How do magnets work?'}\n",
      "\u001b[1m> Finished chain.\u001b[0m\n"
     ]
    },
    {
     "data": {
      "text/plain": [
       "'Magnets work by creating a magnetic field around them. This magnetic field is invisible but it is what allows magnets to attract or repel other objects made of certain materials, like iron or steel. Inside a magnet, there are tiny particles called atoms that have their own magnetic fields. When these atoms are aligned in a specific way, they create a stronger magnetic field. When two magnets are brought close together, their magnetic fields interact with each other, causing them to either be attracted or repelled from each other. This is how magnets work to stick to metal objects or push away from each other.'"
      ]
     },
     "execution_count": 98,
     "metadata": {},
     "output_type": "execute_result"
    }
   ],
   "source": [
    "chain.run(\"How do magnets work?\")"
   ]
  },
  {
   "cell_type": "code",
   "execution_count": 100,
   "id": "a482b49b-dd61-45a4-b697-73954cc38c6e",
   "metadata": {},
   "outputs": [
    {
     "name": "stdout",
     "output_type": "stream",
     "text": [
      "\n",
      "\n",
      "\u001b[1m> Entering new MultiPromptChain chain...\u001b[0m\n",
      "intermediate physics: {'input': 'Explain the concept of Feynman Diagrams.'}\n",
      "\u001b[1m> Finished chain.\u001b[0m\n"
     ]
    },
    {
     "data": {
      "text/plain": [
       "'Feynman diagrams are a graphical representation of the interactions between particles in quantum field theory, named after the physicist Richard Feynman. They are used to calculate the probability of different outcomes of particle interactions.\\n\\nIn a Feynman diagram, particles are represented by lines, with arrows indicating the direction of their movement in time. The interactions between particles are represented by vertices, where lines meet. Each vertex corresponds to a term in the mathematical expression for the interaction.\\n\\nThe lines in a Feynman diagram can be of different types, representing different types of particles such as fermions (like electrons) or bosons (like photons). The diagram shows how particles move through spacetime, exchanging momentum and energy through interactions.\\n\\nBy using Feynman diagrams, physicists can calculate the probability amplitudes for different outcomes of particle interactions. This allows them to make predictions about the behavior of particles at the quantum level.\\n\\nOverall, Feynman diagrams provide a powerful visual tool for understanding and calculating the complex interactions between particles in quantum field theory.'"
      ]
     },
     "execution_count": 100,
     "metadata": {},
     "output_type": "execute_result"
    }
   ],
   "source": [
    "chain.run(\"Explain Feynman Diagrams.\")"
   ]
  },
  {
   "cell_type": "code",
   "execution_count": 102,
   "id": "ea33aaba-b7bb-4f54-966d-a2d7e1199868",
   "metadata": {},
   "outputs": [
    {
     "name": "stdout",
     "output_type": "stream",
     "text": [
      "\n",
      "\n",
      "\u001b[1m> Entering new MultiPromptChain chain...\u001b[0m\n",
      "advanced physics: {'input': 'Can you describe quantum gravity?'}\n",
      "\u001b[1m> Finished chain.\u001b[0m\n"
     ]
    },
    {
     "data": {
      "text/plain": [
       "'Quantum gravity is a theory that aims to unify the principles of quantum mechanics, which describes the behavior of particles on the smallest scales, with the principles of general relativity, which describes the force of gravity on the largest scales. \\n\\nIn classical physics, gravity is described by the theory of general relativity, which explains how massive objects like planets and stars curve the fabric of spacetime, creating the force we perceive as gravity. However, when we try to apply the principles of quantum mechanics to gravity, we encounter significant challenges and inconsistencies.\\n\\nQuantum gravity seeks to reconcile these two theories by describing gravity as a quantum force carried by particles called gravitons. The theory suggests that spacetime is not continuous, but instead made up of tiny, discrete units that interact with each other at the smallest scales.\\n\\nOne of the leading approaches to quantum gravity is string theory, which posits that the fundamental building blocks of the universe are not particles but rather tiny, vibrating strings. These strings can give rise to the various particles and forces we observe in the universe, including gravity.\\n\\nOverall, quantum gravity is a complex and challenging field of study that is still actively being researched by physicists around the world. It holds the promise of providing a deeper understanding of the fundamental nature of the universe and potentially resolving some of the most profound questions in physics.'"
      ]
     },
     "execution_count": 102,
     "metadata": {},
     "output_type": "execute_result"
    }
   ],
   "source": [
    "chain.run(\"Can you describe quantum gravity?\")"
   ]
  },
  {
   "cell_type": "code",
   "execution_count": 104,
   "id": "36362224-8ca0-4eb8-a6e7-c3f25a66bb05",
   "metadata": {},
   "outputs": [
    {
     "name": "stdout",
     "output_type": "stream",
     "text": [
      "\n",
      "\n",
      "\u001b[1m> Entering new MultiPromptChain chain...\u001b[0m\n",
      "advanced physics: {'input': \"Illustrate Einstein's theory of relativity.\"}\n",
      "\u001b[1m> Finished chain.\u001b[0m\n"
     ]
    },
    {
     "data": {
      "text/plain": [
       "\"Einstein's theory of relativity is a fundamental pillar of modern physics that revolutionized our understanding of space and time. There are two main components to this theory: the special theory of relativity and the general theory of relativity.\\n\\nThe special theory of relativity, proposed by Albert Einstein in 1905, is based on two postulates: the laws of physics are the same for all observers in uniform motion, and the speed of light in a vacuum is constant for all observers regardless of their relative motion. From these postulates, Einstein derived the famous equations E=mc^2 and the Lorentz transformations, which describe how time and space are perceived differently by observers in relative motion.\\n\\nThe general theory of relativity, published by Einstein in 1915, extends the principles of the special theory to include gravity as a curvature of spacetime caused by the presence of mass and energy. In this theory, massive objects like stars and planets warp the fabric of spacetime, causing other objects to move along curved paths as they respond to this curvature. The theory also predicts phenomena like gravitational time dilation, gravitational waves, and the bending of light around massive objects.\\n\\nOverall, Einstein's theory of relativity has been confirmed by numerous experiments and observations, and it continues to be a cornerstone of modern physics, providing a framework for understanding the universe on both the largest and smallest scales.\""
      ]
     },
     "execution_count": 104,
     "metadata": {},
     "output_type": "execute_result"
    }
   ],
   "source": [
    "chain.run(\"Illustrate Einstein's theory of relativity.\")"
   ]
  },
  {
   "cell_type": "code",
   "execution_count": 106,
   "id": "727cb56a-ca02-4365-9dfa-178c45f6b457",
   "metadata": {},
   "outputs": [
    {
     "name": "stdout",
     "output_type": "stream",
     "text": [
      "\n",
      "\n",
      "\u001b[1m> Entering new MultiPromptChain chain...\u001b[0m\n",
      "beginner physics: {'input': 'Explain the three laws of motion.'}\n",
      "\u001b[1m> Finished chain.\u001b[0m\n"
     ]
    },
    {
     "data": {
      "text/plain": [
       "\"Sure! The three laws of motion were formulated by Sir Isaac Newton and they are the foundation of classical mechanics. Let's break them down in simple terms:\\n\\n1. Newton's First Law of Motion: This law is often called the law of inertia. It states that an object at rest will stay at rest, and an object in motion will stay in motion unless acted upon by an external force. In other words, objects like to keep doing what they're doing unless something changes that.\\n\\n2. Newton's Second Law of Motion: This law relates the force applied to an object, its mass, and its acceleration. It is summarized by the equation F = ma, where F represents the force applied to an object, m represents the object's mass, and a represents its acceleration. Essentially, the greater the force applied to an object, the greater its acceleration will be, and the more massive an object is, the harder it is to accelerate.\\n\\n3. Newton's Third Law of Motion: This law states that for every action, there is an equal and opposite reaction. In simpler terms, when one object exerts a force on another object, the second object exerts an equal and opposite force back on the first object. This is why when you push on a wall, the wall pushes back on you with the same amount of force.\\n\\nThese three laws of motion help us understand how objects move and interact with each other in the world around us.\""
      ]
     },
     "execution_count": 106,
     "metadata": {},
     "output_type": "execute_result"
    }
   ],
   "source": [
    "chain.run(\"Explain the three laws of motion.\")"
   ]
  },
  {
   "cell_type": "code",
   "execution_count": 108,
   "id": "3aac7f83-2c76-42e9-ad8f-b2130bfb2297",
   "metadata": {},
   "outputs": [
    {
     "name": "stdout",
     "output_type": "stream",
     "text": [
      "\n",
      "\n",
      "\u001b[1m> Entering new MultiPromptChain chain...\u001b[0m\n",
      "beginner physics: {'input': 'What are the laws of thermodynamics?'}\n",
      "\u001b[1m> Finished chain.\u001b[0m\n"
     ]
    },
    {
     "data": {
      "text/plain": [
       "'The laws of thermodynamics are fundamental principles that govern how energy behaves in the universe. There are four laws of thermodynamics, but the first and second laws are the most commonly referred to.\\n\\nThe first law of thermodynamics, also known as the Law of Conservation of Energy, states that energy cannot be created or destroyed, only transferred or converted from one form to another. This means that the total energy in a closed system remains constant.\\n\\nThe second law of thermodynamics states that the entropy, or disorder, of an isolated system will always increase over time. This law is often summarized as \"heat flows from hot to cold\" and explains why processes tend to move towards equilibrium.\\n\\nThese laws are crucial for understanding how energy moves and changes in systems, from the heat flowing in a cup of coffee to the way engines work. They provide a framework for understanding and predicting the behavior of energy in the universe.'"
      ]
     },
     "execution_count": 108,
     "metadata": {},
     "output_type": "execute_result"
    }
   ],
   "source": [
    "chain.run(\"What are the laws of thermodynamics?\")"
   ]
  },
  {
   "cell_type": "code",
   "execution_count": 116,
   "id": "861e6ff1-2193-445c-9ef6-f118af7574db",
   "metadata": {},
   "outputs": [
    {
     "name": "stdout",
     "output_type": "stream",
     "text": [
      "\n",
      "\n",
      "\u001b[1m> Entering new MultiPromptChain chain...\u001b[0m\n",
      "advanced physics: {'input': \"Explain Maxwell's theory on electromagnetic waves.\"}\n",
      "\u001b[1m> Finished chain.\u001b[0m\n"
     ]
    },
    {
     "data": {
      "text/plain": [
       "\"Maxwell's theory on electromagnetic waves is a fundamental aspect of classical electromagnetism. In the mid-19th century, James Clerk Maxwell formulated a set of equations known as Maxwell's equations that describe how electric and magnetic fields interact and propagate through space.\\n\\nOne of the key insights of Maxwell's theory is that changing electric fields can create magnetic fields, and changing magnetic fields can create electric fields. This interplay between electric and magnetic fields allows for the generation and propagation of electromagnetic waves.\\n\\nMaxwell's equations predict the existence of electromagnetic waves, which are oscillating patterns of electric and magnetic fields that travel through space at the speed of light. These waves can have a wide range of frequencies, from radio waves to gamma rays.\\n\\nOne of the most famous consequences of Maxwell's theory is the prediction of the existence of light as an electromagnetic wave. This unification of electricity, magnetism, and light was a major breakthrough in physics and laid the foundation for the development of modern electromagnetic theory.\\n\\nOverall, Maxwell's theory on electromagnetic waves provides a comprehensive framework for understanding the behavior of electric and magnetic fields and how they give rise to the phenomenon of electromagnetic radiation.\""
      ]
     },
     "execution_count": 116,
     "metadata": {},
     "output_type": "execute_result"
    }
   ],
   "source": [
    "chain.run(\"Explain Maxwell's theory on electromagnetic waves.\")"
   ]
  },
  {
   "cell_type": "code",
   "execution_count": 118,
   "id": "81d26619-5be3-4127-bae2-0090147bdd68",
   "metadata": {},
   "outputs": [
    {
     "name": "stdout",
     "output_type": "stream",
     "text": [
      "\n",
      "\n",
      "\u001b[1m> Entering new MultiPromptChain chain...\u001b[0m\n",
      "intermediate physics: {'input': 'Explain the concept of perturbation theory'}\n",
      "\u001b[1m> Finished chain.\u001b[0m\n"
     ]
    },
    {
     "data": {
      "text/plain": [
       "\"Perturbation theory is a mathematical method used in physics to solve complex problems by breaking them down into simpler, more manageable parts. It is particularly useful when dealing with systems that cannot be solved exactly, such as those that involve interactions between multiple particles or forces.\\n\\nThe basic idea behind perturbation theory is to start with a known solution to a simpler problem, and then add small corrections to account for the more complicated interactions at play. These corrections are typically expressed as a series of terms, each representing a higher order correction to the solution.\\n\\nIn practice, perturbation theory is often used to approximate the behavior of a system by considering how it deviates from a known, idealized case. By systematically adding higher order corrections, physicists can obtain increasingly accurate predictions for the system's behavior.\\n\\nOverall, perturbation theory is a powerful tool that allows physicists to tackle complex problems in a systematic and rigorous way, making it a valuable technique in many areas of physics.\""
      ]
     },
     "execution_count": 118,
     "metadata": {},
     "output_type": "execute_result"
    }
   ],
   "source": [
    "chain.run(\"Describe perturbation theory\")"
   ]
  }
 ],
 "metadata": {
  "kernelspec": {
   "display_name": "Python 3 (ipykernel)",
   "language": "python",
   "name": "python3"
  },
  "language_info": {
   "codemirror_mode": {
    "name": "ipython",
    "version": 3
   },
   "file_extension": ".py",
   "mimetype": "text/x-python",
   "name": "python",
   "nbconvert_exporter": "python",
   "pygments_lexer": "ipython3",
   "version": "3.12.7"
  }
 },
 "nbformat": 4,
 "nbformat_minor": 5
}
