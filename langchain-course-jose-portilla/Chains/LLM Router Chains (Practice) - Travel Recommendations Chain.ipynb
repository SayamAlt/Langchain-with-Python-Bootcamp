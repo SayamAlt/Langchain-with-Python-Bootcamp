{
 "cells": [
  {
   "cell_type": "code",
   "execution_count": 4,
   "id": "8f7d5498-a303-48c8-83b0-048b2b6b5044",
   "metadata": {},
   "outputs": [],
   "source": [
    "from langchain.chains import LLMRouterChain, LLMChain\n",
    "from langchain.chat_models import ChatOpenAI\n",
    "from langchain.prompts import ChatPromptTemplate, PromptTemplate\n",
    "from langchain.chains.router.multi_prompt_prompt import MULTI_PROMPT_ROUTER_TEMPLATE\n",
    "from dotenv import load_dotenv\n",
    "from langchain.chains.router.llm_router import LLMRouterChain, RouterOutputParser\n",
    "from langchain.chains.router import MultiPromptChain\n",
    "import os, warnings\n",
    "warnings.filterwarnings('ignore')"
   ]
  },
  {
   "cell_type": "code",
   "execution_count": 6,
   "id": "3fc2c6ef-66c5-4176-ac26-2a9ce1cdfe6b",
   "metadata": {},
   "outputs": [],
   "source": [
    "load_dotenv()\n",
    "api_key = os.environ['OPENAI_API_KEY']"
   ]
  },
  {
   "cell_type": "code",
   "execution_count": 8,
   "id": "2cc7ab01-09b4-4688-8e12-a4a9a784f3e7",
   "metadata": {},
   "outputs": [],
   "source": [
    "# User asks a question about a location for travel\n",
    "# INPUT -> ROUTER -> LLM decides which chain to direct towards -> Chain -> OUTPUT"
   ]
  },
  {
   "cell_type": "code",
   "execution_count": 90,
   "id": "58f55733-5945-4f44-979a-6621f8e89581",
   "metadata": {},
   "outputs": [],
   "source": [
    "travel_recommendations_template = \"\"\"\n",
    "You are a travel expert who specializes in providing recommendations for attractions, local experiences and must-visit places for a specific location.\n",
    "Here is user's desired location:\\n{input}\n",
    "\"\"\""
   ]
  },
  {
   "cell_type": "code",
   "execution_count": 92,
   "id": "929dea20-6f0f-4a31-ab64-fa6f6b08be66",
   "metadata": {},
   "outputs": [],
   "source": [
    "visa_regulations_template = \"\"\"\n",
    "You are a visa and immigration expert who provides expert guidance on visa requirements, application processes and immigration policies for a specific location.\n",
    "Here is user's desired location:\\n{input}\n",
    "\"\"\""
   ]
  },
  {
   "cell_type": "code",
   "execution_count": 94,
   "id": "17536fe8-b541-4e04-9c97-56964bf19a4e",
   "metadata": {},
   "outputs": [],
   "source": [
    "accommodations_template = \"\"\"\n",
    "You are a real estate expert who has enormous knowledge about all types of accommodations in a specific location.\n",
    "Provide hotel recommendations, price comparisons and alternative stay options in {input}\n",
    "\"\"\""
   ]
  },
  {
   "cell_type": "code",
   "execution_count": 96,
   "id": "0fc139ad-52e2-4b41-b2c6-aaadc4279611",
   "metadata": {},
   "outputs": [],
   "source": [
    "food_dining_template = \"\"\"\n",
    "You are a food and dining expert who has expert knowledge about all dishes and cuisines available within a specific location.\n",
    "Suggest must-try foods, restaurant recommendations and dietary options in {input}\n",
    "\"\"\""
   ]
  },
  {
   "cell_type": "code",
   "execution_count": 98,
   "id": "010c18a8-e452-486b-b828-ac9f984e77ee",
   "metadata": {},
   "outputs": [],
   "source": [
    "travel_budget_template = \"\"\"\n",
    "You are a travel budget expert who has ample knowledge of total budget required for travel to a specific location.\n",
    "Offer budget-planning trips and real-time currency exchange rates for travel to {input}\n",
    "\"\"\""
   ]
  },
  {
   "cell_type": "code",
   "execution_count": 100,
   "id": "113760b1-cc7c-4a8f-96a8-79e4e9a4d874",
   "metadata": {},
   "outputs": [],
   "source": [
    "# Route Prompt Information\n",
    "# [] -> {} -> Name, Description and Template\n",
    "prompt_info = [\n",
    "    {\n",
    "        \"name\": \"destination guide\",\n",
    "        \"description\": \"Recommends tourist attractions and must-visit places for a location\",\n",
    "        \"template\": travel_recommendations_template\n",
    "    },\n",
    "    {\n",
    "        \"name\": \"visa & immigration\",\n",
    "        \"description\": \"Guides users on visa requirements and immigration policies for a location\",\n",
    "        \"template\": visa_regulations_template\n",
    "    },\n",
    "    {\n",
    "        \"name\": \"accommodation\",\n",
    "        \"description\": \"Provides hotel recommendations and price comparisons for a location\",\n",
    "        \"template\": accommodations_template\n",
    "    },\n",
    "    {\n",
    "        \"name\": \"travel budget & currency\",\n",
    "        \"description\": \"Offers budget planning tips and real-time currency exchange rates for a location\",\n",
    "        \"template\": travel_budget_template\n",
    "    },\n",
    "    {\n",
    "        \"name\": \"food & dining\",\n",
    "        \"description\": \"Suggests must-try foods and restaurants for a location\",\n",
    "        \"template\": food_dining_template\n",
    "    }\n",
    "]"
   ]
  },
  {
   "cell_type": "code",
   "execution_count": 124,
   "id": "8e6d06c1-586d-4668-b00f-058308dd5cf9",
   "metadata": {},
   "outputs": [],
   "source": [
    "llm = ChatOpenAI(api_key=api_key)"
   ]
  },
  {
   "cell_type": "code",
   "execution_count": 128,
   "id": "8dffebc5-0419-4a0b-957e-0c26a591f09b",
   "metadata": {},
   "outputs": [],
   "source": [
    "destinations_chain = {}\n",
    "\n",
    "for p_info in prompt_info:\n",
    "    name = p_info['name']\n",
    "    prompt_template = p_info['template']\n",
    "    prompt = ChatPromptTemplate.from_template(prompt_template)\n",
    "    chain = LLMChain(llm=llm,prompt=prompt)\n",
    "    destinations_chain[name] = chain"
   ]
  },
  {
   "cell_type": "code",
   "execution_count": 130,
   "id": "4ced36bd-1bb6-4aef-96f0-e3277a804f0c",
   "metadata": {},
   "outputs": [],
   "source": [
    "default_template = \"{input}\"\n",
    "default_prompt = ChatPromptTemplate.from_template(default_template)\n",
    "default_chain = LLMChain(llm=llm,prompt=default_prompt)"
   ]
  },
  {
   "cell_type": "code",
   "execution_count": 132,
   "id": "95c9808b-1e37-4e2f-8330-2671fd893bee",
   "metadata": {},
   "outputs": [
    {
     "name": "stdout",
     "output_type": "stream",
     "text": [
      "Given a raw text input to a language model select the model prompt best suited for the input. You will be given the names of the available prompts and a description of what the prompt is best suited for. You may also revise the original input if you think that revising it will ultimately lead to a better response from the language model.\n",
      "\n",
      "<< FORMATTING >>\n",
      "Return a markdown code snippet with a JSON object formatted to look like:\n",
      "```json\n",
      "{{{{\n",
      "    \"destination\": string \\ name of the prompt to use or \"DEFAULT\"\n",
      "    \"next_inputs\": string \\ a potentially modified version of the original input\n",
      "}}}}\n",
      "```\n",
      "\n",
      "REMEMBER: \"destination\" MUST be one of the candidate prompt names specified below OR it can be \"DEFAULT\" if the input is not well suited for any of the candidate prompts.\n",
      "REMEMBER: \"next_inputs\" can just be the original input if you don't think any modifications are needed.\n",
      "\n",
      "<< CANDIDATE PROMPTS >>\n",
      "{destinations}\n",
      "\n",
      "<< INPUT >>\n",
      "{{input}}\n",
      "\n",
      "<< OUTPUT (must include ```json at the start of the response) >>\n",
      "<< OUTPUT (must end with ```) >>\n",
      "\n"
     ]
    }
   ],
   "source": [
    "print(MULTI_PROMPT_ROUTER_TEMPLATE)"
   ]
  },
  {
   "cell_type": "code",
   "execution_count": 134,
   "id": "e06eb1b9-9780-4fb3-b8b7-70f682ecbba1",
   "metadata": {},
   "outputs": [
    {
     "data": {
      "text/plain": [
       "['destination guide: Recommends tourist attractions and must-visit places for a location',\n",
       " 'visa & immigration: Guides users on visa requirements and immigration policies for a location',\n",
       " 'accommodation: Provides hotel recommendations and price comparisons for a location',\n",
       " 'travel budget & currency: Offers budget planning tips and real-time currency exchange rates for a location',\n",
       " 'food & dining: Suggests must-try foods and restaurants for a location']"
      ]
     },
     "execution_count": 134,
     "metadata": {},
     "output_type": "execute_result"
    }
   ],
   "source": [
    "destinations = [f\"{p_info['name']}: {p_info['description']}\" for p_info in prompt_info]\n",
    "destinations"
   ]
  },
  {
   "cell_type": "code",
   "execution_count": 136,
   "id": "539f03ba-973b-48d4-b2d3-d0a491e13dbe",
   "metadata": {},
   "outputs": [
    {
     "name": "stdout",
     "output_type": "stream",
     "text": [
      "destination guide: Recommends tourist attractions and must-visit places for a location\n",
      "visa & immigration: Guides users on visa requirements and immigration policies for a location\n",
      "accommodation: Provides hotel recommendations and price comparisons for a location\n",
      "travel budget & currency: Offers budget planning tips and real-time currency exchange rates for a location\n",
      "food & dining: Suggests must-try foods and restaurants for a location\n"
     ]
    }
   ],
   "source": [
    "destinations_str = \"\\n\".join(destinations)\n",
    "print(destinations_str)"
   ]
  },
  {
   "cell_type": "code",
   "execution_count": 138,
   "id": "417188cd-7583-4d96-8274-afbdb5e2594b",
   "metadata": {},
   "outputs": [
    {
     "name": "stdout",
     "output_type": "stream",
     "text": [
      "Given a raw text input to a language model select the model prompt best suited for the input. You will be given the names of the available prompts and a description of what the prompt is best suited for. You may also revise the original input if you think that revising it will ultimately lead to a better response from the language model.\n",
      "\n",
      "<< FORMATTING >>\n",
      "Return a markdown code snippet with a JSON object formatted to look like:\n",
      "```json\n",
      "{{\n",
      "    \"destination\": string \\ name of the prompt to use or \"DEFAULT\"\n",
      "    \"next_inputs\": string \\ a potentially modified version of the original input\n",
      "}}\n",
      "```\n",
      "\n",
      "REMEMBER: \"destination\" MUST be one of the candidate prompt names specified below OR it can be \"DEFAULT\" if the input is not well suited for any of the candidate prompts.\n",
      "REMEMBER: \"next_inputs\" can just be the original input if you don't think any modifications are needed.\n",
      "\n",
      "<< CANDIDATE PROMPTS >>\n",
      "destination guide: Recommends tourist attractions and must-visit places for a location\n",
      "visa & immigration: Guides users on visa requirements and immigration policies for a location\n",
      "accommodation: Provides hotel recommendations and price comparisons for a location\n",
      "travel budget & currency: Offers budget planning tips and real-time currency exchange rates for a location\n",
      "food & dining: Suggests must-try foods and restaurants for a location\n",
      "\n",
      "<< INPUT >>\n",
      "{input}\n",
      "\n",
      "<< OUTPUT (must include ```json at the start of the response) >>\n",
      "<< OUTPUT (must end with ```) >>\n",
      "\n"
     ]
    }
   ],
   "source": [
    "router_template = MULTI_PROMPT_ROUTER_TEMPLATE.format(destinations=destinations_str)\n",
    "print(router_template)"
   ]
  },
  {
   "cell_type": "code",
   "execution_count": 140,
   "id": "4a31d3dd-dba0-4ca7-bad1-3ad8384101e9",
   "metadata": {},
   "outputs": [],
   "source": [
    "router_prompt = PromptTemplate(template=router_template,\n",
    "                               input_variables=['input'],\n",
    "                               output_parser=RouterOutputParser())"
   ]
  },
  {
   "cell_type": "code",
   "execution_count": 142,
   "id": "d3aa2f59-d374-4916-840e-20cebb756d3a",
   "metadata": {},
   "outputs": [],
   "source": [
    "router_chain = LLMRouterChain.from_llm(llm=llm,prompt=router_prompt)"
   ]
  },
  {
   "cell_type": "code",
   "execution_count": 144,
   "id": "f5556184-9872-4dc5-a862-4d2bbf22811a",
   "metadata": {},
   "outputs": [],
   "source": [
    "chain = MultiPromptChain(router_chain=router_chain,\n",
    "                         destination_chains=destinations_chain,\n",
    "                         default_chain=default_chain,\n",
    "                         verbose=True)"
   ]
  },
  {
   "cell_type": "code",
   "execution_count": 148,
   "id": "28c6055a-0941-4b58-af89-77c68c10b4f6",
   "metadata": {},
   "outputs": [
    {
     "name": "stdout",
     "output_type": "stream",
     "text": [
      "\n",
      "\n",
      "\u001b[1m> Entering new MultiPromptChain chain...\u001b[0m\n",
      "destination guide: {'input': 'What are the best places to visit in Barcelona?'}\n",
      "\u001b[1m> Finished chain.\u001b[0m\n",
      "Barcelona is a vibrant and diverse city with a plethora of attractions to explore. Here are some must-visit places in Barcelona:\n",
      "\n",
      "1. Sagrada Familia - This iconic basilica designed by Antoni Gaudí is a must-see attraction in Barcelona. The breathtaking architecture and intricate details make it a truly unique and special place to visit.\n",
      "\n",
      "2. Park Güell - Another masterpiece by Gaudí, Park Güell is a beautiful park filled with colorful mosaics, unique structures, and stunning views of the city. It's a great spot to relax and enjoy the beauty of Barcelona.\n",
      "\n",
      "3. La Rambla - This bustling street in the heart of Barcelona is a popular spot for tourists and locals alike. Lined with shops, restaurants, and street performers, La Rambla is a great place to soak up the lively atmosphere of the city.\n",
      "\n",
      "4. Gothic Quarter - Explore the narrow streets and historic buildings of the Gothic Quarter, one of the oldest neighborhoods in Barcelona. Visit the Barcelona Cathedral, Plaça Reial, and other historic sites in this charming area.\n",
      "\n",
      "5. Montjuïc - Head to Montjuïc for stunning views of the city and a variety of attractions, including the Magic Fountain, Montjuïc Castle, and the Olympic Stadium.\n",
      "\n",
      "6. Barceloneta Beach - Relax on the sandy shores of Barceloneta Beach, a popular spot for sunbathing, swimming, and water sports. Enjoy a leisurely stroll along the boardwalk and grab a bite to eat at one of the many beachfront restaurants.\n",
      "\n",
      "7. Picasso Museum - Art lovers should visit the Picasso Museum, which houses an impressive collection of works by the famous artist. Explore Picasso's early works and learn more about his life and career.\n",
      "\n",
      "These are just a few of the best places to visit in Barcelona. The city has so much to offer, from amazing architecture and cultural attractions to delicious food and beautiful beaches. Enjoy your time in Barcelona!\n"
     ]
    }
   ],
   "source": [
    "print(chain.run(\"What are the best places to visit in Barcelona?\"))"
   ]
  },
  {
   "cell_type": "code",
   "execution_count": 150,
   "id": "e713ba99-28f5-428f-a9dc-b5da05c3fce6",
   "metadata": {},
   "outputs": [
    {
     "name": "stdout",
     "output_type": "stream",
     "text": [
      "\n",
      "\n",
      "\u001b[1m> Entering new MultiPromptChain chain...\u001b[0m\n",
      "visa & immigration: {'input': 'What documents do I need to apply for a Japanese visa?'}\n",
      "\u001b[1m> Finished chain.\u001b[0m\n",
      "To apply for a Japanese visa, you will typically need the following documents:\n",
      "\n",
      "1. Passport: Your passport must be valid for at least six months beyond your intended stay in Japan.\n",
      "2. Visa application form: You will need to fill out a visa application form, which can usually be downloaded from the website of the Japanese embassy or consulate in your country.\n",
      "3. Passport-sized photo: You will need to provide a recent passport-sized photo of yourself.\n",
      "4. Proof of travel arrangements: This can include a flight itinerary or reservation, hotel booking, or a letter of invitation from a host in Japan.\n",
      "5. Proof of sufficient funds: You may need to provide bank statements or other financial documents to show that you have enough funds to cover your expenses during your stay in Japan.\n",
      "6. Employment or income verification: If you are employed, you may need to provide a letter from your employer stating your position, salary, and the purpose of your visit to Japan. If you are self-employed, you may need to provide business registration documents or tax returns.\n",
      "7. Travel itinerary: It can be helpful to provide a detailed itinerary of your planned activities in Japan.\n",
      "8. Additional documents: Depending on the purpose of your visit, you may need to provide additional documents such as a letter of invitation, proof of enrollment in a Japanese language course, or a certificate of eligibility.\n",
      "\n",
      "Please note that visa requirements may vary depending on your nationality and the type of visa you are applying for. It is recommended to check with the Japanese embassy or consulate in your country for the most up-to-date information on visa requirements and application processes.\n"
     ]
    }
   ],
   "source": [
    "print(chain.run(\"What documents do I need to apply for a Japanese visa?\"))"
   ]
  },
  {
   "cell_type": "code",
   "execution_count": 152,
   "id": "09a90e66-db45-4f0f-8b33-c108f945b562",
   "metadata": {},
   "outputs": [
    {
     "name": "stdout",
     "output_type": "stream",
     "text": [
      "\n",
      "\n",
      "\u001b[1m> Entering new MultiPromptChain chain...\u001b[0m\n",
      "accommodation: {'input': 'Are there any good hostels for backpackers in Berlin?'}\n",
      "\u001b[1m> Finished chain.\u001b[0m\n",
      "Yes, Berlin has a great selection of hostels for backpackers. Here are some recommendations:\n",
      "\n",
      "1. Generator Hostel Berlin Mitte - This hostel is modern, clean, and centrally located. Prices start at around $25 per night for a bed in a dorm room.\n",
      "\n",
      "2. Circus Hostel - Located in the trendy neighborhood of Prenzlauer Berg, Circus Hostel offers a fun and social atmosphere. Prices start at around $20 per night for a bed in a dorm room.\n",
      "\n",
      "3. Wombats City Hostel Berlin - This hostel is known for its friendly staff and clean facilities. Prices start at around $25 per night for a bed in a dorm room.\n",
      "\n",
      "In addition to hostels, budget travelers in Berlin can also consider alternative stay options such as Airbnb rentals, guesthouses, or budget hotels. Prices for these accommodations can vary, but they often provide more privacy and amenities compared to hostels.\n"
     ]
    }
   ],
   "source": [
    "print(chain.run(\"Are there any good hostels for backpackers in Berlin?\"))"
   ]
  },
  {
   "cell_type": "code",
   "execution_count": 154,
   "id": "cafc39ed-ee77-4165-9d26-c070e8d5cac3",
   "metadata": {},
   "outputs": [
    {
     "name": "stdout",
     "output_type": "stream",
     "text": [
      "\n",
      "\n",
      "\u001b[1m> Entering new MultiPromptChain chain...\u001b[0m\n",
      "travel budget & currency: {'input': 'Are there any travel budget tips for a first-time visitor to Paris?'}\n",
      "\u001b[1m> Finished chain.\u001b[0m\n",
      "Absolutely! Here are some travel budget tips for a first-time visitor to Paris:\n",
      "\n",
      "1. Research and plan your itinerary beforehand to avoid last-minute expenses and maximize your time in the city.\n",
      "2. Consider staying in a budget-friendly accommodation option such as a hostel, Airbnb, or budget hotel to save on lodging costs.\n",
      "3. Take advantage of free or discounted attractions such as visiting parks, museums on free admission days, and exploring neighborhoods on foot.\n",
      "4. Opt for public transportation like the metro or buses instead of taxis to save on transportation costs.\n",
      "5. Eat like a local by trying out street food, visiting local markets, and dining at budget-friendly restaurants instead of touristy spots.\n",
      "6. Purchase a Paris Pass or museum pass to save money on admissions to popular attractions.\n",
      "7. Keep an eye out for deals and discounts on activities, tours, and transportation options to save on overall expenses.\n",
      "8. Exchange your currency at a reliable and reputable currency exchange service to ensure you get the best rates for your money.\n",
      "\n",
      "By following these budget tips, you can enjoy your trip to Paris without breaking the bank. If you need assistance with budget planning or real-time currency exchange rates, feel free to reach out for personalized help.\n"
     ]
    }
   ],
   "source": [
    "print(chain.run(\"Are there any travel budget tips for a first-time visitor to Paris?\"))"
   ]
  },
  {
   "cell_type": "code",
   "execution_count": 156,
   "id": "303bdf99-859e-4bfc-8063-3ce69a77c8f3",
   "metadata": {},
   "outputs": [
    {
     "name": "stdout",
     "output_type": "stream",
     "text": [
      "\n",
      "\n",
      "\u001b[1m> Entering new MultiPromptChain chain...\u001b[0m\n",
      "food & dining: {'input': 'Where can I find authentic pasta in Rome?'}\n",
      "\u001b[1m> Finished chain.\u001b[0m\n",
      "When in Rome, authentic pasta is a must-try! Here are some recommendations for where to find the best pasta in Rome:\n",
      "\n",
      "1. Trattoria Da Luigi - This cozy trattoria in the heart of Rome is known for its homemade pasta dishes, particularly the cacio e pepe and amatriciana. The quaint atmosphere and friendly service make it a favorite among locals and tourists alike.\n",
      "\n",
      "2. Roscioli - This renowned deli and restaurant offers a wide selection of pasta dishes made with fresh, high-quality ingredients. Their carbonara and truffle pasta are highly recommended. Be sure to also try their famous pizza bianca.\n",
      "\n",
      "3. Felice a Testaccio - Located in the Testaccio neighborhood, this family-run trattoria has been serving up traditional Roman cuisine for generations. Their tonnarelli cacio e pepe is a standout dish that shouldn't be missed.\n",
      "\n",
      "4. Il Pagliaccio - For a more upscale dining experience, head to this Michelin-starred restaurant in the historic center of Rome. Their contemporary twist on classic pasta dishes, such as the ravioli with foie gras and truffle, will delight your taste buds.\n",
      "\n",
      "5. La Pecora Pazza - If you're looking for vegetarian or vegan pasta options, this charming restaurant near Campo de' Fiori offers a variety of plant-based dishes, including delicious pasta dishes made with seasonal ingredients.\n",
      "\n",
      "Whether you're craving a simple spaghetti alle vongole or a decadent truffle-infused fettuccine, Rome has a pasta dish to satisfy every palate. Buon appetito!\n"
     ]
    }
   ],
   "source": [
    "print(chain.run(\"Where can I find authentic pasta in Rome?\"))"
   ]
  }
 ],
 "metadata": {
  "kernelspec": {
   "display_name": "Python 3 (ipykernel)",
   "language": "python",
   "name": "python3"
  },
  "language_info": {
   "codemirror_mode": {
    "name": "ipython",
    "version": 3
   },
   "file_extension": ".py",
   "mimetype": "text/x-python",
   "name": "python",
   "nbconvert_exporter": "python",
   "pygments_lexer": "ipython3",
   "version": "3.12.7"
  }
 },
 "nbformat": 4,
 "nbformat_minor": 5
}
