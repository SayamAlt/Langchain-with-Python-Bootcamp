{
 "cells": [
  {
   "cell_type": "code",
   "execution_count": 12,
   "id": "19228fca-56a1-422c-99fd-732d80996eab",
   "metadata": {},
   "outputs": [],
   "source": [
    "from langchain.chat_models import ChatOpenAI\n",
    "from langchain.prompts import ChatPromptTemplate, HumanMessagePromptTemplate\n",
    "from dotenv import load_dotenv\n",
    "import os, warnings\n",
    "warnings.filterwarnings('ignore')\n",
    "from langchain.chains import LLMChain"
   ]
  },
  {
   "cell_type": "code",
   "execution_count": 4,
   "id": "ba9cdab6-7337-42ee-9299-9bd98b6105fa",
   "metadata": {},
   "outputs": [],
   "source": [
    "load_dotenv()\n",
    "api_key = os.environ['OPENAI_API_KEY']"
   ]
  },
  {
   "cell_type": "code",
   "execution_count": 10,
   "id": "a2019447-39e9-43c7-8e68-f5de1767c6aa",
   "metadata": {},
   "outputs": [],
   "source": [
    "chat_model = ChatOpenAI(api_key=api_key)"
   ]
  },
  {
   "cell_type": "code",
   "execution_count": 20,
   "id": "ef4ce02d-d8aa-44f3-aa91-cfb8cfc06f6c",
   "metadata": {},
   "outputs": [],
   "source": [
    "human_message = \"Generate a funny company name for a company that produces {product}\"\n",
    "human_message_prompt = HumanMessagePromptTemplate.from_template(human_message)"
   ]
  },
  {
   "cell_type": "code",
   "execution_count": 22,
   "id": "bda465bc-5863-4393-a67d-97352a32b1b0",
   "metadata": {},
   "outputs": [],
   "source": [
    "chat_prompt_template = ChatPromptTemplate.from_messages([human_message_prompt])"
   ]
  },
  {
   "cell_type": "code",
   "execution_count": 24,
   "id": "eb223191-78c9-421e-a8a3-67e016b10faf",
   "metadata": {},
   "outputs": [],
   "source": [
    "chain = LLMChain(llm=chat_model, prompt=chat_prompt_template)"
   ]
  },
  {
   "cell_type": "code",
   "execution_count": 26,
   "id": "6d4b3baf-5a5e-40bd-b916-bf0460a762f8",
   "metadata": {},
   "outputs": [
    {
     "name": "stdout",
     "output_type": "stream",
     "text": [
      "Byte Me Technologies\n"
     ]
    }
   ],
   "source": [
    "print(chain.run(product=\"Computers\"))"
   ]
  }
 ],
 "metadata": {
  "kernelspec": {
   "display_name": "Python 3 (ipykernel)",
   "language": "python",
   "name": "python3"
  },
  "language_info": {
   "codemirror_mode": {
    "name": "ipython",
    "version": 3
   },
   "file_extension": ".py",
   "mimetype": "text/x-python",
   "name": "python",
   "nbconvert_exporter": "python",
   "pygments_lexer": "ipython3",
   "version": "3.12.7"
  }
 },
 "nbformat": 4,
 "nbformat_minor": 5
}
