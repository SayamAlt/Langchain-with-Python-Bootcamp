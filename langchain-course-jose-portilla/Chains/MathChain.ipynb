{
 "cells": [
  {
   "cell_type": "code",
   "execution_count": 24,
   "id": "0c718dc2-67b6-4eff-8ecc-14638d0a77dd",
   "metadata": {},
   "outputs": [],
   "source": [
    "from langchain.chat_models import ChatOpenAI\n",
    "from dotenv import load_dotenv\n",
    "import os, warnings\n",
    "warnings.filterwarnings('ignore')\n",
    "from langchain.prompts import ChatPromptTemplate, HumanMessagePromptTemplate\n",
    "from langchain.schema import HumanMessage\n",
    "from langchain import LLMMathChain"
   ]
  },
  {
   "cell_type": "code",
   "execution_count": 4,
   "id": "aa6e713a-b6c6-4e1b-94fd-ed1e6224017f",
   "metadata": {},
   "outputs": [],
   "source": [
    "load_dotenv()\n",
    "api_key = os.environ['OPENAI_API_KEY']"
   ]
  },
  {
   "cell_type": "code",
   "execution_count": 8,
   "id": "54700cc6-2329-4469-bc48-d2e6d4990eab",
   "metadata": {},
   "outputs": [],
   "source": [
    "model = ChatOpenAI(api_key=api_key)"
   ]
  },
  {
   "cell_type": "code",
   "execution_count": 18,
   "id": "b6c8bef0-da72-4e55-a949-8e004fbe8df1",
   "metadata": {},
   "outputs": [],
   "source": [
    "result = model([HumanMessage(content='What is 17 raised to the power of 11?')])"
   ]
  },
  {
   "cell_type": "code",
   "execution_count": 20,
   "id": "055a651f-95af-4e2a-8e3f-3b8ef5ce27f2",
   "metadata": {},
   "outputs": [
    {
     "data": {
      "text/plain": [
       "'17 raised to the power of 11 is equal to 57,824,173,009.'"
      ]
     },
     "execution_count": 20,
     "metadata": {},
     "output_type": "execute_result"
    }
   ],
   "source": [
    "result.content"
   ]
  },
  {
   "cell_type": "code",
   "execution_count": 16,
   "id": "731db87c-b61c-4899-938f-eb6c7245e80f",
   "metadata": {},
   "outputs": [
    {
     "data": {
      "text/plain": [
       "34271896307633"
      ]
     },
     "execution_count": 16,
     "metadata": {},
     "output_type": "execute_result"
    }
   ],
   "source": [
    "17**11"
   ]
  },
  {
   "cell_type": "code",
   "execution_count": 22,
   "id": "ed805dd6-f03c-4519-915d-534eae0b78e7",
   "metadata": {},
   "outputs": [
    {
     "data": {
      "text/plain": [
       "34271896307633"
      ]
     },
     "execution_count": 22,
     "metadata": {},
     "output_type": "execute_result"
    }
   ],
   "source": [
    "eval(\"17**11\")"
   ]
  },
  {
   "cell_type": "code",
   "execution_count": 26,
   "id": "a44b2caa-8f7b-4048-b919-59c2a661c329",
   "metadata": {},
   "outputs": [],
   "source": [
    "llm_math_model = LLMMathChain.from_llm(llm=model)"
   ]
  },
  {
   "cell_type": "code",
   "execution_count": 28,
   "id": "2e9ec347-dfa5-4ea4-be8d-4fc2204353b4",
   "metadata": {},
   "outputs": [
    {
     "name": "stdout",
     "output_type": "stream",
     "text": [
      "{'question': 'What is 17 raised to the power of 11?', 'answer': 'Answer: 34271896307633'}\n"
     ]
    }
   ],
   "source": [
    "result = llm_math_model(\"What is 17 raised to the power of 11?\")\n",
    "print(result)"
   ]
  }
 ],
 "metadata": {
  "kernelspec": {
   "display_name": "Python 3 (ipykernel)",
   "language": "python",
   "name": "python3"
  },
  "language_info": {
   "codemirror_mode": {
    "name": "ipython",
    "version": 3
   },
   "file_extension": ".py",
   "mimetype": "text/x-python",
   "name": "python",
   "nbconvert_exporter": "python",
   "pygments_lexer": "ipython3",
   "version": "3.12.7"
  }
 },
 "nbformat": 4,
 "nbformat_minor": 5
}
