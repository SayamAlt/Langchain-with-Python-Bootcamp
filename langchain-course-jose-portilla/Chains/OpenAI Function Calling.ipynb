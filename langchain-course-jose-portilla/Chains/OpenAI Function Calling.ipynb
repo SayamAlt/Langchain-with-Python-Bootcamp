{
 "cells": [
  {
   "cell_type": "code",
   "execution_count": 18,
   "id": "bbb688be-f9d4-47be-8d73-d1a177fe6c1a",
   "metadata": {},
   "outputs": [],
   "source": [
    "from langchain.chat_models import ChatOpenAI\n",
    "from dotenv import load_dotenv\n",
    "import os, warnings\n",
    "warnings.filterwarnings('ignore')\n",
    "from langchain.chains.openai_functions import create_structured_output_chain\n",
    "from langchain.prompts import ChatPromptTemplate"
   ]
  },
  {
   "cell_type": "code",
   "execution_count": 4,
   "id": "8f71d380-da78-4bfe-b225-1413701cedd0",
   "metadata": {},
   "outputs": [],
   "source": [
    "load_dotenv()\n",
    "api_key = os.environ['OPENAI_API_KEY']"
   ]
  },
  {
   "cell_type": "code",
   "execution_count": 26,
   "id": "c4ee84fa-166c-4dc7-813e-ae36d77d366c",
   "metadata": {},
   "outputs": [],
   "source": [
    "llm = ChatOpenAI(api_key=api_key,model='gpt-3.5-turbo') #gpt-3.5-turbo"
   ]
  },
  {
   "cell_type": "code",
   "execution_count": 28,
   "id": "9c5e77ab-bb39-4857-8711-acdfa40b116d",
   "metadata": {},
   "outputs": [],
   "source": [
    "class Scientist():\n",
    "\n",
    "    def __init__(self,first_name,last_name):\n",
    "        self.first_name = first_name\n",
    "        self.last_name = last_name"
   ]
  },
  {
   "cell_type": "code",
   "execution_count": 30,
   "id": "e251d36f-5092-43a3-90a7-2f10b463a234",
   "metadata": {},
   "outputs": [],
   "source": [
    "json_schema = {'title': 'Scientist',\n",
    "               'description': 'Information about a famous scientist',\n",
    "               'type': 'object',\n",
    "               'properties': {\n",
    "                   'first_name': {\n",
    "                       'title': 'First Name',\n",
    "                       'description': 'First name of Scientist',\n",
    "                       'type': 'string'\n",
    "                   },\n",
    "                   'last_name': {\n",
    "                       'title': 'Last Name',\n",
    "                       'description': 'Last name of Scientist',\n",
    "                       'type': 'string'\n",
    "                   }\n",
    "               },\n",
    "               'required': ['first_name','last_name']\n",
    "              }"
   ]
  },
  {
   "cell_type": "code",
   "execution_count": 32,
   "id": "e1d778ee-5e5b-4dcd-957c-9e576a822b46",
   "metadata": {},
   "outputs": [],
   "source": [
    "template = 'Name a famous {country} scientist'"
   ]
  },
  {
   "cell_type": "code",
   "execution_count": 34,
   "id": "eac2a04f-516c-44e7-b791-f2137305a673",
   "metadata": {},
   "outputs": [],
   "source": [
    "chat_prompt = ChatPromptTemplate.from_template(template)"
   ]
  },
  {
   "cell_type": "code",
   "execution_count": 36,
   "id": "2428d57f-0d5c-427b-bfac-6e5f7a412445",
   "metadata": {},
   "outputs": [],
   "source": [
    "chain = create_structured_output_chain(llm=llm,output_schema=json_schema,prompt=chat_prompt,verbose=True)"
   ]
  },
  {
   "cell_type": "code",
   "execution_count": 38,
   "id": "838dde05-46cd-436a-b5e2-38a81cb1fdde",
   "metadata": {},
   "outputs": [
    {
     "name": "stdout",
     "output_type": "stream",
     "text": [
      "\n",
      "\n",
      "\u001b[1m> Entering new LLMChain chain...\u001b[0m\n",
      "Prompt after formatting:\n",
      "\u001b[32;1m\u001b[1;3mHuman: Name a famous American scientist\u001b[0m\n",
      "\n",
      "\u001b[1m> Finished chain.\u001b[0m\n"
     ]
    },
    {
     "data": {
      "text/plain": [
       "{'first_name': 'Albert', 'last_name': 'Einstein'}"
      ]
     },
     "execution_count": 38,
     "metadata": {},
     "output_type": "execute_result"
    }
   ],
   "source": [
    "result = chain.run(country='American')\n",
    "result"
   ]
  },
  {
   "cell_type": "code",
   "execution_count": 42,
   "id": "84c7cea3-7998-4fb8-87a5-5d802b51cdba",
   "metadata": {},
   "outputs": [
    {
     "data": {
      "text/plain": [
       "<__main__.Scientist at 0x175d0b950>"
      ]
     },
     "execution_count": 42,
     "metadata": {},
     "output_type": "execute_result"
    }
   ],
   "source": [
    "scientist = Scientist(first_name=result['first_name'],last_name=result['last_name'])\n",
    "scientist"
   ]
  },
  {
   "cell_type": "code",
   "execution_count": 44,
   "id": "12ec7c70-9561-4103-957c-c15815b7ff7e",
   "metadata": {},
   "outputs": [
    {
     "data": {
      "text/plain": [
       "'Albert'"
      ]
     },
     "execution_count": 44,
     "metadata": {},
     "output_type": "execute_result"
    }
   ],
   "source": [
    "scientist.first_name"
   ]
  },
  {
   "cell_type": "code",
   "execution_count": 46,
   "id": "673ddcdc-5979-455c-b6dc-516098a8f25d",
   "metadata": {},
   "outputs": [
    {
     "data": {
      "text/plain": [
       "'Einstein'"
      ]
     },
     "execution_count": 46,
     "metadata": {},
     "output_type": "execute_result"
    }
   ],
   "source": [
    "scientist.last_name"
   ]
  }
 ],
 "metadata": {
  "kernelspec": {
   "display_name": "Python 3 (ipykernel)",
   "language": "python",
   "name": "python3"
  },
  "language_info": {
   "codemirror_mode": {
    "name": "ipython",
    "version": 3
   },
   "file_extension": ".py",
   "mimetype": "text/x-python",
   "name": "python",
   "nbconvert_exporter": "python",
   "pygments_lexer": "ipython3",
   "version": "3.12.7"
  }
 },
 "nbformat": 4,
 "nbformat_minor": 5
}
