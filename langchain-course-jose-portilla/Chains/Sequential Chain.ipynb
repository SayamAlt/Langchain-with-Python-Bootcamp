{
 "cells": [
  {
   "cell_type": "code",
   "execution_count": 6,
   "id": "8a482e73-7d0c-407f-bd88-9f3c1c7eb559",
   "metadata": {},
   "outputs": [],
   "source": [
    "from langchain.chat_models import ChatOpenAI\n",
    "from langchain.prompts import ChatPromptTemplate\n",
    "from langchain.chains import SequentialChain, LLMChain\n",
    "from dotenv import load_dotenv\n",
    "import os, warnings\n",
    "warnings.filterwarnings('ignore')"
   ]
  },
  {
   "cell_type": "code",
   "execution_count": 8,
   "id": "a6d31a10-9eff-4677-b0a3-1ee2088358da",
   "metadata": {},
   "outputs": [],
   "source": [
    "load_dotenv()\n",
    "api_key = os.environ['OPENAI_API_KEY']"
   ]
  },
  {
   "cell_type": "code",
   "execution_count": 10,
   "id": "dda2db90-b54b-422e-baff-2bd96faeaaeb",
   "metadata": {},
   "outputs": [],
   "source": [
    "llm = ChatOpenAI(api_key=api_key)"
   ]
  },
  {
   "cell_type": "code",
   "execution_count": 12,
   "id": "c2db5816-b29d-4567-b6aa-12e0c74e9331",
   "metadata": {},
   "outputs": [],
   "source": [
    "template1 = \"Generate a summary of this employee's performance review:\\n{review}\"\n",
    "prompt1 = ChatPromptTemplate.from_template(template1)\n",
    "chain_1 = LLMChain(llm=llm,\n",
    "                     prompt=prompt1,\n",
    "                     output_key=\"review_summary\")"
   ]
  },
  {
   "cell_type": "code",
   "execution_count": 14,
   "id": "2a6c1d04-1fe0-4386-8b3a-4535cbfaff43",
   "metadata": {},
   "outputs": [],
   "source": [
    "template2 = \"Identify key employee weaknesses in this review summary:\\n{review_summary}\"\n",
    "prompt2 = ChatPromptTemplate.from_template(template2)\n",
    "chain_2 = LLMChain(llm=llm,\n",
    "                     prompt=prompt2,\n",
    "                     output_key=\"weaknesses\")"
   ]
  },
  {
   "cell_type": "code",
   "execution_count": 16,
   "id": "8031844b-586e-44b5-ac74-23b3767a9413",
   "metadata": {},
   "outputs": [],
   "source": [
    "template3 = \"Create a personalized plan to help address and fix these weaknesses:\\n{weaknesses}\"\n",
    "prompt3 = ChatPromptTemplate.from_template(template3)\n",
    "chain_3 = LLMChain(llm=llm,\n",
    "                     prompt=prompt3,\n",
    "                     output_key=\"improvement_plan\")"
   ]
  },
  {
   "cell_type": "code",
   "execution_count": 18,
   "id": "9e93a32e-3199-447c-ab17-22585d80422d",
   "metadata": {},
   "outputs": [],
   "source": [
    "seq_chain = SequentialChain(chains=[chain_1,chain_2,chain_3],\n",
    "                            input_variables=['review'],\n",
    "                            output_variables=['review_summary','weaknesses','improvement_plan'],\n",
    "                            verbose=True)"
   ]
  },
  {
   "cell_type": "code",
   "execution_count": 32,
   "id": "0e6013f5-40c9-401b-9d45-98b52de1bb3f",
   "metadata": {},
   "outputs": [],
   "source": [
    "employee_review = '''\n",
    "Employee Performance Review\n",
    "Employee Name: John Doe\n",
    "Position: Software Engineer\n",
    "Department: IT Development\n",
    "Review Period: January 2024 – December 2024\n",
    "\n",
    "Performance Summary:\n",
    "John has consistently demonstrated strong technical skills and a proactive approach to problem-solving. His expertise in Python, Java, and cloud-based solutions has significantly contributed to the efficiency and scalability of our projects. He is detail-oriented, ensuring high-quality code while adhering to best practices in software development.\n",
    "\n",
    "Key Strengths:\n",
    "Technical Proficiency: John has successfully led the development of multiple backend services, optimizing system performance and ensuring reliability.\n",
    "Problem-Solving: He effectively troubleshoots complex issues and provides well-structured solutions under tight deadlines.\n",
    "Collaboration & Teamwork: He works well with cross-functional teams, providing valuable insights and mentoring junior developers.\n",
    "Adaptability: Quickly adapts to new technologies and integrates them into existing systems to improve efficiency.\n",
    "\n",
    "Areas for Improvement:\n",
    "Communication: While technically sound, John can work on improving clarity in documentation and articulating complex ideas to non-technical stakeholders.\n",
    "Time Management: Occasionally, task prioritization could be improved to meet project deadlines more efficiently.\n",
    "'''"
   ]
  },
  {
   "cell_type": "code",
   "execution_count": 34,
   "id": "406813b0-b79d-4056-8dbc-923e1986df41",
   "metadata": {},
   "outputs": [
    {
     "name": "stdout",
     "output_type": "stream",
     "text": [
      "\n",
      "\n",
      "\u001b[1m> Entering new SequentialChain chain...\u001b[0m\n",
      "\n",
      "\u001b[1m> Finished chain.\u001b[0m\n"
     ]
    }
   ],
   "source": [
    "results = seq_chain(employee_review)"
   ]
  },
  {
   "cell_type": "code",
   "execution_count": 35,
   "id": "be395801-2e84-4686-9203-3857f8b5934b",
   "metadata": {},
   "outputs": [
    {
     "data": {
      "text/plain": [
       "{'review': '\\nEmployee Performance Review\\nEmployee Name: John Doe\\nPosition: Software Engineer\\nDepartment: IT Development\\nReview Period: January 2024 – December 2024\\n\\nPerformance Summary:\\nJohn has consistently demonstrated strong technical skills and a proactive approach to problem-solving. His expertise in Python, Java, and cloud-based solutions has significantly contributed to the efficiency and scalability of our projects. He is detail-oriented, ensuring high-quality code while adhering to best practices in software development.\\n\\nKey Strengths:\\nTechnical Proficiency: John has successfully led the development of multiple backend services, optimizing system performance and ensuring reliability.\\nProblem-Solving: He effectively troubleshoots complex issues and provides well-structured solutions under tight deadlines.\\nCollaboration & Teamwork: He works well with cross-functional teams, providing valuable insights and mentoring junior developers.\\nAdaptability: Quickly adapts to new technologies and integrates them into existing systems to improve efficiency.\\n\\nAreas for Improvement:\\nCommunication: While technically sound, John can work on improving clarity in documentation and articulating complex ideas to non-technical stakeholders.\\nTime Management: Occasionally, task prioritization could be improved to meet project deadlines more efficiently.\\n',\n",
       " 'review_summary': \"Overall, John's performance as a Software Engineer has been exceptional, with his technical skills and problem-solving abilities shining through. He is a valuable team player who contributes effectively to project success. Moving forward, John could benefit from focusing on communication and time management skills to enhance his overall performance. With continued growth in these areas, John is well-positioned to excel in his role and continue making significant contributions to the IT Development department.\",\n",
       " 'weaknesses': 'Key weaknesses identified in the review summary for John include communication and time management skills. These are areas that he could focus on improving in order to enhance his overall performance as a Software Engineer.',\n",
       " 'improvement_plan': 'Personalized Plan to Improve Communication and Time Management Skills:\\n\\n1. Communication Skills:\\n- Schedule regular check-ins with team members and supervisors to provide updates on project progress and discuss any challenges or concerns.\\n- Practice active listening during meetings and conversations to ensure understanding and clarity.\\n- Seek feedback from colleagues on communication style and areas for improvement.\\n- Take a communication skills workshop or course to learn effective communication techniques.\\n\\n2. Time Management Skills:\\n- Create a daily or weekly schedule to prioritize tasks and allocate time for each project or assignment.\\n- Utilize tools such as calendars, to-do lists, and project management software to stay organized and on track.\\n- Break down large tasks into smaller, manageable steps to prevent feeling overwhelmed.\\n- Set realistic deadlines and goals for projects to ensure timely completion.\\n- Identify and eliminate distractions that may be impacting productivity.\\n\\n3. Continuous Improvement:\\n- Regularly assess and reflect on communication and time management skills to identify areas of improvement.\\n- Seek mentorship or coaching from a more experienced colleague or supervisor to receive guidance and support.\\n- Attend workshops, seminars, or training sessions related to communication and time management to enhance skills.\\n- Practice mindfulness and stress management techniques to improve focus and productivity.\\n\\nBy implementing these strategies and actively working to improve communication and time management skills, John can enhance his overall performance as a Software Engineer and become a more effective and efficient team member.'}"
      ]
     },
     "execution_count": 35,
     "metadata": {},
     "output_type": "execute_result"
    }
   ],
   "source": [
    "results"
   ]
  },
  {
   "cell_type": "code",
   "execution_count": 36,
   "id": "30906bfb-3d54-4b65-b8b0-d7ec185d263e",
   "metadata": {},
   "outputs": [
    {
     "name": "stdout",
     "output_type": "stream",
     "text": [
      "Overall, John's performance as a Software Engineer has been exceptional, with his technical skills and problem-solving abilities shining through. He is a valuable team player who contributes effectively to project success. Moving forward, John could benefit from focusing on communication and time management skills to enhance his overall performance. With continued growth in these areas, John is well-positioned to excel in his role and continue making significant contributions to the IT Development department.\n"
     ]
    }
   ],
   "source": [
    "print(results['review_summary'])"
   ]
  },
  {
   "cell_type": "code",
   "execution_count": 37,
   "id": "f0563335-f80f-45b5-810e-240f1d18f1b6",
   "metadata": {},
   "outputs": [
    {
     "name": "stdout",
     "output_type": "stream",
     "text": [
      "Key weaknesses identified in the review summary for John include communication and time management skills. These are areas that he could focus on improving in order to enhance his overall performance as a Software Engineer.\n"
     ]
    }
   ],
   "source": [
    "print(results['weaknesses'])"
   ]
  },
  {
   "cell_type": "code",
   "execution_count": 38,
   "id": "2edc6866-769b-47ee-921d-ae40eb9891eb",
   "metadata": {},
   "outputs": [
    {
     "name": "stdout",
     "output_type": "stream",
     "text": [
      "Personalized Plan to Improve Communication and Time Management Skills:\n",
      "\n",
      "1. Communication Skills:\n",
      "- Schedule regular check-ins with team members and supervisors to provide updates on project progress and discuss any challenges or concerns.\n",
      "- Practice active listening during meetings and conversations to ensure understanding and clarity.\n",
      "- Seek feedback from colleagues on communication style and areas for improvement.\n",
      "- Take a communication skills workshop or course to learn effective communication techniques.\n",
      "\n",
      "2. Time Management Skills:\n",
      "- Create a daily or weekly schedule to prioritize tasks and allocate time for each project or assignment.\n",
      "- Utilize tools such as calendars, to-do lists, and project management software to stay organized and on track.\n",
      "- Break down large tasks into smaller, manageable steps to prevent feeling overwhelmed.\n",
      "- Set realistic deadlines and goals for projects to ensure timely completion.\n",
      "- Identify and eliminate distractions that may be impacting productivity.\n",
      "\n",
      "3. Continuous Improvement:\n",
      "- Regularly assess and reflect on communication and time management skills to identify areas of improvement.\n",
      "- Seek mentorship or coaching from a more experienced colleague or supervisor to receive guidance and support.\n",
      "- Attend workshops, seminars, or training sessions related to communication and time management to enhance skills.\n",
      "- Practice mindfulness and stress management techniques to improve focus and productivity.\n",
      "\n",
      "By implementing these strategies and actively working to improve communication and time management skills, John can enhance his overall performance as a Software Engineer and become a more effective and efficient team member.\n"
     ]
    }
   ],
   "source": [
    "print(results['improvement_plan'])"
   ]
  }
 ],
 "metadata": {
  "kernelspec": {
   "display_name": "Python 3 (ipykernel)",
   "language": "python",
   "name": "python3"
  },
  "language_info": {
   "codemirror_mode": {
    "name": "ipython",
    "version": 3
   },
   "file_extension": ".py",
   "mimetype": "text/x-python",
   "name": "python",
   "nbconvert_exporter": "python",
   "pygments_lexer": "ipython3",
   "version": "3.12.7"
  }
 },
 "nbformat": 4,
 "nbformat_minor": 5
}
