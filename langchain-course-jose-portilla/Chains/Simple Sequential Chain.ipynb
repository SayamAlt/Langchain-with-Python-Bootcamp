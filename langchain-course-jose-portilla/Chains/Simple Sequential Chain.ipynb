{
 "cells": [
  {
   "cell_type": "code",
   "execution_count": 8,
   "id": "0e3970dc-4064-49cb-aeb3-71ee8fa6d3ec",
   "metadata": {},
   "outputs": [],
   "source": [
    "from langchain.chat_models import ChatOpenAI\n",
    "from dotenv import load_dotenv\n",
    "load_dotenv()\n",
    "import os, warnings\n",
    "warnings.filterwarnings('ignore')\n",
    "from langchain.chains import LLMChain, SimpleSequentialChain\n",
    "from langchain.prompts import ChatPromptTemplate, HumanMessagePromptTemplate"
   ]
  },
  {
   "cell_type": "code",
   "execution_count": 6,
   "id": "de9b0ee9-f52c-4cf8-b1d1-bc848be6223c",
   "metadata": {},
   "outputs": [],
   "source": [
    "load_dotenv()\n",
    "api_key = os.environ['OPENAI_API_KEY']"
   ]
  },
  {
   "cell_type": "code",
   "execution_count": 10,
   "id": "fae8f622-bff4-48ae-a101-49e2592a295d",
   "metadata": {},
   "outputs": [],
   "source": [
    "chat_model = ChatOpenAI(api_key=api_key)"
   ]
  },
  {
   "cell_type": "code",
   "execution_count": 12,
   "id": "8101616b-9e73-4565-b09b-f4affdec0fd9",
   "metadata": {},
   "outputs": [],
   "source": [
    "# TOPIC BLOG POST --> [[ OUTLINE --> CREATE BLOG POST FROM OUTLINE ]] --> BLOG POST TEXT"
   ]
  },
  {
   "cell_type": "code",
   "execution_count": 16,
   "id": "a082612f-d25c-4b3c-beb2-71bd6b0cad61",
   "metadata": {},
   "outputs": [],
   "source": [
    "template = \"Give me a single bullet point outline for a blog post on {topic}\"\n",
    "first_prompt = ChatPromptTemplate.from_template(template)\n",
    "chain_one = LLMChain(llm=chat_model,prompt=first_prompt)"
   ]
  },
  {
   "cell_type": "code",
   "execution_count": 18,
   "id": "7f62b8a8-1def-4fd7-9325-a960d54b95f5",
   "metadata": {},
   "outputs": [],
   "source": [
    "template2 = \"Write a blog post using this outline {outline}\"\n",
    "second_prompt = ChatPromptTemplate.from_template(template2)\n",
    "chain_two = LLMChain(llm=chat_model,prompt=second_prompt)"
   ]
  },
  {
   "cell_type": "code",
   "execution_count": 20,
   "id": "6fddf17a-cd18-4e73-8acc-f1e2f7964f33",
   "metadata": {},
   "outputs": [],
   "source": [
    "template3 = \"Summarize the blog post {blog_post}\"\n",
    "third_prompt = ChatPromptTemplate.from_template(template3)\n",
    "chain_three = LLMChain(llm=chat_model,prompt=third_prompt)"
   ]
  },
  {
   "cell_type": "code",
   "execution_count": 30,
   "id": "0f602993-ebee-4d6a-9ed2-4c388fea4e04",
   "metadata": {},
   "outputs": [
    {
     "name": "stdout",
     "output_type": "stream",
     "text": [
      "\n",
      "\n",
      "\u001b[1m> Entering new SimpleSequentialChain chain...\u001b[0m\n",
      "\u001b[36;1m\u001b[1;3m- The History and Evolution of Cheesecake: From Ancient Greece to Modern Varieties\u001b[0m\n",
      "\u001b[33;1m\u001b[1;3mCheesecake is a beloved dessert that has been enjoyed for centuries, with its origins dating back to ancient Greece. Over the years, this decadent treat has evolved and taken on many different forms and flavors. In this blog post, we will explore the history and evolution of cheesecake, from its humble beginnings to the modern varieties we enjoy today.\n",
      "\n",
      "1. Ancient Greece: The Birth of Cheesecake\n",
      "- Cheesecake has its roots in ancient Greece, where it was served to athletes during the first Olympic games in 776 BC. The Greeks made cheesecake by mixing cheese, wheat flour, and honey, and baking it in a wood-fired oven.\n",
      "- The ancient Greeks believed that cheesecake was a source of energy and believed it to be a good luck charm for those competing in the games.\n",
      "\n",
      "2. The Roman Empire: Spreading the Love of Cheesecake\n",
      "- The Romans were also fans of cheesecake and spread its popularity throughout their empire. They made their version of cheesecake by using ricotta cheese and honey, and sometimes adding fruits and nuts for extra flavor.\n",
      "- Cheesecake became a staple dessert at Roman feasts and banquets, where it was often served as a symbol of luxury and indulgence.\n",
      "\n",
      "3. The Middle Ages: Cheesecake Goes European\n",
      "- During the Middle Ages, cheesecake recipes spread throughout Europe, with each region putting its own spin on the dessert. In England, cheesecake was made with curd cheese and spices, while in France, it was made with cream cheese and sugar.\n",
      "- Cheesecake became a popular dessert among European royalty and nobility, who enjoyed it as a sweet treat after elaborate meals.\n",
      "\n",
      "4. The New World: Cheesecake Comes to America\n",
      "- Cheesecake made its way to America with European immigrants in the 18th and 19th centuries. New York-style cheesecake, made with cream cheese, eggs, and sugar, became a favorite among Americans.\n",
      "- Today, New York-style cheesecake is one of the most popular varieties in the United States, known for its rich and creamy texture.\n",
      "\n",
      "5. Modern Varieties: The Evolution of Cheesecake\n",
      "- Cheesecake has continued to evolve over the years, with new flavors and variations being introduced all the time. From classic New York-style cheesecake to exotic flavors like matcha and salted caramel, there is a cheesecake for every palate.\n",
      "- Chefs and bakers have also experimented with different crusts and toppings, adding a modern twist to this timeless dessert.\n",
      "\n",
      "In conclusion, cheesecake has a long and storied history that spans centuries and continents. From its origins in ancient Greece to the modern varieties we enjoy today, cheesecake has remained a beloved dessert that brings joy to people around the world. Whether you prefer a classic New York-style cheesecake or a trendy flavor like red velvet, there is no denying the appeal of this decadent treat.\u001b[0m\n",
      "\n",
      "\u001b[1m> Finished chain.\u001b[0m\n"
     ]
    }
   ],
   "source": [
    "full_chain = SimpleSequentialChain(chains=[chain_one,chain_two],verbose=True)\n",
    "result = full_chain.run('cheesecake')"
   ]
  },
  {
   "cell_type": "code",
   "execution_count": 32,
   "id": "e600d9a5-1462-4164-9420-48a42d48cbcc",
   "metadata": {},
   "outputs": [
    {
     "name": "stdout",
     "output_type": "stream",
     "text": [
      "Cheesecake is a beloved dessert that has been enjoyed for centuries, with its origins dating back to ancient Greece. Over the years, this decadent treat has evolved and taken on many different forms and flavors. In this blog post, we will explore the history and evolution of cheesecake, from its humble beginnings to the modern varieties we enjoy today.\n",
      "\n",
      "1. Ancient Greece: The Birth of Cheesecake\n",
      "- Cheesecake has its roots in ancient Greece, where it was served to athletes during the first Olympic games in 776 BC. The Greeks made cheesecake by mixing cheese, wheat flour, and honey, and baking it in a wood-fired oven.\n",
      "- The ancient Greeks believed that cheesecake was a source of energy and believed it to be a good luck charm for those competing in the games.\n",
      "\n",
      "2. The Roman Empire: Spreading the Love of Cheesecake\n",
      "- The Romans were also fans of cheesecake and spread its popularity throughout their empire. They made their version of cheesecake by using ricotta cheese and honey, and sometimes adding fruits and nuts for extra flavor.\n",
      "- Cheesecake became a staple dessert at Roman feasts and banquets, where it was often served as a symbol of luxury and indulgence.\n",
      "\n",
      "3. The Middle Ages: Cheesecake Goes European\n",
      "- During the Middle Ages, cheesecake recipes spread throughout Europe, with each region putting its own spin on the dessert. In England, cheesecake was made with curd cheese and spices, while in France, it was made with cream cheese and sugar.\n",
      "- Cheesecake became a popular dessert among European royalty and nobility, who enjoyed it as a sweet treat after elaborate meals.\n",
      "\n",
      "4. The New World: Cheesecake Comes to America\n",
      "- Cheesecake made its way to America with European immigrants in the 18th and 19th centuries. New York-style cheesecake, made with cream cheese, eggs, and sugar, became a favorite among Americans.\n",
      "- Today, New York-style cheesecake is one of the most popular varieties in the United States, known for its rich and creamy texture.\n",
      "\n",
      "5. Modern Varieties: The Evolution of Cheesecake\n",
      "- Cheesecake has continued to evolve over the years, with new flavors and variations being introduced all the time. From classic New York-style cheesecake to exotic flavors like matcha and salted caramel, there is a cheesecake for every palate.\n",
      "- Chefs and bakers have also experimented with different crusts and toppings, adding a modern twist to this timeless dessert.\n",
      "\n",
      "In conclusion, cheesecake has a long and storied history that spans centuries and continents. From its origins in ancient Greece to the modern varieties we enjoy today, cheesecake has remained a beloved dessert that brings joy to people around the world. Whether you prefer a classic New York-style cheesecake or a trendy flavor like red velvet, there is no denying the appeal of this decadent treat.\n"
     ]
    }
   ],
   "source": [
    "print(result)"
   ]
  },
  {
   "cell_type": "code",
   "execution_count": 22,
   "id": "165ea6e9-d47e-44cf-9156-e35f4a5b93c9",
   "metadata": {},
   "outputs": [],
   "source": [
    "full_chain = SimpleSequentialChain(chains=[chain_one,chain_two,chain_three],verbose=True)"
   ]
  },
  {
   "cell_type": "code",
   "execution_count": 24,
   "id": "a59fe85a-237f-4108-8810-c160dc632f94",
   "metadata": {},
   "outputs": [
    {
     "name": "stdout",
     "output_type": "stream",
     "text": [
      "\n",
      "\n",
      "\u001b[1m> Entering new SimpleSequentialChain chain...\u001b[0m\n",
      "\u001b[36;1m\u001b[1;3m- The history and origin of apple pies: from ancient civilizations to modern American tradition\u001b[0m\n",
      "\u001b[33;1m\u001b[1;3mThe history and origin of apple pies: from ancient civilizations to modern American tradition\n",
      "\n",
      "Introduction\n",
      "- Briefly introduce the topic of apple pies and their significance in culinary history\n",
      "- Mention that apple pies have a long and diverse history that spans across different cultures and time periods\n",
      "\n",
      "Ancient civilizations\n",
      "- Discuss how the concept of fruit-filled pastries can be traced back to ancient civilizations such as the Egyptians and Greeks\n",
      "- Mention that these early versions of fruit pies were often sweetened with honey or other natural sweeteners\n",
      "\n",
      "Medieval Europe\n",
      "- Talk about how fruit pies became popular in medieval Europe, with variations such as the Dutch apple pie and the English apple pie emerging\n",
      "- Explain how spices such as cinnamon and nutmeg were often added to these pies for flavor\n",
      "\n",
      "Colonial America\n",
      "- Describe how apple pies were brought to America by European settlers, who adapted the recipes to include locally grown apples\n",
      "- Mention that apple pies became a staple dessert in Colonial America and were often served at special occasions and celebrations\n",
      "\n",
      "Modern American tradition\n",
      "- Discuss how apple pies have become an iconic part of American culinary tradition, especially during holidays such as Thanksgiving\n",
      "- Talk about how apple pie recipes have evolved over time, with variations such as lattice crusts, streusel toppings, and caramel drizzles becoming popular\n",
      "\n",
      "Conclusion\n",
      "- Summarize the history and origin of apple pies, highlighting their enduring popularity and cultural significance\n",
      "- Encourage readers to try making their own apple pies at home, using traditional or modern recipes.\u001b[0m\n",
      "\u001b[38;5;200m\u001b[1;3mApple pies have a rich history that dates back to ancient civilizations like the Egyptians and Greeks, where fruit-filled pastries were sweetened with honey. In medieval Europe, variations like Dutch and English apple pies emerged, flavored with spices like cinnamon and nutmeg. European settlers brought apple pie recipes to Colonial America, where they became a staple dessert for special occasions. Today, apple pies are an iconic part of American culinary tradition, especially during holidays like Thanksgiving. With variations like lattice crusts and streusel toppings, apple pies continue to evolve while maintaining their cultural significance. Readers are encouraged to try making their own apple pies at home using traditional or modern recipes.\u001b[0m\n",
      "\n",
      "\u001b[1m> Finished chain.\u001b[0m\n"
     ]
    }
   ],
   "source": [
    "result = full_chain.run('apple pies')"
   ]
  },
  {
   "cell_type": "code",
   "execution_count": 26,
   "id": "fc085eeb-fec5-4255-8781-0163761c25bf",
   "metadata": {},
   "outputs": [
    {
     "data": {
      "text/plain": [
       "str"
      ]
     },
     "execution_count": 26,
     "metadata": {},
     "output_type": "execute_result"
    }
   ],
   "source": [
    "type(result)"
   ]
  },
  {
   "cell_type": "code",
   "execution_count": 28,
   "id": "3bd77088-94b5-47f3-b9bf-097a9986f758",
   "metadata": {},
   "outputs": [
    {
     "name": "stdout",
     "output_type": "stream",
     "text": [
      "Apple pies have a rich history that dates back to ancient civilizations like the Egyptians and Greeks, where fruit-filled pastries were sweetened with honey. In medieval Europe, variations like Dutch and English apple pies emerged, flavored with spices like cinnamon and nutmeg. European settlers brought apple pie recipes to Colonial America, where they became a staple dessert for special occasions. Today, apple pies are an iconic part of American culinary tradition, especially during holidays like Thanksgiving. With variations like lattice crusts and streusel toppings, apple pies continue to evolve while maintaining their cultural significance. Readers are encouraged to try making their own apple pies at home using traditional or modern recipes.\n"
     ]
    }
   ],
   "source": [
    "print(result)"
   ]
  }
 ],
 "metadata": {
  "kernelspec": {
   "display_name": "Python 3 (ipykernel)",
   "language": "python",
   "name": "python3"
  },
  "language_info": {
   "codemirror_mode": {
    "name": "ipython",
    "version": 3
   },
   "file_extension": ".py",
   "mimetype": "text/x-python",
   "name": "python",
   "nbconvert_exporter": "python",
   "pygments_lexer": "ipython3",
   "version": "3.12.7"
  }
 },
 "nbformat": 4,
 "nbformat_minor": 5
}
