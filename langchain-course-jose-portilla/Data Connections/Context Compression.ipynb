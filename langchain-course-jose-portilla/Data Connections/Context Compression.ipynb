{
 "cells": [
  {
   "cell_type": "code",
   "execution_count": 19,
   "id": "13d2f8b6-3610-4c4e-ae9f-ddc42d19c779",
   "metadata": {},
   "outputs": [],
   "source": [
    "from langchain.vectorstores import Chroma\n",
    "from langchain.document_loaders import WikipediaLoader\n",
    "from langchain.embeddings.openai import OpenAIEmbeddings\n",
    "from langchain.text_splitter import CharacterTextSplitter\n",
    "from dotenv import load_dotenv\n",
    "load_dotenv()\n",
    "import os, warnings\n",
    "warnings.filterwarnings('ignore')\n",
    "from langchain.chat_models import ChatOpenAI\n",
    "from langchain.retrievers import ContextualCompressionRetriever\n",
    "from langchain.retrievers.document_compressors import LLMChainExtractor"
   ]
  },
  {
   "cell_type": "code",
   "execution_count": 21,
   "id": "64cca19b-da0d-4563-87c7-1b3a84c331ed",
   "metadata": {},
   "outputs": [],
   "source": [
    "api_key = os.environ['OPENAI_API_KEY']"
   ]
  },
  {
   "cell_type": "code",
   "execution_count": 23,
   "id": "b4b44e7c-5429-4d38-9772-948258b5c5e1",
   "metadata": {},
   "outputs": [],
   "source": [
    "embeddings = OpenAIEmbeddings(api_key=api_key)"
   ]
  },
  {
   "cell_type": "code",
   "execution_count": 25,
   "id": "e3ed979b-d48d-4c2c-87b2-f2ec49dc557c",
   "metadata": {},
   "outputs": [],
   "source": [
    "llm = ChatOpenAI(api_key=api_key,temperature=0)"
   ]
  },
  {
   "cell_type": "code",
   "execution_count": 45,
   "id": "86927e85-a0eb-4288-acdb-4c604ef3ac66",
   "metadata": {},
   "outputs": [],
   "source": [
    "db_connection = Chroma(persist_directory='some_new_mkultra/',embedding_function=embeddings)"
   ]
  },
  {
   "cell_type": "code",
   "execution_count": 47,
   "id": "f65bf657-8921-48b1-8972-e9b5a98b633d",
   "metadata": {},
   "outputs": [],
   "source": [
    "compressor = LLMChainExtractor.from_llm(llm)"
   ]
  },
  {
   "cell_type": "code",
   "execution_count": 49,
   "id": "091fc104-922e-48bc-870f-69df4d6a5d3a",
   "metadata": {},
   "outputs": [],
   "source": [
    "# Contextual compression\n",
    "compression_retriever = ContextualCompressionRetriever(base_compressor=compressor,base_retriever=db_connection.as_retriever())"
   ]
  },
  {
   "cell_type": "code",
   "execution_count": 53,
   "id": "793b8a87-9fa6-428d-b883-0916a5f89229",
   "metadata": {},
   "outputs": [
    {
     "data": {
      "text/plain": [
       "'The Church Committee (formally the United States Senate Select Committee to Study Governmental Operations with Respect to Intelligence Activities) was a US Senate select committee in 1975 that  investigated abuses by the Central Intelligence Agency (CIA), National Security Agency (NSA), Federal Bureau of Investigation (FBI), and the Internal Revenue Service (IRS). Chaired by Idaho Senator Frank Church (D-ID), the committee was part of a series of investigations into intelligence abuses in 1975, dubbed the \"Year of Intelligence\", including its House counterpart, the Pike Committee, and the presidential Rockefeller Commission. The committee\\'s efforts led to the establishment of the permanent US Senate Select Committee on Intelligence.\\nThe most shocking revelations of the committee include Operation MKULTRA, which involved the drugging and torture of unwitting US citizens as part of human experimentation on mind control; COINTELPRO, which involved the surveillance and infiltration of American political and civil-rights organizations; Family Jewels, a CIA program to covertly assassinate foreign leaders; and Operation Mockingbird as a systematic propaganda campaign with domestic and foreign journalists operating as CIA assets and dozens of US news organizations providing cover for CIA activity, confirming earlier stories that charged that the CIA had cultivated relationships with private institutions, including the press. Without identifying individuals by name, the Church Committee stated that it found 50 journalists who had official, but secret, relationships with the CIA.\\nIt also unearthed Project SHAMROCK, a program in which the major telecommunications companies shared their traffic with the NSA, and officially confirmed the existence of this signals intelligence agency to the public for the first time.\\n\\n\\n== Background ==\\nBy the early years of the 1970s, a series of troubling revelations had appeared in the press concerning intelligence activities. First came the revelations by Army intelligence officer Christopher Pyle in January 1970 of the US Army\\'s spying on the civilian population and Senator Sam Ervin\\'s Senate investigations produced more revelations. Then on December 22, 1974, The New York Times published a lengthy article by Seymour Hersh detailing operations engaged in by the CIA over the years that had been dubbed the \"family jewels\". Covert action programs involving assassination attempts on foreign leaders and covert attempts to subvert foreign governments were reported for the first time. In addition, the article discussed efforts by intelligence agencies to collect information on the political activities of US citizens.\\nThe creation of the Church Committee was approved on January 27, 1975, by a vote of 82 to 4 in the Senate.'"
      ]
     },
     "execution_count": 53,
     "metadata": {},
     "output_type": "execute_result"
    }
   ],
   "source": [
    "docs = db_connection.similarity_search(\"When was this declassified?\")\n",
    "docs[0].page_content"
   ]
  },
  {
   "cell_type": "code",
   "execution_count": 55,
   "id": "dfd937bc-9ef0-4e56-921b-4db9d1b58f45",
   "metadata": {},
   "outputs": [],
   "source": [
    "compressed_docs = compression_retriever.get_relevant_documents(query=\"When was this declassified\")"
   ]
  },
  {
   "cell_type": "code",
   "execution_count": 57,
   "id": "e9ceb5e6-7862-4d15-9b5d-98e151ad3040",
   "metadata": {},
   "outputs": [
    {
     "data": {
      "text/plain": [
       "'The creation of the Church Committee was approved on January 27, 1975, by a vote of 82 to 4 in the Senate.'"
      ]
     },
     "execution_count": 57,
     "metadata": {},
     "output_type": "execute_result"
    }
   ],
   "source": [
    "compressed_docs[0].page_content"
   ]
  },
  {
   "cell_type": "code",
   "execution_count": 59,
   "id": "20277981-21f7-4e99-ad50-415494c69708",
   "metadata": {},
   "outputs": [
    {
     "data": {
      "text/plain": [
       "'The Church Committee (formally the United States Senate Select Committee to Study Governmental Operations with Respect to Intelligence Activities) was a US Senate select committee in 1975 that  investigated abuses by the Central Intelligence Agency (CIA), National Security Agency (NSA), Federal Bureau of Investigation (FBI), and the Internal Revenue Service (IRS). Chaired by Idaho Senator Frank Church (D-ID), the committee was part of a series of investigations into intelligence abuses in 1975, dubbed the \"Year of Intelligence\", including its House counterpart, the Pike Committee, and the presidential Rockefeller Commission. The committee\\'s efforts led to the establishment of the permanent US Senate Select Committee on Intelligence.\\nThe most shocking revelations of the committee include Operation MKULTRA, which involved the drugging and torture of unwitting US citizens as part of human experimentation on mind control; COINTELPRO, which involved the surveillance and infiltration of American political and civil-rights organizations; Family Jewels, a CIA program to covertly assassinate foreign leaders; and Operation Mockingbird as a systematic propaganda campaign with domestic and foreign journalists operating as CIA assets and dozens of US news organizations providing cover for CIA activity, confirming earlier stories that charged that the CIA had cultivated relationships with private institutions, including the press. Without identifying individuals by name, the Church Committee stated that it found 50 journalists who had official, but secret, relationships with the CIA.\\nIt also unearthed Project SHAMROCK, a program in which the major telecommunications companies shared their traffic with the NSA, and officially confirmed the existence of this signals intelligence agency to the public for the first time.'"
      ]
     },
     "execution_count": 59,
     "metadata": {},
     "output_type": "execute_result"
    }
   ],
   "source": [
    "compressed_docs[0].metadata['summary']"
   ]
  }
 ],
 "metadata": {
  "kernelspec": {
   "display_name": "Python 3 (ipykernel)",
   "language": "python",
   "name": "python3"
  },
  "language_info": {
   "codemirror_mode": {
    "name": "ipython",
    "version": 3
   },
   "file_extension": ".py",
   "mimetype": "text/x-python",
   "name": "python",
   "nbconvert_exporter": "python",
   "pygments_lexer": "ipython3",
   "version": "3.12.7"
  }
 },
 "nbformat": 4,
 "nbformat_minor": 5
}
