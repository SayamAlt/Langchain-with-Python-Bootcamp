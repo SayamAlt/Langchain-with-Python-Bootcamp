{
 "cells": [
  {
   "cell_type": "code",
   "execution_count": 26,
   "id": "95f0a467-cf95-46f4-b015-870c78a0e680",
   "metadata": {},
   "outputs": [],
   "source": [
    "from langchain.document_loaders import HNLoader\n",
    "from langchain.prompts import ChatPromptTemplate, HumanMessagePromptTemplate\n",
    "from langchain.chat_models import ChatOpenAI\n",
    "from dotenv import load_dotenv\n",
    "import os, warnings\n",
    "warnings.filterwarnings('ignore')"
   ]
  },
  {
   "cell_type": "code",
   "execution_count": 32,
   "id": "0e6abdc6-cbe6-4a40-976a-5dd32385626f",
   "metadata": {},
   "outputs": [],
   "source": [
    "load_dotenv()\n",
    "api_key = os.environ['OPENAI_API_KEY']"
   ]
  },
  {
   "cell_type": "code",
   "execution_count": 10,
   "id": "8e146b51-5084-4f3d-ac4d-01977ac87bce",
   "metadata": {},
   "outputs": [],
   "source": [
    "loader = HNLoader(web_path=\"https://news.ycombinator.com/item?id=43234089\")"
   ]
  },
  {
   "cell_type": "code",
   "execution_count": 12,
   "id": "b24cd23e-f034-43fc-8310-68f7d68468bc",
   "metadata": {},
   "outputs": [],
   "source": [
    "data = loader.load()"
   ]
  },
  {
   "cell_type": "code",
   "execution_count": 16,
   "id": "335c7261-d6cb-4c15-b0a5-c88c0d636e80",
   "metadata": {},
   "outputs": [
    {
     "data": {
      "text/plain": [
       "158"
      ]
     },
     "execution_count": 16,
     "metadata": {},
     "output_type": "execute_result"
    }
   ],
   "source": [
    "len(data)"
   ]
  },
  {
   "cell_type": "code",
   "execution_count": 58,
   "id": "95277515-0167-465a-a3db-7948d3f87652",
   "metadata": {},
   "outputs": [
    {
     "name": "stdout",
     "output_type": "stream",
     "text": [
      "degurechaff 41 minutes ago  \n",
      "             | root | parent | next [–] \n",
      "\n",
      "well, java is island but the island have BIG populations\n",
      " \n",
      "reply\n"
     ]
    }
   ],
   "source": [
    "print(data[36].page_content)"
   ]
  },
  {
   "cell_type": "code",
   "execution_count": 22,
   "id": "769e48dd-f49e-4778-951c-c091fc7f43a8",
   "metadata": {},
   "outputs": [
    {
     "data": {
      "text/plain": [
       "{'source': 'https://news.ycombinator.com/item?id=43234089',\n",
       " 'title': 'Geothermal power is a climate moon shot beneath our feet'}"
      ]
     },
     "execution_count": 22,
     "metadata": {},
     "output_type": "execute_result"
    }
   ],
   "source": [
    "data[0].metadata"
   ]
  },
  {
   "cell_type": "code",
   "execution_count": 34,
   "id": "c28b64b9-dd56-4d49-ac0f-80f20d1b6532",
   "metadata": {},
   "outputs": [],
   "source": [
    "chat_model = ChatOpenAI(api_key=api_key)"
   ]
  },
  {
   "cell_type": "code",
   "execution_count": 50,
   "id": "3538dad2-5352-4019-bf1b-bdbe26cf7d6a",
   "metadata": {},
   "outputs": [
    {
     "data": {
      "text/plain": [
       "HumanMessagePromptTemplate(prompt=PromptTemplate(input_variables=['comment'], input_types={}, partial_variables={}, template='Please give me a short summary of the following Hacker News comment:\\n{comment}'), additional_kwargs={})"
      ]
     },
     "execution_count": 50,
     "metadata": {},
     "output_type": "execute_result"
    }
   ],
   "source": [
    "human_prompt = HumanMessagePromptTemplate.from_template(\"Please give me a short summary of the following Hacker News comment:\\n{comment}\")\n",
    "human_prompt"
   ]
  },
  {
   "cell_type": "code",
   "execution_count": 52,
   "id": "6f7e7e8a-fbcd-4a43-a587-e0869114a291",
   "metadata": {},
   "outputs": [
    {
     "data": {
      "text/plain": [
       "ChatPromptTemplate(input_variables=['comment'], input_types={}, partial_variables={}, messages=[HumanMessagePromptTemplate(prompt=PromptTemplate(input_variables=['comment'], input_types={}, partial_variables={}, template='Please give me a short summary of the following Hacker News comment:\\n{comment}'), additional_kwargs={})])"
      ]
     },
     "execution_count": 52,
     "metadata": {},
     "output_type": "execute_result"
    }
   ],
   "source": [
    "chat_prompt = ChatPromptTemplate.from_messages([human_prompt])\n",
    "chat_prompt"
   ]
  },
  {
   "cell_type": "code",
   "execution_count": 54,
   "id": "0cb95ddd-3933-4419-ae42-913401251312",
   "metadata": {},
   "outputs": [
    {
     "data": {
      "text/plain": [
       "[HumanMessage(content='Please give me a short summary of the following Hacker News comment:\\ndegurechaff 41 minutes ago  \\n             | root | parent | next [–] \\n\\nwell, java is island but the island have BIG populations\\n \\nreply', additional_kwargs={}, response_metadata={})]"
      ]
     },
     "execution_count": 54,
     "metadata": {},
     "output_type": "execute_result"
    }
   ],
   "source": [
    "chat_prompt = chat_prompt.format_prompt(comment=data[36].page_content).to_messages()\n",
    "chat_prompt"
   ]
  },
  {
   "cell_type": "code",
   "execution_count": 56,
   "id": "fe74e236-82be-4906-8b21-5be459139d32",
   "metadata": {},
   "outputs": [
    {
     "name": "stdout",
     "output_type": "stream",
     "text": [
      "The comment is stating that while Java may be considered an isolated language in terms of its ecosystem, it still has a large user base or community.\n"
     ]
    }
   ],
   "source": [
    "result = chat_model(chat_prompt)\n",
    "print(result.content)"
   ]
  }
 ],
 "metadata": {
  "kernelspec": {
   "display_name": "Python 3 (ipykernel)",
   "language": "python",
   "name": "python3"
  },
  "language_info": {
   "codemirror_mode": {
    "name": "ipython",
    "version": 3
   },
   "file_extension": ".py",
   "mimetype": "text/x-python",
   "name": "python",
   "nbconvert_exporter": "python",
   "pygments_lexer": "ipython3",
   "version": "3.12.7"
  }
 },
 "nbformat": 4,
 "nbformat_minor": 5
}
