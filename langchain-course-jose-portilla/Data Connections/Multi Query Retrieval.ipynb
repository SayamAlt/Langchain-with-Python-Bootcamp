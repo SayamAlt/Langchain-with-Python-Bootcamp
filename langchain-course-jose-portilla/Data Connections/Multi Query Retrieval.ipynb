{
 "cells": [
  {
   "cell_type": "code",
   "execution_count": 2,
   "id": "90538858-faca-4bce-a024-1ab6b07c5fe0",
   "metadata": {},
   "outputs": [],
   "source": [
    "from langchain.document_loaders import WikipediaLoader\n",
    "from langchain.text_splitter import CharacterTextSplitter\n",
    "from langchain.embeddings import OpenAIEmbeddings\n",
    "from dotenv import load_dotenv\n",
    "load_dotenv()\n",
    "import os, warnings, logging\n",
    "warnings.filterwarnings('ignore')\n",
    "from langchain.vectorstores import Chroma\n",
    "from langchain.retrievers.multi_query import MultiQueryRetriever\n",
    "from langchain.chat_models import ChatOpenAI"
   ]
  },
  {
   "cell_type": "code",
   "execution_count": 3,
   "id": "6e894a16-55b6-440a-990e-55b31d23deaf",
   "metadata": {},
   "outputs": [],
   "source": [
    "api_key = os.environ['OPENAI_API_KEY']"
   ]
  },
  {
   "cell_type": "code",
   "execution_count": 6,
   "id": "27cfd3d2-11d2-44b0-b616-1285ff26034d",
   "metadata": {},
   "outputs": [],
   "source": [
    "loader = WikipediaLoader(query=\"MKUltra\")"
   ]
  },
  {
   "cell_type": "code",
   "execution_count": 8,
   "id": "f908ac1b-ebc9-4590-a942-26329b11aef8",
   "metadata": {},
   "outputs": [],
   "source": [
    "documents = loader.load()"
   ]
  },
  {
   "cell_type": "code",
   "execution_count": 9,
   "id": "d2892dac-4a53-41b1-873d-1ff9acad77d9",
   "metadata": {},
   "outputs": [
    {
     "data": {
      "text/plain": [
       "24"
      ]
     },
     "execution_count": 9,
     "metadata": {},
     "output_type": "execute_result"
    }
   ],
   "source": [
    "len(documents)"
   ]
  },
  {
   "cell_type": "code",
   "execution_count": 10,
   "id": "0e393528-b847-477f-aa6a-9045619e660e",
   "metadata": {},
   "outputs": [
    {
     "name": "stderr",
     "output_type": "stream",
     "text": [
      "Created a chunk of size 538, which is longer than the specified 500\n",
      "Created a chunk of size 525, which is longer than the specified 500\n",
      "Created a chunk of size 694, which is longer than the specified 500\n"
     ]
    }
   ],
   "source": [
    "text_splitter = CharacterTextSplitter.from_tiktoken_encoder(chunk_size=500)\n",
    "docs = text_splitter.split_documents(documents)"
   ]
  },
  {
   "cell_type": "code",
   "execution_count": 11,
   "id": "ce29181a-d598-4d2a-b9a9-e2c65158225e",
   "metadata": {},
   "outputs": [
    {
     "data": {
      "text/plain": [
       "53"
      ]
     },
     "execution_count": 11,
     "metadata": {},
     "output_type": "execute_result"
    }
   ],
   "source": [
    "len(docs)"
   ]
  },
  {
   "cell_type": "code",
   "execution_count": 12,
   "id": "9cb214eb-0b78-45e0-aa67-d2c5d929731a",
   "metadata": {},
   "outputs": [],
   "source": [
    "embedding = OpenAIEmbeddings(api_key=api_key)"
   ]
  },
  {
   "cell_type": "code",
   "execution_count": 13,
   "id": "6c5bedf6-1f7a-4c36-ad2b-b1d9e45efa9d",
   "metadata": {},
   "outputs": [],
   "source": [
    "db = Chroma.from_documents(docs,embedding=embedding,persist_directory=\"./some_new_mkultra\")"
   ]
  },
  {
   "cell_type": "code",
   "execution_count": 14,
   "id": "dbd4be2c-c37c-4b0a-9482-d75d6d776818",
   "metadata": {},
   "outputs": [],
   "source": [
    "db.persist()"
   ]
  },
  {
   "cell_type": "code",
   "execution_count": 15,
   "id": "d4cce876-7e79-4574-a97b-38079c76db34",
   "metadata": {},
   "outputs": [],
   "source": [
    "chat_model = ChatOpenAI(api_key=api_key,temperature=0)"
   ]
  },
  {
   "cell_type": "code",
   "execution_count": 16,
   "id": "d345d307-8cd0-4dbc-a3f1-e3077517c65a",
   "metadata": {},
   "outputs": [],
   "source": [
    "question = \"When was this declassified?\""
   ]
  },
  {
   "cell_type": "code",
   "execution_count": 26,
   "id": "87dec0ce-f57c-42e3-9551-e14b65aa0d7c",
   "metadata": {},
   "outputs": [],
   "source": [
    "retriever_from_llm = MultiQueryRetriever.from_llm(retriever=db.as_retriever(),llm=chat_model)"
   ]
  },
  {
   "cell_type": "code",
   "execution_count": 28,
   "id": "d1cd0c7c-d0d2-4a96-a64a-8dcaca52295f",
   "metadata": {},
   "outputs": [],
   "source": [
    "# Logging behind the scenes\n",
    "logging.basicConfig()\n",
    "logging.getLogger(\"langchain.retrievers.multi_query\").setLevel(logging.INFO)"
   ]
  },
  {
   "cell_type": "code",
   "execution_count": 30,
   "id": "8da65abe-bb58-48a2-b185-68514fb9d5d0",
   "metadata": {},
   "outputs": [
    {
     "name": "stderr",
     "output_type": "stream",
     "text": [
      "INFO:langchain.retrievers.multi_query:Generated queries: ['1. What is the date of the declassification of this information?', '2. Can you provide the specific time when this was declassified?', '3. Do you have the exact date when this information became declassified?']\n"
     ]
    }
   ],
   "source": [
    "# This will not directly answer any query\n",
    "# It will just return the top N documents which are the most similar\n",
    "unique_docs = retriever_from_llm.get_relevant_documents(question)"
   ]
  },
  {
   "cell_type": "code",
   "execution_count": 32,
   "id": "10c43700-dade-405b-99d6-dc827fa8d845",
   "metadata": {},
   "outputs": [
    {
     "data": {
      "text/plain": [
       "5"
      ]
     },
     "execution_count": 32,
     "metadata": {},
     "output_type": "execute_result"
    }
   ],
   "source": [
    "len(unique_docs)"
   ]
  },
  {
   "cell_type": "code",
   "execution_count": 34,
   "id": "5fce3ead-d418-4500-867d-def6f6a99bbf",
   "metadata": {},
   "outputs": [
    {
     "name": "stdout",
     "output_type": "stream",
     "text": [
      "== Background ==\n",
      "By the early years of the 1970s, a series of troubling revelations had appeared in the press concerning intelligence activities. First came the revelations by Army intelligence officer Christopher Pyle in January 1970 of the US Army's spying on the civilian population and Senator Sam Ervin's Senate investigations produced more revelations. Then on December 22, 1974, The New York Times published a lengthy article by Seymour Hersh detailing operations engaged in by the CIA over the years that had been dubbed the \"family jewels\". Covert action programs involving assassination attempts on foreign leaders and covert attempts to subvert foreign governments were reported for the first time. In addition, the article discussed efforts by intelligence agencies to collect information on the political activities of US citizens.\n",
      "The creation of the Church Committee was approved on January 27, 1975, by a vote of 82 to 4 in the Senate.\n",
      "\n",
      "\n",
      "== Overview ==\n",
      "The Church Committee's final report was published in April 1976 in six books. Also published were seven volumes of Church Committee hearings in the Senate.\n",
      "Before the release of the final report, the committee also published an interim report titled \"Alleged Assassination Plots Involving Foreign Leaders\", which investigated alleged attempts to assassinate foreign leaders, including Patrice Lumumba of Zaire, Rafael Trujillo of the Dominican Republic, Ngo Dinh Diem of South Vietnam, Gen. René Schneider of Chile, and Fidel Castro of Cuba. President Gerald Ford urged the Senate to withhold the report from the public, but failed, and under recommendations and pressure by the committee, Ford issued Executive Order 11905 (ultimately replaced in 1981 by President Reagan's Executive Order 12333) to ban US sanctioned assassinations of foreign leaders.\n",
      "In addition, the committee produced seven case studies on covert operations, but only the one on Chile was released, titled \"Covert Action in Chile: 1963–1973\". The rest were kept secret at CIA's request.\n",
      "According to a declassified National Security Agency history, the Church Committee also helped to uncover the NSA's Watch List. The inf\n"
     ]
    }
   ],
   "source": [
    "print(unique_docs[0].page_content)"
   ]
  }
 ],
 "metadata": {
  "kernelspec": {
   "display_name": "Python 3 (ipykernel)",
   "language": "python",
   "name": "python3"
  },
  "language_info": {
   "codemirror_mode": {
    "name": "ipython",
    "version": 3
   },
   "file_extension": ".py",
   "mimetype": "text/x-python",
   "name": "python",
   "nbconvert_exporter": "python",
   "pygments_lexer": "ipython3",
   "version": "3.12.7"
  }
 },
 "nbformat": 4,
 "nbformat_minor": 5
}
