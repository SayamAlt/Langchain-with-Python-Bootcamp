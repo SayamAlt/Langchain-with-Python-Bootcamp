{
 "cells": [
  {
   "cell_type": "code",
   "execution_count": 60,
   "id": "5191bc02-13c0-48be-afd4-7e24232461bd",
   "metadata": {},
   "outputs": [],
   "source": [
    "from langchain.chat_models import ChatOpenAI\n",
    "from dotenv import load_dotenv\n",
    "import os, warnings, langchain\n",
    "warnings.filterwarnings('ignore')\n",
    "from langchain.schema import AIMessage, HumanMessage, SystemMessage\n",
    "from langchain.cache import InMemoryCache\n",
    "from langchain.llms import OpenAI"
   ]
  },
  {
   "cell_type": "code",
   "execution_count": null,
   "id": "8257bcef-51a3-4af7-ba14-6386c796617e",
   "metadata": {},
   "outputs": [],
   "source": [
    "langchain.cache = InMemoryCache()"
   ]
  },
  {
   "cell_type": "code",
   "execution_count": 4,
   "id": "2fa53d6f-42be-41e0-98c3-7fd9fd3cb79b",
   "metadata": {},
   "outputs": [
    {
     "data": {
      "text/plain": [
       "True"
      ]
     },
     "execution_count": 4,
     "metadata": {},
     "output_type": "execute_result"
    }
   ],
   "source": [
    "load_dotenv()"
   ]
  },
  {
   "cell_type": "code",
   "execution_count": 6,
   "id": "2ebf4bde-888f-45f5-bac8-07d1097d847f",
   "metadata": {},
   "outputs": [],
   "source": [
    "api_key = os.environ['OPENAI_API_KEY']"
   ]
  },
  {
   "cell_type": "code",
   "execution_count": 12,
   "id": "0c5af580-6b80-4bdc-9f7c-0daac5542380",
   "metadata": {},
   "outputs": [],
   "source": [
    "chat_model = ChatOpenAI(api_key=api_key)"
   ]
  },
  {
   "cell_type": "code",
   "execution_count": 20,
   "id": "d0155bf4-107c-4001-8423-652fe05ea9b3",
   "metadata": {},
   "outputs": [
    {
     "data": {
      "text/plain": [
       "AIMessage(content='One interesting fact about Venus is that it has the longest rotation period of any planet in our solar system, taking about 243 Earth days to complete a single rotation on its axis. Additionally, Venus rotates in the opposite direction to most planets, a phenomenon known as retrograde rotation.', additional_kwargs={}, response_metadata={'token_usage': {'completion_tokens': 57, 'prompt_tokens': 23, 'total_tokens': 80, 'completion_tokens_details': {'accepted_prediction_tokens': 0, 'audio_tokens': 0, 'reasoning_tokens': 0, 'rejected_prediction_tokens': 0}, 'prompt_tokens_details': {'audio_tokens': 0, 'cached_tokens': 0}}, 'model_name': 'gpt-3.5-turbo', 'system_fingerprint': None, 'finish_reason': 'stop', 'logprobs': None}, id='run-df95f9a6-7a90-4c45-954c-963cae441215-0')"
      ]
     },
     "execution_count": 20,
     "metadata": {},
     "output_type": "execute_result"
    }
   ],
   "source": [
    "result = chat_model([\n",
    "    SystemMessage(content='You are an astronomy domain expert'),\n",
    "    HumanMessage(content='Tell me a fact about Venus')\n",
    "])\n",
    "result"
   ]
  },
  {
   "cell_type": "code",
   "execution_count": 24,
   "id": "8f217444-6996-4909-8e53-8d48f619b825",
   "metadata": {},
   "outputs": [
    {
     "name": "stdout",
     "output_type": "stream",
     "text": [
      "One interesting fact about Venus is that it has the longest rotation period of any planet in our solar system, taking about 243 Earth days to complete a single rotation on its axis. Additionally, Venus rotates in the opposite direction to most planets, a phenomenon known as retrograde rotation.\n"
     ]
    }
   ],
   "source": [
    "print(result.content)"
   ]
  },
  {
   "cell_type": "code",
   "execution_count": 26,
   "id": "814ff93a-191f-4ad6-9c49-1d5e80bf5dae",
   "metadata": {},
   "outputs": [
    {
     "data": {
      "text/plain": [
       "LLMResult(generations=[[ChatGeneration(text='One interesting fact about Venus is that it is often referred to as Earth\\'s \"sister planet\" because of their similar size, mass, and composition. However, Venus has a very different atmosphere, with thick clouds of sulfuric acid that create a runaway greenhouse effect, making it the hottest planet in our solar system with surface temperatures hot enough to melt lead.', generation_info={'finish_reason': 'stop', 'logprobs': None}, message=AIMessage(content='One interesting fact about Venus is that it is often referred to as Earth\\'s \"sister planet\" because of their similar size, mass, and composition. However, Venus has a very different atmosphere, with thick clouds of sulfuric acid that create a runaway greenhouse effect, making it the hottest planet in our solar system with surface temperatures hot enough to melt lead.', additional_kwargs={}, response_metadata={'token_usage': {'completion_tokens': 73, 'prompt_tokens': 23, 'total_tokens': 96, 'completion_tokens_details': {'accepted_prediction_tokens': 0, 'audio_tokens': 0, 'reasoning_tokens': 0, 'rejected_prediction_tokens': 0}, 'prompt_tokens_details': {'audio_tokens': 0, 'cached_tokens': 0}}, 'model_name': 'gpt-3.5-turbo', 'system_fingerprint': None, 'finish_reason': 'stop', 'logprobs': None}, id='run-33481262-5f4c-4620-a88e-251e8fa98c31-0'))], [ChatGeneration(text='One interesting fact about Venus is that it is often referred to as Earth\\'s \"sister planet\" because of its similar size and composition. However, Venus has a very different environment compared to Earth, with a thick atmosphere of carbon dioxide and sulfuric acid clouds that create a runaway greenhouse effect, making it the hottest planet in our solar system.', generation_info={'finish_reason': 'stop', 'logprobs': None}, message=AIMessage(content='One interesting fact about Venus is that it is often referred to as Earth\\'s \"sister planet\" because of its similar size and composition. However, Venus has a very different environment compared to Earth, with a thick atmosphere of carbon dioxide and sulfuric acid clouds that create a runaway greenhouse effect, making it the hottest planet in our solar system.', additional_kwargs={}, response_metadata={'token_usage': {'completion_tokens': 70, 'prompt_tokens': 24, 'total_tokens': 94, 'completion_tokens_details': {'accepted_prediction_tokens': 0, 'audio_tokens': 0, 'reasoning_tokens': 0, 'rejected_prediction_tokens': 0}, 'prompt_tokens_details': {'audio_tokens': 0, 'cached_tokens': 0}}, 'model_name': 'gpt-3.5-turbo', 'system_fingerprint': None, 'finish_reason': 'stop', 'logprobs': None}, id='run-a7b446d0-6be0-4b5a-b2ff-92ec2c009884-0'))]], llm_output={'token_usage': {'completion_tokens': 143, 'prompt_tokens': 47, 'total_tokens': 190, 'completion_tokens_details': {'accepted_prediction_tokens': 0, 'audio_tokens': 0, 'reasoning_tokens': 0, 'rejected_prediction_tokens': 0}, 'prompt_tokens_details': {'audio_tokens': 0, 'cached_tokens': 0}}, 'model_name': 'gpt-3.5-turbo'}, run=[RunInfo(run_id=UUID('33481262-5f4c-4620-a88e-251e8fa98c31')), RunInfo(run_id=UUID('a7b446d0-6be0-4b5a-b2ff-92ec2c009884'))], type='LLMResult')"
      ]
     },
     "execution_count": 26,
     "metadata": {},
     "output_type": "execute_result"
    }
   ],
   "source": [
    "results = chat_model.generate([\n",
    "    [\n",
    "        SystemMessage(content='You are an astronomy domain expert'),\n",
    "        HumanMessage(content='Tell me a fact about Venus')\n",
    "    ],\n",
    "    [\n",
    "        SystemMessage(content='You are a solar system domain expert'),\n",
    "        HumanMessage(content='Tell me a fact about Venus')\n",
    "    ]\n",
    "])\n",
    "results"
   ]
  },
  {
   "cell_type": "code",
   "execution_count": 32,
   "id": "9aba069d-fb95-4fdb-a9ba-de4921aa4ecf",
   "metadata": {},
   "outputs": [
    {
     "name": "stdout",
     "output_type": "stream",
     "text": [
      "One interesting fact about Venus is that it is often referred to as Earth's \"sister planet\" because of their similar size, mass, and composition. However, Venus has a very different atmosphere, with thick clouds of sulfuric acid that create a runaway greenhouse effect, making it the hottest planet in our solar system with surface temperatures hot enough to melt lead.\n"
     ]
    }
   ],
   "source": [
    "print(results.generations[0][0].text)"
   ]
  },
  {
   "cell_type": "code",
   "execution_count": 36,
   "id": "ed5a3bb7-cced-4d52-8eba-cd4bded12d17",
   "metadata": {},
   "outputs": [
    {
     "name": "stdout",
     "output_type": "stream",
     "text": [
      "One interesting fact about Venus is that it is often referred to as Earth's \"sister planet\" because of its similar size and composition. However, Venus has a very different environment compared to Earth, with a thick atmosphere of carbon dioxide and sulfuric acid clouds that create a runaway greenhouse effect, making it the hottest planet in our solar system.\n"
     ]
    }
   ],
   "source": [
    "print(results.generations[1][0].text)"
   ]
  },
  {
   "cell_type": "code",
   "execution_count": 38,
   "id": "8f61bb87-155c-4c64-8ffa-917a49b61354",
   "metadata": {},
   "outputs": [
    {
     "data": {
      "text/plain": [
       "{'token_usage': {'completion_tokens': 143,\n",
       "  'prompt_tokens': 47,\n",
       "  'total_tokens': 190,\n",
       "  'completion_tokens_details': {'accepted_prediction_tokens': 0,\n",
       "   'audio_tokens': 0,\n",
       "   'reasoning_tokens': 0,\n",
       "   'rejected_prediction_tokens': 0},\n",
       "  'prompt_tokens_details': {'audio_tokens': 0, 'cached_tokens': 0}},\n",
       " 'model_name': 'gpt-3.5-turbo'}"
      ]
     },
     "execution_count": 38,
     "metadata": {},
     "output_type": "execute_result"
    }
   ],
   "source": [
    "results.llm_output"
   ]
  },
  {
   "cell_type": "code",
   "execution_count": 50,
   "id": "cf6fc040-4bfd-4829-a010-27b0bc6830cc",
   "metadata": {},
   "outputs": [
    {
     "data": {
      "text/plain": [
       "AIMessage(content='One interesting fact about Venus is that it has a very thick atmosphere composed mainly of', additional_kwargs={}, response_metadata={'token_usage': {'completion_tokens': 16, 'prompt_tokens': 24, 'total_tokens': 40, 'completion_tokens_details': {'accepted_prediction_tokens': 0, 'audio_tokens': 0, 'reasoning_tokens': 0, 'rejected_prediction_tokens': 0}, 'prompt_tokens_details': {'audio_tokens': 0, 'cached_tokens': 0}}, 'model_name': 'gpt-3.5-turbo', 'system_fingerprint': None, 'finish_reason': 'length', 'logprobs': None}, id='run-41e12fc6-4f70-4d2c-b6c3-5f6e29670964-0')"
      ]
     },
     "execution_count": 50,
     "metadata": {},
     "output_type": "execute_result"
    }
   ],
   "source": [
    "result = chat_model(messages=[\n",
    "        SystemMessage(content='You are a solar system domain expert'),\n",
    "        HumanMessage(content='Tell me a fact about Venus')\n",
    "    ],temperature=0.4,presence_penalty=2,max_tokens=16)\n",
    "result"
   ]
  },
  {
   "cell_type": "code",
   "execution_count": 52,
   "id": "56c3f28a-2c29-450c-ac1b-f1064e96263e",
   "metadata": {},
   "outputs": [
    {
     "data": {
      "text/plain": [
       "'One interesting fact about Venus is that it has a very thick atmosphere composed mainly of'"
      ]
     },
     "execution_count": 52,
     "metadata": {},
     "output_type": "execute_result"
    }
   ],
   "source": [
    "result.content"
   ]
  },
  {
   "cell_type": "code",
   "execution_count": 72,
   "id": "c0f5e804-622d-48ec-a58d-9d60ef95d690",
   "metadata": {},
   "outputs": [
    {
     "name": "stdout",
     "output_type": "stream",
     "text": [
      "\n",
      "\n",
      "Jupyter was originally created by a team of researchers at the University of California, Berkeley to help scientists share and collaborate on their data analysis and research findings. However, the name \"Jupyter\" is actually a combination of the programming languages it supports: Julia, Python, and R.\n"
     ]
    }
   ],
   "source": [
    "llm = OpenAI(openai_api_key=api_key,temperature=0)\n",
    "print(llm.predict('tell me a crazy fact about Jupyter'))"
   ]
  },
  {
   "cell_type": "code",
   "execution_count": 73,
   "id": "4028711d-be0c-490b-9df0-a3b72ffa7b1c",
   "metadata": {},
   "outputs": [
    {
     "name": "stdout",
     "output_type": "stream",
     "text": [
      "\n",
      "\n",
      "Jupyter was originally created by a team of researchers at the University of California, Berkeley to help scientists share and collaborate on their data analysis and research findings. However, the name \"Jupyter\" is actually a combination of the programming languages it supports: Julia, Python, and R.\n"
     ]
    }
   ],
   "source": [
    "print(llm.predict('tell me a crazy fact about Jupyter'))"
   ]
  }
 ],
 "metadata": {
  "kernelspec": {
   "display_name": "Python 3 (ipykernel)",
   "language": "python",
   "name": "python3"
  },
  "language_info": {
   "codemirror_mode": {
    "name": "ipython",
    "version": 3
   },
   "file_extension": ".py",
   "mimetype": "text/x-python",
   "name": "python",
   "nbconvert_exporter": "python",
   "pygments_lexer": "ipython3",
   "version": "3.12.7"
  }
 },
 "nbformat": 4,
 "nbformat_minor": 5
}
