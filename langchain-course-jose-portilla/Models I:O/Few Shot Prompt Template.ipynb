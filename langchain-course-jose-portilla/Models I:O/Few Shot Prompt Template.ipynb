{
 "cells": [
  {
   "cell_type": "code",
   "execution_count": 8,
   "id": "4585bbbe-b4ec-4458-8646-1459c482ad93",
   "metadata": {},
   "outputs": [],
   "source": [
    "from langchain.chat_models import ChatOpenAI\n",
    "from dotenv import load_dotenv\n",
    "import os, warnings\n",
    "warnings.filterwarnings('ignore')\n",
    "from langchain.prompts import ChatPromptTemplate, SystemMessagePromptTemplate, HumanMessagePromptTemplate, AIMessagePromptTemplate"
   ]
  },
  {
   "cell_type": "code",
   "execution_count": 4,
   "id": "69e99bc9-27cc-4a2e-8ae9-c82a0bf59874",
   "metadata": {},
   "outputs": [],
   "source": [
    "load_dotenv()\n",
    "api_key = load_dotenv('OPENAI_API_KEY')"
   ]
  },
  {
   "cell_type": "code",
   "execution_count": 6,
   "id": "43c4ace4-4d48-47f7-82a5-f83c68a2f806",
   "metadata": {},
   "outputs": [],
   "source": [
    "chat_model = ChatOpenAI(api_key=api_key)"
   ]
  },
  {
   "cell_type": "code",
   "execution_count": 10,
   "id": "fc3a4dd5-27fb-493d-8d8b-16d8a28b834c",
   "metadata": {},
   "outputs": [],
   "source": [
    "# AI Bot\n",
    "# Complex legal text --> Simple text\n",
    "\n",
    "system_template = \"You are a helpful legal assistant who helps to translate complex legal concepts into simple and understandable terms.\"\n",
    "system_prompt = SystemMessagePromptTemplate.from_template(system_template)"
   ]
  },
  {
   "cell_type": "code",
   "execution_count": 12,
   "id": "ffbcf0d9-1de8-4556-beb7-570f0bdc4403",
   "metadata": {},
   "outputs": [],
   "source": [
    "# FEW SHOT\n",
    "# INPUT PROMPT: HUMAN\n",
    "# OUTPUT PROMPT: AI\n",
    "\n",
    "legal_text = \"This Agreement constitutes the entire understanding between the parties and supersedes all prior discussions, representations, or agreements, whether written or oral. Any modifications must be made in writing and signed by both parties. Failure to enforce any provision shall not be deemed a waiver of any rights. If any provision is found to be invalid, the remaining terms shall remain in full force and effect.\"\n",
    "example_input_one = HumanMessagePromptTemplate.from_template(legal_text)\n",
    "plain_text = \"This agreement is the final say between both parties, replacing any past talks or deals. Changes must be in writing and signed. Not enforcing a rule doesn’t mean giving up rights. If one part is invalid, the rest still applies.\"\n",
    "example_output_one = AIMessagePromptTemplate.from_template(plain_text)"
   ]
  },
  {
   "cell_type": "code",
   "execution_count": 14,
   "id": "58ab78fa-bb7c-4219-b611-1b8be6e31522",
   "metadata": {},
   "outputs": [],
   "source": [
    "human_template = \"{legal_text}\"\n",
    "human_prompt = HumanMessagePromptTemplate.from_template(human_template)"
   ]
  },
  {
   "cell_type": "code",
   "execution_count": 16,
   "id": "55cbd2b6-3673-4a59-aefe-e9b8b4ff2c94",
   "metadata": {},
   "outputs": [
    {
     "data": {
      "text/plain": [
       "ChatPromptTemplate(input_variables=['legal_text'], input_types={}, partial_variables={}, messages=[SystemMessagePromptTemplate(prompt=PromptTemplate(input_variables=[], input_types={}, partial_variables={}, template='You are a helpful legal assistant who helps to translate complex legal concepts into simple and understandable terms.'), additional_kwargs={}), HumanMessagePromptTemplate(prompt=PromptTemplate(input_variables=[], input_types={}, partial_variables={}, template='This Agreement constitutes the entire understanding between the parties and supersedes all prior discussions, representations, or agreements, whether written or oral. Any modifications must be made in writing and signed by both parties. Failure to enforce any provision shall not be deemed a waiver of any rights. If any provision is found to be invalid, the remaining terms shall remain in full force and effect.'), additional_kwargs={}), AIMessagePromptTemplate(prompt=PromptTemplate(input_variables=[], input_types={}, partial_variables={}, template='This agreement is the final say between both parties, replacing any past talks or deals. Changes must be in writing and signed. Not enforcing a rule doesn’t mean giving up rights. If one part is invalid, the rest still applies.'), additional_kwargs={}), HumanMessagePromptTemplate(prompt=PromptTemplate(input_variables=['legal_text'], input_types={}, partial_variables={}, template='{legal_text}'), additional_kwargs={})])"
      ]
     },
     "execution_count": 16,
     "metadata": {},
     "output_type": "execute_result"
    }
   ],
   "source": [
    "chat_prompt_template = ChatPromptTemplate.from_messages(messages=[system_prompt,example_input_one,example_output_one,human_prompt])\n",
    "chat_prompt_template"
   ]
  },
  {
   "cell_type": "code",
   "execution_count": 18,
   "id": "5a128bf6-fb7e-46c6-85ac-e6a3a77262b2",
   "metadata": {},
   "outputs": [
    {
     "data": {
      "text/plain": [
       "['legal_text']"
      ]
     },
     "execution_count": 18,
     "metadata": {},
     "output_type": "execute_result"
    }
   ],
   "source": [
    "chat_prompt_template.input_variables"
   ]
  },
  {
   "cell_type": "code",
   "execution_count": 22,
   "id": "73b58f18-d5f1-4a3c-8318-a73833817908",
   "metadata": {},
   "outputs": [
    {
     "data": {
      "text/plain": [
       "[SystemMessage(content='You are a helpful legal assistant who helps to translate complex legal concepts into simple and understandable terms.', additional_kwargs={}, response_metadata={}),\n",
       " HumanMessage(content='This Agreement constitutes the entire understanding between the parties and supersedes all prior discussions, representations, or agreements, whether written or oral. Any modifications must be made in writing and signed by both parties. Failure to enforce any provision shall not be deemed a waiver of any rights. If any provision is found to be invalid, the remaining terms shall remain in full force and effect.', additional_kwargs={}, response_metadata={}),\n",
       " AIMessage(content='This agreement is the final say between both parties, replacing any past talks or deals. Changes must be in writing and signed. Not enforcing a rule doesn’t mean giving up rights. If one part is invalid, the rest still applies.', additional_kwargs={}, response_metadata={}),\n",
       " HumanMessage(content='The parties agree that any dispute, controversy, or claim arising out of or relating to this Agreement, including its formation, interpretation, breach, or termination, shall be resolved through binding arbitration in accordance with the rules of the American Arbitration Association. The arbitration shall take place in a mutually agreed-upon location, and the decision of the arbitrator shall be final and enforceable in any court of competent jurisdiction. Each party shall bear its own costs, except as otherwise determined by the arbitrator. Nothing in this clause shall prevent either party from seeking injunctive relief in a court of law to prevent irreparable harm.', additional_kwargs={}, response_metadata={})]"
      ]
     },
     "execution_count": 22,
     "metadata": {},
     "output_type": "execute_result"
    }
   ],
   "source": [
    "chat_prompt = chat_prompt_template.format_prompt(legal_text=\"The parties agree that any dispute, controversy, or claim arising out of or relating to this Agreement, including its formation, interpretation, breach, or termination, shall be resolved through binding arbitration in accordance with the rules of the American Arbitration Association. The arbitration shall take place in a mutually agreed-upon location, and the decision of the arbitrator shall be final and enforceable in any court of competent jurisdiction. Each party shall bear its own costs, except as otherwise determined by the arbitrator. Nothing in this clause shall prevent either party from seeking injunctive relief in a court of law to prevent irreparable harm.\").to_messages()\n",
    "chat_prompt"
   ]
  },
  {
   "cell_type": "code",
   "execution_count": 24,
   "id": "3db40c8f-b058-437c-b90c-ac0c9b13b78f",
   "metadata": {},
   "outputs": [
    {
     "name": "stdout",
     "output_type": "stream",
     "text": [
      "Both parties agree to solve any disagreements about this agreement through binding arbitration following the American Arbitration Association's rules. The location of the arbitration will be agreed upon by both parties. The arbitrator's decision is final and can be enforced in court. Each party will pay its own costs, unless the arbitrator decides otherwise. Either party can still seek urgent court action to prevent irreparable harm.\n"
     ]
    }
   ],
   "source": [
    "result = chat_model(chat_prompt)\n",
    "print(result.content)"
   ]
  }
 ],
 "metadata": {
  "kernelspec": {
   "display_name": "Python 3 (ipykernel)",
   "language": "python",
   "name": "python3"
  },
  "language_info": {
   "codemirror_mode": {
    "name": "ipython",
    "version": 3
   },
   "file_extension": ".py",
   "mimetype": "text/x-python",
   "name": "python",
   "nbconvert_exporter": "python",
   "pygments_lexer": "ipython3",
   "version": "3.12.7"
  }
 },
 "nbformat": 4,
 "nbformat_minor": 5
}
