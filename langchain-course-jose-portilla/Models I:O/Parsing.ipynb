{
 "cells": [
  {
   "cell_type": "code",
   "execution_count": 98,
   "id": "04419eb6-4aeb-47bc-a61a-47429dc862db",
   "metadata": {},
   "outputs": [],
   "source": [
    "from langchain.chat_models import ChatOpenAI\n",
    "from langchain.prompts import PromptTemplate, ChatPromptTemplate, HumanMessagePromptTemplate, SystemMessagePromptTemplate\n",
    "from dotenv import load_dotenv\n",
    "import os, warnings\n",
    "warnings.filterwarnings('ignore')\n",
    "from langchain.output_parsers import CommaSeparatedListOutputParser, DatetimeOutputParser, OutputFixingParser, PydanticOutputParser\n",
    "from pydantic import BaseModel, Field"
   ]
  },
  {
   "cell_type": "code",
   "execution_count": 4,
   "id": "06bd19aa-c7d1-4089-b69b-c2270cae8726",
   "metadata": {},
   "outputs": [],
   "source": [
    "load_dotenv()\n",
    "api_key = os.environ['OPENAI_API_KEY']"
   ]
  },
  {
   "cell_type": "code",
   "execution_count": 8,
   "id": "950dbf61-1b29-4db8-8439-f5c9f451e75a",
   "metadata": {},
   "outputs": [],
   "source": [
    "model = ChatOpenAI(api_key=api_key)"
   ]
  },
  {
   "cell_type": "code",
   "execution_count": 12,
   "id": "85748524-558c-4b83-99cd-bb9dd47c08f7",
   "metadata": {},
   "outputs": [
    {
     "data": {
      "text/plain": [
       "'Your response should be a list of comma separated values, eg: `foo, bar, baz` or `foo,bar,baz`'"
      ]
     },
     "execution_count": 12,
     "metadata": {},
     "output_type": "execute_result"
    }
   ],
   "source": [
    "output_parser = CommaSeparatedListOutputParser()\n",
    "output_parser.get_format_instructions()"
   ]
  },
  {
   "cell_type": "code",
   "execution_count": 14,
   "id": "8e6daeee-aeb8-4e2d-8b30-fc5d73d48fdf",
   "metadata": {},
   "outputs": [],
   "source": [
    "reply = \"red, green, blue\""
   ]
  },
  {
   "cell_type": "code",
   "execution_count": 16,
   "id": "f15c8b18-0c65-4de4-8f00-453ad1c520b9",
   "metadata": {},
   "outputs": [
    {
     "data": {
      "text/plain": [
       "['red', 'green', 'blue']"
      ]
     },
     "execution_count": 16,
     "metadata": {},
     "output_type": "execute_result"
    }
   ],
   "source": [
    "output_parser.parse(reply)"
   ]
  },
  {
   "cell_type": "code",
   "execution_count": 22,
   "id": "21c73b7b-e50e-4619-86e2-1fa988bb8dd9",
   "metadata": {},
   "outputs": [
    {
     "data": {
      "text/plain": [
       "HumanMessagePromptTemplate(prompt=PromptTemplate(input_variables=['format_instructions', 'request'], input_types={}, partial_variables={}, template='{request}\\n{format_instructions}'), additional_kwargs={})"
      ]
     },
     "execution_count": 22,
     "metadata": {},
     "output_type": "execute_result"
    }
   ],
   "source": [
    "human_template = \"{request}\\n{format_instructions}\"\n",
    "human_prompt = HumanMessagePromptTemplate.from_template(human_template)\n",
    "human_prompt"
   ]
  },
  {
   "cell_type": "code",
   "execution_count": 24,
   "id": "6cdc1846-3f97-4b7a-a54a-f644ea816883",
   "metadata": {},
   "outputs": [
    {
     "data": {
      "text/plain": [
       "ChatPromptTemplate(input_variables=['format_instructions', 'request'], input_types={}, partial_variables={}, messages=[HumanMessagePromptTemplate(prompt=PromptTemplate(input_variables=['format_instructions', 'request'], input_types={}, partial_variables={}, template='{request}\\n{format_instructions}'), additional_kwargs={})])"
      ]
     },
     "execution_count": 24,
     "metadata": {},
     "output_type": "execute_result"
    }
   ],
   "source": [
    "chat_prompt = ChatPromptTemplate.from_messages([human_prompt])\n",
    "chat_prompt"
   ]
  },
  {
   "cell_type": "code",
   "execution_count": 30,
   "id": "4055dcb9-d052-4b3b-b7b2-1e149a1a5e3a",
   "metadata": {},
   "outputs": [
    {
     "data": {
      "text/plain": [
       "[HumanMessage(content='Give me 5 characteristics of dogs\\nYour response should be a list of comma separated values, eg: `foo, bar, baz` or `foo,bar,baz`', additional_kwargs={}, response_metadata={})]"
      ]
     },
     "execution_count": 30,
     "metadata": {},
     "output_type": "execute_result"
    }
   ],
   "source": [
    "model_request = chat_prompt.format_prompt(request=\"Give me 5 characteristics of dogs\",format_instructions=output_parser.get_format_instructions()).to_messages()\n",
    "model_request"
   ]
  },
  {
   "cell_type": "code",
   "execution_count": 32,
   "id": "1bc145eb-d6db-4cdc-8e87-2830c5a26398",
   "metadata": {},
   "outputs": [
    {
     "name": "stdout",
     "output_type": "stream",
     "text": [
      "Loyal, playful, friendly, protective, intelligent\n"
     ]
    }
   ],
   "source": [
    "result = model(model_request)\n",
    "print(result.content)"
   ]
  },
  {
   "cell_type": "code",
   "execution_count": 34,
   "id": "687b4f41-fd51-4ac0-9bb2-feb37c467577",
   "metadata": {},
   "outputs": [
    {
     "data": {
      "text/plain": [
       "['Loyal', 'playful', 'friendly', 'protective', 'intelligent']"
      ]
     },
     "execution_count": 34,
     "metadata": {},
     "output_type": "execute_result"
    }
   ],
   "source": [
    "output_parser.parse(result.content)"
   ]
  },
  {
   "cell_type": "code",
   "execution_count": 36,
   "id": "6967b22c-cce9-47a2-befa-2932a86280e9",
   "metadata": {},
   "outputs": [
    {
     "data": {
      "text/plain": [
       "[HumanMessage(content='Write an article on dogs\\nYour response should be a list of comma separated values, eg: `foo, bar, baz` or `foo,bar,baz`', additional_kwargs={}, response_metadata={})]"
      ]
     },
     "execution_count": 36,
     "metadata": {},
     "output_type": "execute_result"
    }
   ],
   "source": [
    "model_request = chat_prompt.format_prompt(request=\"Write an article on dogs\",format_instructions=output_parser.get_format_instructions()).to_messages()\n",
    "model_request"
   ]
  },
  {
   "cell_type": "code",
   "execution_count": 38,
   "id": "e1e2f8ce-c5f5-4d99-8113-bdf7477ad227",
   "metadata": {},
   "outputs": [
    {
     "name": "stdout",
     "output_type": "stream",
     "text": [
      "Loyal, intelligent, playful, affectionate, protective, social, energetic, trainable, obedient, faithful, loving, fun-loving, furry, cute, cuddly, furry, active, companionable, friendly, loyal, faithful, adventurous, loyal, sociable, protective, agile, curious, obedient, alert, clever, devoted, gentle, outgoing, sociable, spirited, stubborn, territorial, watchful, adorable, mischievous, independent, loyal, strong, vibrant, versatile, sweet, loving, reliable, devoted, brave, affectionate, smart, agile, protective, inquisitive, loving, obedient, happy, playful, loving, energetic, bright, devoted, trainable, loyal, friendly, brave, strong, curious, affectionate, protective, loyal, obedient.\n"
     ]
    }
   ],
   "source": [
    "result = model(model_request)\n",
    "print(result.content)"
   ]
  },
  {
   "cell_type": "code",
   "execution_count": 40,
   "id": "2fd59296-4bdc-461f-8ec2-c1b9dde4e85c",
   "metadata": {},
   "outputs": [
    {
     "data": {
      "text/plain": [
       "['Loyal',\n",
       " 'intelligent',\n",
       " 'playful',\n",
       " 'affectionate',\n",
       " 'protective',\n",
       " 'social',\n",
       " 'energetic',\n",
       " 'trainable',\n",
       " 'obedient',\n",
       " 'faithful',\n",
       " 'loving',\n",
       " 'fun-loving',\n",
       " 'furry',\n",
       " 'cute',\n",
       " 'cuddly',\n",
       " 'furry',\n",
       " 'active',\n",
       " 'companionable',\n",
       " 'friendly',\n",
       " 'loyal',\n",
       " 'faithful',\n",
       " 'adventurous',\n",
       " 'loyal',\n",
       " 'sociable',\n",
       " 'protective',\n",
       " 'agile',\n",
       " 'curious',\n",
       " 'obedient',\n",
       " 'alert',\n",
       " 'clever',\n",
       " 'devoted',\n",
       " 'gentle',\n",
       " 'outgoing',\n",
       " 'sociable',\n",
       " 'spirited',\n",
       " 'stubborn',\n",
       " 'territorial',\n",
       " 'watchful',\n",
       " 'adorable',\n",
       " 'mischievous',\n",
       " 'independent',\n",
       " 'loyal',\n",
       " 'strong',\n",
       " 'vibrant',\n",
       " 'versatile',\n",
       " 'sweet',\n",
       " 'loving',\n",
       " 'reliable',\n",
       " 'devoted',\n",
       " 'brave',\n",
       " 'affectionate',\n",
       " 'smart',\n",
       " 'agile',\n",
       " 'protective',\n",
       " 'inquisitive',\n",
       " 'loving',\n",
       " 'obedient',\n",
       " 'happy',\n",
       " 'playful',\n",
       " 'loving',\n",
       " 'energetic',\n",
       " 'bright',\n",
       " 'devoted',\n",
       " 'trainable',\n",
       " 'loyal',\n",
       " 'friendly',\n",
       " 'brave',\n",
       " 'strong',\n",
       " 'curious',\n",
       " 'affectionate',\n",
       " 'protective',\n",
       " 'loyal',\n",
       " 'obedient.']"
      ]
     },
     "execution_count": 40,
     "metadata": {},
     "output_type": "execute_result"
    }
   ],
   "source": [
    "output_parser.parse(result.content)"
   ]
  },
  {
   "cell_type": "code",
   "execution_count": 42,
   "id": "969cca89-b880-4dd6-88f6-689f6fb25762",
   "metadata": {},
   "outputs": [
    {
     "data": {
      "text/plain": [
       "[HumanMessage(content='What is the best dog\\nYour response should be a list of comma separated values, eg: `foo, bar, baz` or `foo,bar,baz`', additional_kwargs={}, response_metadata={})]"
      ]
     },
     "execution_count": 42,
     "metadata": {},
     "output_type": "execute_result"
    }
   ],
   "source": [
    "model_request = chat_prompt.format_prompt(request=\"What is the best dog\",format_instructions=output_parser.get_format_instructions()).to_messages()\n",
    "model_request"
   ]
  },
  {
   "cell_type": "code",
   "execution_count": 46,
   "id": "4610f8f2-c2bd-4757-9fcb-e4701243f4bf",
   "metadata": {},
   "outputs": [
    {
     "data": {
      "text/plain": [
       "['Labrador Retriever',\n",
       " 'German Shepherd',\n",
       " 'Golden Retriever',\n",
       " 'French Bulldog',\n",
       " 'Poodle',\n",
       " 'Beagle',\n",
       " 'Bulldog',\n",
       " 'Australian Shepherd',\n",
       " 'Siberian Husky',\n",
       " 'Dachshund']"
      ]
     },
     "execution_count": 46,
     "metadata": {},
     "output_type": "execute_result"
    }
   ],
   "source": [
    "output_parser.parse(model(model_request).content)"
   ]
  },
  {
   "cell_type": "code",
   "execution_count": 48,
   "id": "f5e5034d-86d7-4f41-9600-ae7db704d25b",
   "metadata": {},
   "outputs": [
    {
     "data": {
      "text/plain": [
       "[HumanMessage(content='Write a poem about animals\\nYour response should be a list of comma separated values, eg: `foo, bar, baz` or `foo,bar,baz`', additional_kwargs={}, response_metadata={})]"
      ]
     },
     "execution_count": 48,
     "metadata": {},
     "output_type": "execute_result"
    }
   ],
   "source": [
    "model_request = chat_prompt.format_prompt(request=\"Write a poem about animals\",format_instructions=output_parser.get_format_instructions()).to_messages()\n",
    "model_request"
   ]
  },
  {
   "cell_type": "code",
   "execution_count": 50,
   "id": "6969ceec-108c-4330-86ea-c5dec605e94c",
   "metadata": {},
   "outputs": [
    {
     "data": {
      "text/plain": [
       "['Lions',\n",
       " 'tigers',\n",
       " 'bears',\n",
       " 'oh my',\n",
       " 'Elephants',\n",
       " 'monkeys',\n",
       " 'birds that fly',\n",
       " 'Dolphins',\n",
       " 'whales',\n",
       " 'creatures of the sea',\n",
       " 'Wolves',\n",
       " 'foxes',\n",
       " 'animals wild and free']"
      ]
     },
     "execution_count": 50,
     "metadata": {},
     "output_type": "execute_result"
    }
   ],
   "source": [
    "output_parser.parse(model(model_request).content)"
   ]
  },
  {
   "cell_type": "code",
   "execution_count": 54,
   "id": "1b05cd4a-2825-492e-993c-1d5669cb98eb",
   "metadata": {},
   "outputs": [
    {
     "data": {
      "text/plain": [
       "\"Write a datetime string that matches the following pattern: '%Y-%m-%dT%H:%M:%S.%fZ'.\\n\\nExamples: 0771-05-13T01:44:26.894958Z, 1427-06-14T04:07:20.990028Z, 1868-07-06T00:54:57.032059Z\\n\\nReturn ONLY this string, no other words!\""
      ]
     },
     "execution_count": 54,
     "metadata": {},
     "output_type": "execute_result"
    }
   ],
   "source": [
    "output_parser = DatetimeOutputParser()\n",
    "output_parser.get_format_instructions()"
   ]
  },
  {
   "cell_type": "code",
   "execution_count": 66,
   "id": "a197a86a-09b4-4e36-b72f-f6b3365ae874",
   "metadata": {},
   "outputs": [],
   "source": [
    "# system_template = \"Your reply to questions should always be in datetime format\""
   ]
  },
  {
   "cell_type": "code",
   "execution_count": 68,
   "id": "17ce778c-c663-4b3c-a8ae-4e1abee3d67c",
   "metadata": {},
   "outputs": [],
   "source": [
    "template_text = \"{request}\\n{format_instructions}\"\n",
    "human_prompt = HumanMessagePromptTemplate.from_template(template_text)\n",
    "# system_prompt = SystemMessagePromptTemplate.from_template(system_template)"
   ]
  },
  {
   "cell_type": "code",
   "execution_count": 70,
   "id": "98cc9e07-2e14-4e9c-abfa-3bc0eb2b7958",
   "metadata": {},
   "outputs": [],
   "source": [
    "chat_prompt = ChatPromptTemplate.from_messages([human_prompt])"
   ]
  },
  {
   "cell_type": "code",
   "execution_count": 72,
   "id": "f4d28118-8751-4ed5-b324-6210b2e16750",
   "metadata": {},
   "outputs": [
    {
     "data": {
      "text/plain": [
       "[HumanMessage(content='Your reply to questions should always be in datetime format', additional_kwargs={}, response_metadata={}),\n",
       " HumanMessage(content=\"What date was the 13th Amendment ratified in the US?\\nWrite a datetime string that matches the following pattern: '%Y-%m-%dT%H:%M:%S.%fZ'.\\n\\nExamples: 1595-07-23T17:09:24.192856Z, 0687-07-03T20:21:48.718906Z, 1820-11-04T05:15:16.619232Z\\n\\nReturn ONLY this string, no other words!\", additional_kwargs={}, response_metadata={})]"
      ]
     },
     "execution_count": 72,
     "metadata": {},
     "output_type": "execute_result"
    }
   ],
   "source": [
    "model_request = chat_prompt.format_prompt(request=\"What date was the 13th Amendment ratified in the US?\",format_instructions=output_parser.get_format_instructions()).to_messages()\n",
    "model_request"
   ]
  },
  {
   "cell_type": "code",
   "execution_count": 74,
   "id": "b816bd4c-1c18-48ad-9448-b4cae760f411",
   "metadata": {},
   "outputs": [
    {
     "name": "stdout",
     "output_type": "stream",
     "text": [
      "1865-12-06T00:00:00.000000Z\n"
     ]
    }
   ],
   "source": [
    "result = model(model_request,temperature=0)\n",
    "print(result.content)"
   ]
  },
  {
   "cell_type": "code",
   "execution_count": 76,
   "id": "cd7c3a39-9642-46c9-b26a-aa8fb32de41d",
   "metadata": {},
   "outputs": [
    {
     "data": {
      "text/plain": [
       "datetime.datetime(1865, 12, 6, 0, 0)"
      ]
     },
     "execution_count": 76,
     "metadata": {},
     "output_type": "execute_result"
    }
   ],
   "source": [
    "output_parser.parse(result.content)"
   ]
  },
  {
   "cell_type": "code",
   "execution_count": 86,
   "id": "1010132c-cf77-41c0-be62-313b898bb968",
   "metadata": {},
   "outputs": [
    {
     "data": {
      "text/plain": [
       "'The 13th Amendment was ratified in the US on 1865-12-06T00:00:00.000000Z. The datetime string matching the given pattern is: \"1865-12-06T00:00:00.000000Z\"'"
      ]
     },
     "execution_count": 86,
     "metadata": {},
     "output_type": "execute_result"
    }
   ],
   "source": [
    "misformatted = f'The 13th Amendment was ratified in the US on {result.content}. The datetime string matching the given pattern is: \"1865-12-06T00:00:00.000000Z\"'\n",
    "misformatted"
   ]
  },
  {
   "cell_type": "code",
   "execution_count": 88,
   "id": "bd212244-91ed-4e54-833a-843442600482",
   "metadata": {},
   "outputs": [
    {
     "data": {
      "text/plain": [
       "DatetimeOutputParser()"
      ]
     },
     "execution_count": 88,
     "metadata": {},
     "output_type": "execute_result"
    }
   ],
   "source": [
    "output_parser"
   ]
  },
  {
   "cell_type": "code",
   "execution_count": 92,
   "id": "5993ee82-f99f-4c51-8adf-c953b6ede7a2",
   "metadata": {},
   "outputs": [],
   "source": [
    "new_parser = OutputFixingParser.from_llm(parser=output_parser,llm=model)"
   ]
  },
  {
   "cell_type": "code",
   "execution_count": 94,
   "id": "d1d45bcd-0646-4f7b-ab4e-4f2bbfe4193b",
   "metadata": {},
   "outputs": [
    {
     "data": {
      "text/plain": [
       "datetime.datetime(1865, 12, 6, 0, 0)"
      ]
     },
     "execution_count": 94,
     "metadata": {},
     "output_type": "execute_result"
    }
   ],
   "source": [
    "new_parser.parse(misformatted)"
   ]
  },
  {
   "cell_type": "code",
   "execution_count": 100,
   "id": "05de963a-8237-49ca-8901-d09f99b924cd",
   "metadata": {},
   "outputs": [],
   "source": [
    "class Scientist(BaseModel):\n",
    "    name: str = Field(description='Name of a Scientist')\n",
    "    discoveries: list = Field(description='List of scientific discoveries')"
   ]
  },
  {
   "cell_type": "code",
   "execution_count": 102,
   "id": "de61136c-ba7a-4521-a11d-ec65e95efbf4",
   "metadata": {},
   "outputs": [
    {
     "data": {
      "text/plain": [
       "PydanticOutputParser(pydantic_object=<class '__main__.Scientist'>)"
      ]
     },
     "execution_count": 102,
     "metadata": {},
     "output_type": "execute_result"
    }
   ],
   "source": [
    "parser = PydanticOutputParser(pydantic_object=Scientist)\n",
    "parser"
   ]
  },
  {
   "cell_type": "code",
   "execution_count": 104,
   "id": "bc4e9643-058b-4a5c-a865-8f29cd6a5fdf",
   "metadata": {},
   "outputs": [
    {
     "name": "stdout",
     "output_type": "stream",
     "text": [
      "The output should be formatted as a JSON instance that conforms to the JSON schema below.\n",
      "\n",
      "As an example, for the schema {\"properties\": {\"foo\": {\"title\": \"Foo\", \"description\": \"a list of strings\", \"type\": \"array\", \"items\": {\"type\": \"string\"}}}, \"required\": [\"foo\"]}\n",
      "the object {\"foo\": [\"bar\", \"baz\"]} is a well-formatted instance of the schema. The object {\"properties\": {\"foo\": [\"bar\", \"baz\"]}} is not well-formatted.\n",
      "\n",
      "Here is the output schema:\n",
      "```\n",
      "{\"properties\": {\"name\": {\"description\": \"Name of a Scientist\", \"title\": \"Name\", \"type\": \"string\"}, \"discoveries\": {\"description\": \"List of scientific discoveries\", \"items\": {}, \"title\": \"Discoveries\", \"type\": \"array\"}}, \"required\": [\"name\", \"discoveries\"]}\n",
      "```\n"
     ]
    }
   ],
   "source": [
    "print(parser.get_format_instructions())"
   ]
  },
  {
   "cell_type": "code",
   "execution_count": 106,
   "id": "494531fe-7f44-4f27-89b3-56fe727a4267",
   "metadata": {},
   "outputs": [],
   "source": [
    "human_prompt = HumanMessagePromptTemplate.from_template(\"{request}\\n{format_instructions}\")"
   ]
  },
  {
   "cell_type": "code",
   "execution_count": 108,
   "id": "e43e50ca-8914-4347-bda5-44d09853e918",
   "metadata": {},
   "outputs": [],
   "source": [
    "chat_prompt = ChatPromptTemplate.from_messages([human_prompt])"
   ]
  },
  {
   "cell_type": "code",
   "execution_count": 114,
   "id": "48bc0a38-e528-4a70-9c2a-b798055474a1",
   "metadata": {},
   "outputs": [
    {
     "data": {
      "text/plain": [
       "[HumanMessage(content='Tell me about a famous scientist\\nThe output should be formatted as a JSON instance that conforms to the JSON schema below.\\n\\nAs an example, for the schema {\"properties\": {\"foo\": {\"title\": \"Foo\", \"description\": \"a list of strings\", \"type\": \"array\", \"items\": {\"type\": \"string\"}}}, \"required\": [\"foo\"]}\\nthe object {\"foo\": [\"bar\", \"baz\"]} is a well-formatted instance of the schema. The object {\"properties\": {\"foo\": [\"bar\", \"baz\"]}} is not well-formatted.\\n\\nHere is the output schema:\\n```\\n{\"properties\": {\"name\": {\"description\": \"Name of a Scientist\", \"title\": \"Name\", \"type\": \"string\"}, \"discoveries\": {\"description\": \"List of scientific discoveries\", \"items\": {}, \"title\": \"Discoveries\", \"type\": \"array\"}}, \"required\": [\"name\", \"discoveries\"]}\\n```', additional_kwargs={}, response_metadata={})]"
      ]
     },
     "execution_count": 114,
     "metadata": {},
     "output_type": "execute_result"
    }
   ],
   "source": [
    "model_request = chat_prompt.format_prompt(request='Tell me about a famous scientist',format_instructions=parser.get_format_instructions()).to_messages()\n",
    "model_request"
   ]
  },
  {
   "cell_type": "code",
   "execution_count": 116,
   "id": "b665f588-3965-47d8-8df6-b1ff1c1ade59",
   "metadata": {},
   "outputs": [
    {
     "name": "stdout",
     "output_type": "stream",
     "text": [
      "{\n",
      "  \"name\": \"Albert Einstein\",\n",
      "  \"discoveries\": [\"Theory of Relativity\", \"Photoelectric Effect\", \"Mass-energy Equivalence\"]\n",
      "}\n"
     ]
    }
   ],
   "source": [
    "result = model(model_request,temperature=0.5)\n",
    "print(result.content)"
   ]
  },
  {
   "cell_type": "code",
   "execution_count": 118,
   "id": "8dc48ba2-b523-4a08-8975-6340082380c3",
   "metadata": {},
   "outputs": [
    {
     "data": {
      "text/plain": [
       "AIMessage(content='{\\n  \"name\": \"Albert Einstein\",\\n  \"discoveries\": [\"Theory of Relativity\", \"Photoelectric Effect\", \"Mass-energy Equivalence\"]\\n}', additional_kwargs={}, response_metadata={'token_usage': {'completion_tokens': 33, 'prompt_tokens': 200, 'total_tokens': 233, 'completion_tokens_details': {'accepted_prediction_tokens': 0, 'audio_tokens': 0, 'reasoning_tokens': 0, 'rejected_prediction_tokens': 0}, 'prompt_tokens_details': {'audio_tokens': 0, 'cached_tokens': 0}}, 'model_name': 'gpt-3.5-turbo', 'system_fingerprint': None, 'finish_reason': 'stop', 'logprobs': None}, id='run-86bf9012-98e5-40f8-96cb-d4abcec0c096-0')"
      ]
     },
     "execution_count": 118,
     "metadata": {},
     "output_type": "execute_result"
    }
   ],
   "source": [
    "result"
   ]
  },
  {
   "cell_type": "code",
   "execution_count": 122,
   "id": "a577f023-9725-4b61-a4d1-3730d53a4c94",
   "metadata": {},
   "outputs": [
    {
     "data": {
      "text/plain": [
       "__main__.Scientist"
      ]
     },
     "execution_count": 122,
     "metadata": {},
     "output_type": "execute_result"
    }
   ],
   "source": [
    "type(parser.parse(result.content))"
   ]
  }
 ],
 "metadata": {
  "kernelspec": {
   "display_name": "Python 3 (ipykernel)",
   "language": "python",
   "name": "python3"
  },
  "language_info": {
   "codemirror_mode": {
    "name": "ipython",
    "version": 3
   },
   "file_extension": ".py",
   "mimetype": "text/x-python",
   "name": "python",
   "nbconvert_exporter": "python",
   "pygments_lexer": "ipython3",
   "version": "3.12.7"
  }
 },
 "nbformat": 4,
 "nbformat_minor": 5
}
