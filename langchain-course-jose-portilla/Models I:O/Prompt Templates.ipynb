{
 "cells": [
  {
   "cell_type": "code",
   "execution_count": 40,
   "id": "e9de3816-ca5a-47e5-a6ef-65464bb22251",
   "metadata": {},
   "outputs": [],
   "source": [
    "from langchain.llms import OpenAI\n",
    "from langchain.chat_models import ChatOpenAI\n",
    "from dotenv import load_dotenv\n",
    "import os, warnings\n",
    "warnings.filterwarnings('ignore')\n",
    "from langchain import PromptTemplate\n",
    "from langchain.prompts import ChatPromptTemplate, PromptTemplate, SystemMessagePromptTemplate, AIMessagePromptTemplate, HumanMessagePromptTemplate\n",
    "from langchain.schema import SystemMessage, HumanMessage, AIMessage"
   ]
  },
  {
   "cell_type": "code",
   "execution_count": 4,
   "id": "1d37cfae-25af-4e97-8fc6-47e2d5a0e810",
   "metadata": {},
   "outputs": [
    {
     "data": {
      "text/plain": [
       "True"
      ]
     },
     "execution_count": 4,
     "metadata": {},
     "output_type": "execute_result"
    }
   ],
   "source": [
    "load_dotenv()"
   ]
  },
  {
   "cell_type": "code",
   "execution_count": 6,
   "id": "8baf450f-5064-4468-a759-a4b4e17aba10",
   "metadata": {},
   "outputs": [],
   "source": [
    "api_key = os.environ['OPENAI_API_KEY']"
   ]
  },
  {
   "cell_type": "code",
   "execution_count": 8,
   "id": "4660b44b-7036-42a9-9adf-12e598d48445",
   "metadata": {},
   "outputs": [],
   "source": [
    "llm = OpenAI(openai_api_key=api_key)\n",
    "chat_model = ChatOpenAI(api_key=api_key)"
   ]
  },
  {
   "cell_type": "code",
   "execution_count": 12,
   "id": "265671b0-bd68-44cd-b78e-89c2eef71bb7",
   "metadata": {},
   "outputs": [
    {
     "name": "stdout",
     "output_type": "stream",
     "text": [
      " Saturn is the sixth planet from the Sun and the second largest planet in our solar system. It is known for its distinctive rings, which are made up of ice, dust, and rock particles. Saturn has at least 82 moons, the most of any planet in our solar system. Its atmosphere is mostly made up of hydrogen and helium, and it has the fastest winds in our solar system, reaching speeds of up to 1,800 kilometers per hour. Saturn's average temperature is -178 degrees Celsius, making it one of the coldest planets in our solar system. \n"
     ]
    }
   ],
   "source": [
    "planet = 'Saturn'\n",
    "print(llm(f'Here is a fact about {planet}:'))"
   ]
  },
  {
   "cell_type": "code",
   "execution_count": 16,
   "id": "30065860-a07f-4393-b9d0-9e3cc25aa056",
   "metadata": {},
   "outputs": [],
   "source": [
    "no_input_prompt = PromptTemplate(input_variables=[],\n",
    "                                 template='tell me a fact about Jupyter')"
   ]
  },
  {
   "cell_type": "code",
   "execution_count": 32,
   "id": "e4e1fe3a-87b6-43e9-922e-65ca7d4c4abd",
   "metadata": {},
   "outputs": [],
   "source": [
    "single_input_prompt = PromptTemplate(template='tell me a fact about {topic}',\n",
    "                                     input_variables=['topic'])"
   ]
  },
  {
   "cell_type": "code",
   "execution_count": 22,
   "id": "4128838c-9dc9-4441-b762-43d4fd6c8af3",
   "metadata": {},
   "outputs": [
    {
     "data": {
      "text/plain": [
       "'\\n\\nJupyter is a free, open-source web application that allows users to create and share documents containing live code, equations, visualizations, and narrative text.'"
      ]
     },
     "execution_count": 22,
     "metadata": {},
     "output_type": "execute_result"
    }
   ],
   "source": [
    "llm(no_input_prompt.format())"
   ]
  },
  {
   "cell_type": "code",
   "execution_count": 30,
   "id": "101f586c-add1-49cc-89ed-11a0c1a3cf3d",
   "metadata": {},
   "outputs": [
    {
     "data": {
      "text/plain": [
       "\"\\n\\nThe ocean is the largest biome on Earth, covering approximately 71% of the planet's surface and containing 97% of the Earth's water.\""
      ]
     },
     "execution_count": 30,
     "metadata": {},
     "output_type": "execute_result"
    }
   ],
   "source": [
    "llm(single_input_prompt.format(topic='ocean'))"
   ]
  },
  {
   "cell_type": "code",
   "execution_count": 34,
   "id": "aa414d62-359e-4876-af24-685f8f943d5f",
   "metadata": {},
   "outputs": [],
   "source": [
    "multi_input_prompt = PromptTemplate(template='tell me a fact about {topic} for a {level} student',\n",
    "                                    input_variables=['topic','level'])"
   ]
  },
  {
   "cell_type": "code",
   "execution_count": 36,
   "id": "da5f4ccd-7647-49ee-a696-d1dd20ef6cb3",
   "metadata": {},
   "outputs": [
    {
     "data": {
      "text/plain": [
       "'\\n\\nThe Third Man is a classic film noir movie released in 1949, directed by Carol Reed and starring Orson Welles and Joseph Cotten. It is considered one of the greatest films of all time and is often shown in film studies classes.'"
      ]
     },
     "execution_count": 36,
     "metadata": {},
     "output_type": "execute_result"
    }
   ],
   "source": [
    "llm(multi_input_prompt.format(topic='third man',level='school'))"
   ]
  },
  {
   "cell_type": "code",
   "execution_count": 46,
   "id": "601e4677-3d62-4769-ab9c-e3fd9803ff28",
   "metadata": {},
   "outputs": [
    {
     "data": {
      "text/plain": [
       "SystemMessagePromptTemplate(prompt=PromptTemplate(input_variables=['cooking_time', 'dietary_preference'], input_types={}, partial_variables={}, template=\"You are a chef's recipe assistant that specializes in {dietary_preference} dishes that can be prepared in {cooking_time}\"), additional_kwargs={})"
      ]
     },
     "execution_count": 46,
     "metadata": {},
     "output_type": "execute_result"
    }
   ],
   "source": [
    "system_template = \"You are a chef's recipe assistant that specializes in {dietary_preference} dishes that can be prepared in {cooking_time}\"\n",
    "system_message_prompt = SystemMessagePromptTemplate.from_template(system_template)\n",
    "system_message_prompt"
   ]
  },
  {
   "cell_type": "code",
   "execution_count": 48,
   "id": "4cf4757b-f032-491e-b6c6-d2bc9587e00c",
   "metadata": {},
   "outputs": [
    {
     "data": {
      "text/plain": [
       "HumanMessagePromptTemplate(prompt=PromptTemplate(input_variables=['recipe_request'], input_types={}, partial_variables={}, template='{recipe_request}'), additional_kwargs={})"
      ]
     },
     "execution_count": 48,
     "metadata": {},
     "output_type": "execute_result"
    }
   ],
   "source": [
    "human_template = \"{recipe_request}\"\n",
    "human_message_prompt = HumanMessagePromptTemplate.from_template(human_template)\n",
    "human_message_prompt"
   ]
  },
  {
   "cell_type": "code",
   "execution_count": 50,
   "id": "644a3eaf-b105-4a0b-abf2-075d3a5c9b53",
   "metadata": {},
   "outputs": [
    {
     "data": {
      "text/plain": [
       "['cooking_time', 'dietary_preference']"
      ]
     },
     "execution_count": 50,
     "metadata": {},
     "output_type": "execute_result"
    }
   ],
   "source": [
    "system_message_prompt.input_variables"
   ]
  },
  {
   "cell_type": "code",
   "execution_count": 52,
   "id": "7bf31b67-36fa-4ba5-9639-340d1325be61",
   "metadata": {},
   "outputs": [
    {
     "data": {
      "text/plain": [
       "['recipe_request']"
      ]
     },
     "execution_count": 52,
     "metadata": {},
     "output_type": "execute_result"
    }
   ],
   "source": [
    "human_message_prompt.input_variables"
   ]
  },
  {
   "cell_type": "code",
   "execution_count": 56,
   "id": "43f8cf67-30f0-4ff4-b040-590221e07737",
   "metadata": {},
   "outputs": [
    {
     "data": {
      "text/plain": [
       "ChatPromptTemplate(input_variables=['cooking_time', 'dietary_preference', 'recipe_request'], input_types={}, partial_variables={}, messages=[SystemMessagePromptTemplate(prompt=PromptTemplate(input_variables=['cooking_time', 'dietary_preference'], input_types={}, partial_variables={}, template=\"You are a chef's recipe assistant that specializes in {dietary_preference} dishes that can be prepared in {cooking_time}\"), additional_kwargs={}), HumanMessagePromptTemplate(prompt=PromptTemplate(input_variables=['recipe_request'], input_types={}, partial_variables={}, template='{recipe_request}'), additional_kwargs={})])"
      ]
     },
     "execution_count": 56,
     "metadata": {},
     "output_type": "execute_result"
    }
   ],
   "source": [
    "chat_prompt = ChatPromptTemplate.from_messages([system_message_prompt,human_message_prompt])\n",
    "chat_prompt"
   ]
  },
  {
   "cell_type": "code",
   "execution_count": 72,
   "id": "8d95200e-4521-40af-aa3e-ca2ca44191a1",
   "metadata": {},
   "outputs": [
    {
     "data": {
      "text/plain": [
       "['cooking_time', 'dietary_preference', 'recipe_request']"
      ]
     },
     "execution_count": 72,
     "metadata": {},
     "output_type": "execute_result"
    }
   ],
   "source": [
    "chat_prompt.input_variables"
   ]
  },
  {
   "cell_type": "code",
   "execution_count": 64,
   "id": "b8513760-d30b-4dfb-be21-efd681da46b5",
   "metadata": {},
   "outputs": [],
   "source": [
    "prompt = chat_prompt.format_prompt(cooking_time=\"15 minutes\",recipe_request='quick snack',dietary_preference='vegan').to_messages()"
   ]
  },
  {
   "cell_type": "code",
   "execution_count": 68,
   "id": "aa0cb0ef-2e30-444b-9b32-691de8c73d2f",
   "metadata": {},
   "outputs": [
    {
     "name": "stdout",
     "output_type": "stream",
     "text": [
      "One quick and easy vegan snack you can make in 15 minutes is avocado toast. Here's a simple recipe:\n",
      "\n",
      "Ingredients:\n",
      "- 1 ripe avocado\n",
      "- 2 slices of whole grain bread\n",
      "- Salt and pepper\n",
      "- Red pepper flakes (optional)\n",
      "- Lemon juice (optional)\n",
      "\n",
      "Instructions:\n",
      "1. Toast the slices of bread until golden brown.\n",
      "2. While the bread is toasting, mash the avocado in a bowl using a fork. Add a squeeze of lemon juice, salt, and pepper to taste.\n",
      "3. Once the bread is toasted, spread the mashed avocado evenly on top of each slice.\n",
      "4. Sprinkle some red pepper flakes on top for an extra kick, if desired.\n",
      "5. Enjoy your quick and delicious avocado toast snack!\n"
     ]
    }
   ],
   "source": [
    "result = chat_model(prompt)\n",
    "print(result.content)"
   ]
  }
 ],
 "metadata": {
  "kernelspec": {
   "display_name": "Python 3 (ipykernel)",
   "language": "python",
   "name": "python3"
  },
  "language_info": {
   "codemirror_mode": {
    "name": "ipython",
    "version": 3
   },
   "file_extension": ".py",
   "mimetype": "text/x-python",
   "name": "python",
   "nbconvert_exporter": "python",
   "pygments_lexer": "ipython3",
   "version": "3.12.7"
  }
 },
 "nbformat": 4,
 "nbformat_minor": 5
}
