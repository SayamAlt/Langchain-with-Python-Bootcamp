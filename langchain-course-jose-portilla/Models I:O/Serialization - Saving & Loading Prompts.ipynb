{
 "cells": [
  {
   "cell_type": "code",
   "execution_count": 26,
   "id": "a3e9e7b4-87f4-4676-8968-e5f9b452c3bb",
   "metadata": {},
   "outputs": [],
   "source": [
    "from langchain.prompts import PromptTemplate, load_prompt"
   ]
  },
  {
   "cell_type": "code",
   "execution_count": 22,
   "id": "bad44c93-d555-45d1-b9b6-4af2b2248305",
   "metadata": {},
   "outputs": [
    {
     "data": {
      "text/plain": [
       "PromptTemplate(input_variables=['planet'], input_types={}, partial_variables={}, template='Tell me a fact about {planet}')"
      ]
     },
     "execution_count": 22,
     "metadata": {},
     "output_type": "execute_result"
    }
   ],
   "source": [
    "template = \"Tell me a fact about {planet}\"\n",
    "prompt_template = PromptTemplate(template=template,input_variables=['planet'])\n",
    "prompt_template"
   ]
  },
  {
   "cell_type": "code",
   "execution_count": 24,
   "id": "34a4ade1-5e23-4889-85b6-5b25ed9661ea",
   "metadata": {},
   "outputs": [],
   "source": [
    "prompt_template.save('prompt_template.json')"
   ]
  },
  {
   "cell_type": "code",
   "execution_count": 28,
   "id": "a7d8cdbc-0f93-443d-9f96-f68643090f3b",
   "metadata": {},
   "outputs": [
    {
     "data": {
      "text/plain": [
       "PromptTemplate(input_variables=['planet'], input_types={}, partial_variables={}, template='Tell me a fact about {planet}')"
      ]
     },
     "execution_count": 28,
     "metadata": {},
     "output_type": "execute_result"
    }
   ],
   "source": [
    "prompt = load_prompt('prompt_template.json')\n",
    "prompt"
   ]
  }
 ],
 "metadata": {
  "kernelspec": {
   "display_name": "Python 3 (ipykernel)",
   "language": "python",
   "name": "python3"
  },
  "language_info": {
   "codemirror_mode": {
    "name": "ipython",
    "version": 3
   },
   "file_extension": ".py",
   "mimetype": "text/x-python",
   "name": "python",
   "nbconvert_exporter": "python",
   "pygments_lexer": "ipython3",
   "version": "3.12.7"
  }
 },
 "nbformat": 4,
 "nbformat_minor": 5
}
