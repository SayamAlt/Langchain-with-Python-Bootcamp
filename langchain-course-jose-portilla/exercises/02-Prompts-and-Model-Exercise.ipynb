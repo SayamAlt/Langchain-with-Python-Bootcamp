{
 "cells": [
  {
   "cell_type": "markdown",
   "id": "ede50d4d-6b9b-46b4-946c-edc6bde899c7",
   "metadata": {},
   "source": [
    "<a href = \"https://www.pieriantraining.com\"><img src=\"../PT Centered Purple.png\"> </a>\n",
    "\n",
    "<em style=\"text-align:center\">Copyrighted by Pierian Training</em>"
   ]
  },
  {
   "cell_type": "markdown",
   "id": "6c706772-7bbb-41a9-ab96-6480bc3ef2a3",
   "metadata": {
    "tags": []
   },
   "source": [
    "# Prompts and Models Exercise\n",
    "\n",
    "### NOTE: FEEL FREE TO JUST TREAT THIS AS A CODE ALONG EXAMPLE IF YOU DONT WANT AN EXERCISE BUT RATHER WATCH AN EXAMPLE.\n",
    "\n",
    "**TASK: Create a Python function that uses Prompts and Chat internally to give travel ideas related to two variables:**\n",
    "\n",
    "    * An Interest or Hobby\n",
    "    * A Budget\n",
    "    \n",
    "Remember that you should also decide on a system prompt. The end function will just be a nice wrapper on top of all the previous LangChain components we've discussed earlier."
   ]
  },
  {
   "cell_type": "markdown",
   "id": "cbe4141e-e691-4ad1-b462-402b0f353f08",
   "metadata": {},
   "source": [
    "**Example Solution**\n",
    "\n",
    "Keep in mind your solution may differ slightly, but as long as it works, that's ok!"
   ]
  },
  {
   "cell_type": "code",
   "execution_count": 45,
   "id": "c59c4a00-5d29-4ed6-b6d5-e7486b30bb9a",
   "metadata": {},
   "outputs": [],
   "source": [
    "from dotenv import load_dotenv\n",
    "load_dotenv()\n",
    "from langchain.prompts import SystemMessagePromptTemplate, HumanMessagePromptTemplate, ChatPromptTemplate, AIMessagePromptTemplate\n",
    "from langchain.chat_models import ChatOpenAI\n",
    "import os, warnings\n",
    "warnings.filterwarnings('ignore')"
   ]
  },
  {
   "cell_type": "code",
   "execution_count": 6,
   "id": "da246d11-aab2-4c89-aa6f-ee9a9ab6c748",
   "metadata": {},
   "outputs": [],
   "source": [
    "api_key = os.environ['OPENAI_API_KEY']"
   ]
  },
  {
   "cell_type": "code",
   "execution_count": 55,
   "id": "b4e6adae-ddfa-403f-afbc-eac1ff964c54",
   "metadata": {},
   "outputs": [],
   "source": [
    "def travel_idea(interest,budget):\n",
    "    '''\n",
    "    INPUTS:\n",
    "        interest: A str interest or hobby (e.g. fishing)\n",
    "        budget: A str budget (e.g. $10,000)\n",
    "    '''\n",
    "    system_template = \"You are a travel domain expert\"\n",
    "    system_prompt = SystemMessagePromptTemplate.from_template(system_template)\n",
    "    human_template = \"Can you generate a travel itinerary for {interest} on a budget of {budget}?\"\n",
    "    human_prompt = HumanMessagePromptTemplate.from_template(human_template)\n",
    "    chat_prompt_template = ChatPromptTemplate.from_messages([system_prompt,human_prompt])\n",
    "    chat_prompt = chat_prompt_template.format_prompt(interest=interest,budget=budget).to_messages()\n",
    "    chat_model = ChatOpenAI(api_key=api_key)\n",
    "    return chat_model(chat_prompt)"
   ]
  },
  {
   "cell_type": "code",
   "execution_count": 63,
   "id": "597515cb-c70a-47bf-a1e7-8214fd54f61d",
   "metadata": {},
   "outputs": [
    {
     "name": "stdout",
     "output_type": "stream",
     "text": [
      "Certainly! Here is a sample itinerary for a mountaineering trip within a budget of $25,000. Please note that prices may vary depending on the season, location, and availability.\n",
      "\n",
      "Destination: Nepal - Mount Everest Base Camp Trek\n",
      "\n",
      "Duration: 15 days\n",
      "\n",
      "Day 1-2: Arrival in Kathmandu\n",
      "- Fly into Kathmandu, Nepal\n",
      "- Explore the city, visit temples and markets\n",
      "- Stay in a budget-friendly guesthouse\n",
      "\n",
      "Day 3-4: Kathmandu to Lukla to Phakding\n",
      "- Take a flight to Lukla and begin the trek to Phakding\n",
      "- Enjoy the scenic views of the Himalayas\n",
      "- Stay in a teahouse in Phakding\n",
      "\n",
      "Day 5-6: Namche Bazaar\n",
      "- Trek to Namche Bazaar, the gateway to Everest\n",
      "- Acclimatize and explore the town\n",
      "- Stay in a teahouse in Namche Bazaar\n",
      "\n",
      "Day 7-8: Tengboche\n",
      "- Trek to Tengboche and visit the famous monastery\n",
      "- Enjoy panoramic views of Everest, Lhotse, and Ama Dablam\n",
      "- Stay in a teahouse in Tengboche\n",
      "\n",
      "Day 9-11: Dingboche\n",
      "- Trek to Dingboche, a picturesque village\n",
      "- Acclimatize and hike to Nangkartshang Peak\n",
      "- Stay in a teahouse in Dingboche\n",
      "\n",
      "Day 12-14: Everest Base Camp and Kala Patthar\n",
      "- Trek to Everest Base Camp and witness the iconic view\n",
      "- Hike to Kala Patthar for sunrise views of Mt. Everest\n",
      "- Return to Lukla and fly back to Kathmandu\n",
      "\n",
      "Day 15: Departure\n",
      "- Depart from Kathmandu\n",
      "\n",
      "Budget breakdown:\n",
      "- Flights: $1,500\n",
      "- Accommodation: $500\n",
      "- Meals: $400\n",
      "- Permits and fees: $300\n",
      "- Guides and porters: $1,000\n",
      "- Gear rental: $500\n",
      "- Miscellaneous expenses: $300\n",
      "\n",
      "Total: $4,500\n",
      "\n",
      "This leaves you with $20,500 for additional expenses such as travel insurance, emergency funds, souvenirs, and extra activities. Be sure to research and plan accordingly for a safe and enjoyable mountaineering experience within your budget.\n"
     ]
    }
   ],
   "source": [
    "result = travel_idea('mountaineering','$25,000')\n",
    "print(result.content)"
   ]
  },
  {
   "cell_type": "code",
   "execution_count": 61,
   "id": "d6883bf9-9dfd-477d-bca3-05698a6bcc0f",
   "metadata": {},
   "outputs": [
    {
     "data": {
      "text/plain": [
       "AIMessagePromptTemplate(prompt=PromptTemplate(input_variables=[], input_types={}, partial_variables={}, template=\"Of course! Here is a suggested travel itinerary for a fishing trip within a budget of $10,000:\\n\\nDestination: Costa Rica\\n\\nDay 1-3: Arrive in San Jose, Costa Rica and transfer to the Arenal Volcano area. Spend the first few days exploring the Arenal Volcano National Park and fishing in Lake Arenal for freshwater species such as Tilapia and Rainbow Bass.\\n\\nAccommodation: Budget-friendly eco-lodges or guesthouses in the Arenal area.\\n\\nDay 4-6: Travel to the Caribbean coast of Costa Rica, specifically to Puerto Viejo de Talamanca. Enjoy fishing opportunities in the nearby rivers and offshore for species such as Snook, Tarpon, and Mahi Mahi.\\n\\nAccommodation: Stay in beachfront cabins or budget-friendly hotels in Puerto Viejo.\\n\\nDay 7-9: Head to the Osa Peninsula, a remote and pristine region known for its rich marine life. Engage in deep-sea fishing for Marlin, Tuna, and Sailfish. Explore the Corcovado National Park for wildlife sightings.\\n\\nAccommodation: Rustic lodges or eco-friendly accommodations in the Osa Peninsula.\\n\\nDay 10-12: Transfer to the Nicoya Peninsula on the Pacific coast of Costa Rica. Fish in the waters off Playa Samara for Roosterfish, Snapper, and Wahoo. Enjoy beach activities and relaxation.\\n\\nAccommodation: Budget-friendly beachfront hotels or vacation rentals in Playa Samara.\\n\\nDay 13-15: Return to San Jose for departure. Spend the last day exploring the city and shopping for souvenirs.\\n\\nTotal estimated cost breakdown:\\n- Flights: $1500\\n- Accommodation (12 nights): $1500\\n- Transportation: $1000\\n- Fishing charters and activities: $3000\\n- Food and miscellaneous expenses: $2000\\n\\nTotal estimated cost: $10,000\\n\\nPlease note that prices may vary depending on the season, accommodations chosen, and specific activities booked. It's essential to research and book in advance to secure the best deals within your budget.\"), additional_kwargs={})"
      ]
     },
     "execution_count": 61,
     "metadata": {},
     "output_type": "execute_result"
    }
   ],
   "source": [
    "AIMessagePromptTemplate.from_template(result.content)"
   ]
  },
  {
   "cell_type": "code",
   "execution_count": 8,
   "id": "f7e240b6-96cf-4163-ad19-90a44cf7ef24",
   "metadata": {},
   "outputs": [
    {
     "name": "stdout",
     "output_type": "stream",
     "text": [
      "Certainly! Here's an example travel itinerary for a fishing trip on a budget of $10,000:\n",
      "\n",
      "Day 1: Arrival in Anchorage, Alaska\n",
      "- Fly into Anchorage and check into a budget-friendly hotel.\n",
      "- Spend the day exploring the city and enjoying local attractions.\n",
      "\n",
      "Day 2-3: Fishing in Kenai Peninsula\n",
      "- Rent a car and drive to the beautiful Kenai Peninsula.\n",
      "- Book a guided fishing trip on the Kenai River, known for its salmon and trout species.\n",
      "- Stay at a budget-friendly cabin or campground in the area.\n",
      "\n",
      "Day 4-6: Fishing in Yellowstone National Park, Wyoming\n",
      "- Fly from Anchorage to Jackson Hole, Wyoming.\n",
      "- Rent a car and drive to Yellowstone National Park.\n",
      "- Purchase a fishing permit and spend a few days fishing in the park's pristine rivers and lakes.\n",
      "- Stay at a budget-friendly lodge or campground within or near the park.\n",
      "\n",
      "Day 7-9: Fishing in Gunnison, Colorado\n",
      "- Fly from Jackson Hole to Gunnison, Colorado.\n",
      "- Rent a car and drive to Gunnison, known for its excellent trout fishing.\n",
      "- Hire a local guide and spend a few days fishing in the Gunnison River or nearby Blue Mesa Reservoir.\n",
      "- Stay at a budget-friendly hotel or campground in the area.\n",
      "\n",
      "Day 10-12: Fishing in Baja California, Mexico\n",
      "- Fly from Gunnison to Cabo San Lucas, Mexico.\n",
      "- Book a fishing charter and enjoy deep-sea fishing in the waters off the coast of Baja California.\n",
      "- Spend a couple of days exploring the vibrant local culture and relaxing on the beautiful beaches.\n",
      "- Stay at a budget-friendly hotel or hostel in Cabo San Lucas.\n",
      "\n",
      "Day 13: Return to Anchorage\n",
      "- Fly back to Anchorage from Cabo San Lucas.\n",
      "- Enjoy a final evening in the city, trying out local seafood and reflecting on your fishing adventures.\n",
      "\n",
      "Day 14: Departure\n",
      "- Check out of your hotel and fly back home, carrying wonderful memories of your fishing trip.\n",
      "\n",
      "Please note that the prices for flights, accommodations, and fishing charters may vary depending on the time of year and availability. It's always recommended to do thorough research and compare prices to stay within your budget.\n"
     ]
    }
   ],
   "source": [
    "print(travel_idea('fishing','$10,000'))"
   ]
  }
 ],
 "metadata": {
  "kernelspec": {
   "display_name": "Python 3 (ipykernel)",
   "language": "python",
   "name": "python3"
  },
  "language_info": {
   "codemirror_mode": {
    "name": "ipython",
    "version": 3
   },
   "file_extension": ".py",
   "mimetype": "text/x-python",
   "name": "python",
   "nbconvert_exporter": "python",
   "pygments_lexer": "ipython3",
   "version": "3.12.7"
  }
 },
 "nbformat": 4,
 "nbformat_minor": 5
}
