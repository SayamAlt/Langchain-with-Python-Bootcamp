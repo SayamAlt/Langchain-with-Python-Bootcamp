{
 "cells": [
  {
   "cell_type": "markdown",
   "id": "bcded1a6-2430-4707-a78c-c82f4c5ee6fc",
   "metadata": {},
   "source": [
    "<a href = \"https://www.pieriantraining.com\"><img src=\"../PT Centered Purple.png\"> </a>\n",
    "\n",
    "<em style=\"text-align:center\">Copyrighted by Pierian Training</em>"
   ]
  },
  {
   "cell_type": "markdown",
   "id": "728f1747-b8fc-4d31-96c2-047fc83c079d",
   "metadata": {},
   "source": [
    "#  Data Connections Exercise\n",
    "\n",
    "## Ask a Legal Research Assistant Bot about the US Constitution\n",
    "\n",
    "Your function should do the following:\n",
    "\n",
    "* Read the US_Constitution.txt file inside the some_data folder\n",
    "* Split this into chunks (you choose the size)\n",
    "* Write this to a ChromaDB Vector Store\n",
    "* Use Context Compression to return the relevant portion of the document to the question"
   ]
  },
  {
   "cell_type": "code",
   "execution_count": 24,
   "id": "3a17f111-e290-4ffc-b614-4d10e5673087",
   "metadata": {},
   "outputs": [],
   "source": [
    "from langchain.vectorstores import Chroma\n",
    "from langchain.chat_models import ChatOpenAI\n",
    "from langchain.document_loaders import TextLoader\n",
    "from langchain.embeddings.openai import OpenAIEmbeddings\n",
    "from langchain.text_splitter import CharacterTextSplitter\n",
    "from langchain.retrievers import ContextualCompressionRetriever\n",
    "from langchain.retrievers.document_compressors import LLMChainExtractor \n",
    "from dotenv import load_dotenv\n",
    "load_dotenv()\n",
    "import os, warnings\n",
    "warnings.filterwarnings('ignore')"
   ]
  },
  {
   "cell_type": "code",
   "execution_count": 26,
   "id": "6957a463-821d-4223-a4ff-637e99cc5807",
   "metadata": {},
   "outputs": [],
   "source": [
    "api_key = os.environ['OPENAI_API_KEY']"
   ]
  },
  {
   "cell_type": "code",
   "execution_count": 57,
   "id": "dc7dafe9-7e3b-4bb5-abeb-4c99b66f623b",
   "metadata": {},
   "outputs": [],
   "source": [
    "def us_constitution_helper(question):\n",
    "    '''\n",
    "    Takes in a question about the US Constitution and returns the most relevant\n",
    "    part of the constitution. Notice it may not directly answer the actual question!\n",
    "    \n",
    "    Follow the steps below to fill out this function:\n",
    "    '''\n",
    "    # PART ONE:\n",
    "    # LOAD \"some_data/US_Constitution in a Document object\n",
    "    loader = TextLoader(file_path=\"../langchain-course-main/01-Data-Connections/some_data/US_Constitution.txt\")\n",
    "    documents = loader.load()\n",
    "    \n",
    "    # PART TWO\n",
    "    # Split the document into chunks (you choose how and what size)\n",
    "    text_splitter = CharacterTextSplitter.from_tiktoken_encoder(chunk_size=1000)\n",
    "    docs = text_splitter.split_documents(documents)\n",
    "    \n",
    "    # PART THREE\n",
    "    # EMBED THE Documents (now in chunks) to a persisted ChromaDB\n",
    "    embedding = OpenAIEmbeddings(api_key=api_key)\n",
    "    # db = Chroma.from_documents(documents=docs,embedding=embedding_function,persist_directory='./us_constitution_db')\n",
    "    # db.persist()\n",
    "    db = Chroma(persist_directory='./us_constitution_db/',embedding_function=embedding)\n",
    "\n",
    "    # PART FOUR\n",
    "    # Use ChatOpenAI and ContextualCompressionRetriever to return the most\n",
    "    # relevant part of the documents.\n",
    "    chat_model = ChatOpenAI(api_key=api_key,temperature=0)\n",
    "    compressor = LLMChainExtractor.from_llm(chat_model)\n",
    "    compression_retriever = ContextualCompressionRetriever(base_compressor=compressor,base_retriever=db.as_retriever())\n",
    "\n",
    "    compressed_docs = compression_retriever.get_relevant_documents(question)\n",
    "    return compressed_docs[0].page_content"
   ]
  },
  {
   "cell_type": "markdown",
   "id": "e36c9e44-c166-4724-a1a9-98dfde0721d7",
   "metadata": {},
   "source": [
    "## Example Usage:\n",
    "\n",
    "Notice how it doesn't return an entire Document of a large chunk size, but instead the \"compressed\" version!"
   ]
  },
  {
   "cell_type": "code",
   "execution_count": 66,
   "id": "b6ca1a37-bc2f-49de-af25-22bc7437bff0",
   "metadata": {},
   "outputs": [
    {
     "name": "stdout",
     "output_type": "stream",
     "text": [
      "The President shall be Commander in Chief of the Army and Navy of the United States, and of the Militia of the several States, when called into the actual Service of the United States; he may require the Opinion, in writing, of the principal Officer in each of the executive Departments, upon any Subject relating to the Duties of their respective Offices, and he shall have Power to grant Reprieves and Pardons for Offenses against the United States, except in Cases of Impeachment.\n"
     ]
    }
   ],
   "source": [
    "print(us_constitution_helper(\"What power does the president of United States have?\"))"
   ]
  },
  {
   "cell_type": "code",
   "execution_count": 68,
   "id": "c4026b0b-d8aa-4721-ad2f-ba365c5456a2",
   "metadata": {},
   "outputs": [
    {
     "name": "stdout",
     "output_type": "stream",
     "text": [
      "The Congress shall have Power To lay and collect Taxes, Duties, Imposts and Excises, to pay the Debts and provide for the common Defence and general Welfare of the United States; but all Duties, Imposts and Excises shall be uniform throughout the United States;\n"
     ]
    }
   ],
   "source": [
    "print(us_constitution_helper(\"What rights does the Congress have?\"))"
   ]
  },
  {
   "cell_type": "code",
   "execution_count": 70,
   "id": "e2accf37-a831-4dff-ac53-f7349f291314",
   "metadata": {},
   "outputs": [
    {
     "name": "stdout",
     "output_type": "stream",
     "text": [
      "Section 9: Powers Denied Congress\n",
      "The Migration or Importation of such Persons as any of the States now existing shall think proper to admit, shall not be prohibited by the Congress prior to the Year one thousand eight hundred and eight, but a Tax or duty may be imposed on such Importation, not exceeding ten dollars for each Person.\n",
      "\n",
      "The Privilege of the Writ of Habeas Corpus shall not be suspended, unless when in Cases of Rebellion or Invasion the public Safety may require it.\n"
     ]
    }
   ],
   "source": [
    "print(us_constitution_helper(\"Describe Section 9\"))"
   ]
  },
  {
   "cell_type": "code",
   "execution_count": 76,
   "id": "5adb58a6-e0b5-49a3-95cc-87d430ada20f",
   "metadata": {},
   "outputs": [
    {
     "name": "stdout",
     "output_type": "stream",
     "text": [
      "Section 2\n",
      "Representatives shall be apportioned among the several States according to their respective numbers, counting the whole number of persons in each State, excluding Indians not taxed. But when the right to vote at any election for the choice of electors for President and Vice-President of the United States, Representatives in Congress, the Executive and Judicial officers of a State, or the members of the Legislature thereof, is denied to any of the male inhabitants of such State, being twenty-one years of age, and citizens of the United States, or in any way abridged, except for participation in rebellion, or other crime, the basis of representation therein shall be reduced in the proportion which the number of such male citizens shall bear to the whole number of male citizens twenty-one years of age in such State.\n"
     ]
    }
   ],
   "source": [
    "print(us_constitution_helper(\"Describe Section 2 of 14th amendment\"))"
   ]
  }
 ],
 "metadata": {
  "kernelspec": {
   "display_name": "Python 3 (ipykernel)",
   "language": "python",
   "name": "python3"
  },
  "language_info": {
   "codemirror_mode": {
    "name": "ipython",
    "version": 3
   },
   "file_extension": ".py",
   "mimetype": "text/x-python",
   "name": "python",
   "nbconvert_exporter": "python",
   "pygments_lexer": "ipython3",
   "version": "3.12.7"
  }
 },
 "nbformat": 4,
 "nbformat_minor": 5
}
