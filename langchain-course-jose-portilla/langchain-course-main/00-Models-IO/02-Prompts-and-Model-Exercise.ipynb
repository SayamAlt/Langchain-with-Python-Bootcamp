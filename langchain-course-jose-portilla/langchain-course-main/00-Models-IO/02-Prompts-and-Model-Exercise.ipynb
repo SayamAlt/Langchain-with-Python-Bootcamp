{
 "cells": [
  {
   "cell_type": "markdown",
   "id": "ede50d4d-6b9b-46b4-946c-edc6bde899c7",
   "metadata": {},
   "source": [
    "<a href = \"https://www.pieriantraining.com\"><img src=\"../PT Centered Purple.png\"> </a>\n",
    "\n",
    "<em style=\"text-align:center\">Copyrighted by Pierian Training</em>"
   ]
  },
  {
   "cell_type": "markdown",
   "id": "6c706772-7bbb-41a9-ab96-6480bc3ef2a3",
   "metadata": {
    "tags": []
   },
   "source": [
    "# Prompts and Models Exercise\n",
    "\n",
    "### NOTE: FEEL FREE TO JUST TREAT THIS AS A CODE ALONG EXAMPLE IF YOU DONT WANT AN EXERCISE BUT RATHER WATCH AN EXAMPLE.\n",
    "\n",
    "**TASK: Create a Python function that uses Prompts and Chat internally to give travel ideas related to two variables:**\n",
    "\n",
    "    * An Interest or Hobby\n",
    "    * A Budget\n",
    "    \n",
    "Remember that you should also decide on a system prompt. The end function will just be a nice wrapper on top of all the previous LangChain components we've discussed earlier."
   ]
  },
  {
   "cell_type": "code",
   "execution_count": 1,
   "id": "b4e6adae-ddfa-403f-afbc-eac1ff964c54",
   "metadata": {},
   "outputs": [],
   "source": [
    "def travel_idea(interest,budget):\n",
    "    '''\n",
    "    INPUTS:\n",
    "        interest: A str interest or hobby (e.g. fishing)\n",
    "        budget: A str budget (e.g. $10,000)\n",
    "    '''\n",
    "    pass"
   ]
  },
  {
   "cell_type": "markdown",
   "id": "34d0ecc5-a526-4a9b-933f-e7785f9401df",
   "metadata": {},
   "source": [
    "**Example Solution**\n",
    "\n",
    "Keep in mind your solution may differ slightly, but as long as it works, that's ok!"
   ]
  },
  {
   "cell_type": "code",
   "execution_count": 2,
   "id": "320be1cb-a639-460d-8472-fb6def536b19",
   "metadata": {},
   "outputs": [
    {
     "ename": "FileNotFoundError",
     "evalue": "[Errno 2] No such file or directory",
     "output_type": "error",
     "traceback": [
      "\u001b[0;31m---------------------------------------------------------------------------\u001b[0m",
      "\u001b[0;31mFileNotFoundError\u001b[0m                         Traceback (most recent call last)",
      "Cell \u001b[0;32mIn[2], line 4\u001b[0m\n\u001b[1;32m      2\u001b[0m \u001b[38;5;28;01mfrom\u001b[39;00m \u001b[38;5;21;01mlangchain\u001b[39;00m\u001b[38;5;21;01m.\u001b[39;00m\u001b[38;5;21;01mllms\u001b[39;00m \u001b[38;5;28;01mimport\u001b[39;00m OpenAI\n\u001b[1;32m      3\u001b[0m \u001b[38;5;28;01mfrom\u001b[39;00m \u001b[38;5;21;01mdotenv\u001b[39;00m \u001b[38;5;28;01mimport\u001b[39;00m load_dotenv\n\u001b[0;32m----> 4\u001b[0m load_dotenv()\n\u001b[1;32m      5\u001b[0m \u001b[38;5;28;01mimport\u001b[39;00m \u001b[38;5;21;01mos\u001b[39;00m\u001b[38;5;241m,\u001b[39m \u001b[38;5;21;01mwarnings\u001b[39;00m\n\u001b[1;32m      6\u001b[0m warnings\u001b[38;5;241m.\u001b[39mfilterwarnings(\u001b[38;5;124m\"\u001b[39m\u001b[38;5;124mignore\u001b[39m\u001b[38;5;124m\"\u001b[39m)\n",
      "File \u001b[0;32m/opt/anaconda3/lib/python3.12/site-packages/dotenv/main.py:346\u001b[0m, in \u001b[0;36mload_dotenv\u001b[0;34m(dotenv_path, stream, verbose, override, interpolate, encoding)\u001b[0m\n\u001b[1;32m    329\u001b[0m \u001b[38;5;250m\u001b[39m\u001b[38;5;124;03m\"\"\"Parse a .env file and then load all the variables found as environment variables.\u001b[39;00m\n\u001b[1;32m    330\u001b[0m \n\u001b[1;32m    331\u001b[0m \u001b[38;5;124;03mParameters:\u001b[39;00m\n\u001b[0;32m   (...)\u001b[0m\n\u001b[1;32m    343\u001b[0m \u001b[38;5;124;03m.env file.\u001b[39;00m\n\u001b[1;32m    344\u001b[0m \u001b[38;5;124;03m\"\"\"\u001b[39;00m\n\u001b[1;32m    345\u001b[0m \u001b[38;5;28;01mif\u001b[39;00m dotenv_path \u001b[38;5;129;01mis\u001b[39;00m \u001b[38;5;28;01mNone\u001b[39;00m \u001b[38;5;129;01mand\u001b[39;00m stream \u001b[38;5;129;01mis\u001b[39;00m \u001b[38;5;28;01mNone\u001b[39;00m:\n\u001b[0;32m--> 346\u001b[0m     dotenv_path \u001b[38;5;241m=\u001b[39m find_dotenv()\n\u001b[1;32m    348\u001b[0m dotenv \u001b[38;5;241m=\u001b[39m DotEnv(\n\u001b[1;32m    349\u001b[0m     dotenv_path\u001b[38;5;241m=\u001b[39mdotenv_path,\n\u001b[1;32m    350\u001b[0m     stream\u001b[38;5;241m=\u001b[39mstream,\n\u001b[0;32m   (...)\u001b[0m\n\u001b[1;32m    354\u001b[0m     encoding\u001b[38;5;241m=\u001b[39mencoding,\n\u001b[1;32m    355\u001b[0m )\n\u001b[1;32m    356\u001b[0m \u001b[38;5;28;01mreturn\u001b[39;00m dotenv\u001b[38;5;241m.\u001b[39mset_as_environment_variables()\n",
      "File \u001b[0;32m/opt/anaconda3/lib/python3.12/site-packages/dotenv/main.py:296\u001b[0m, in \u001b[0;36mfind_dotenv\u001b[0;34m(filename, raise_error_if_not_found, usecwd)\u001b[0m\n\u001b[1;32m    292\u001b[0m     \u001b[38;5;28;01mreturn\u001b[39;00m \u001b[38;5;129;01mnot\u001b[39;00m \u001b[38;5;28mhasattr\u001b[39m(main, \u001b[38;5;124m'\u001b[39m\u001b[38;5;124m__file__\u001b[39m\u001b[38;5;124m'\u001b[39m)\n\u001b[1;32m    294\u001b[0m \u001b[38;5;28;01mif\u001b[39;00m usecwd \u001b[38;5;129;01mor\u001b[39;00m _is_interactive() \u001b[38;5;129;01mor\u001b[39;00m \u001b[38;5;28mgetattr\u001b[39m(sys, \u001b[38;5;124m'\u001b[39m\u001b[38;5;124mfrozen\u001b[39m\u001b[38;5;124m'\u001b[39m, \u001b[38;5;28;01mFalse\u001b[39;00m):\n\u001b[1;32m    295\u001b[0m     \u001b[38;5;66;03m# Should work without __file__, e.g. in REPL or IPython notebook.\u001b[39;00m\n\u001b[0;32m--> 296\u001b[0m     path \u001b[38;5;241m=\u001b[39m os\u001b[38;5;241m.\u001b[39mgetcwd()\n\u001b[1;32m    297\u001b[0m \u001b[38;5;28;01melse\u001b[39;00m:\n\u001b[1;32m    298\u001b[0m     \u001b[38;5;66;03m# will work for .py files\u001b[39;00m\n\u001b[1;32m    299\u001b[0m     frame \u001b[38;5;241m=\u001b[39m sys\u001b[38;5;241m.\u001b[39m_getframe()\n",
      "\u001b[0;31mFileNotFoundError\u001b[0m: [Errno 2] No such file or directory"
     ]
    }
   ],
   "source": [
    "# DONT FORGET TO SETUP YOUR API KEY!\n",
    "from langchain.llms import OpenAI\n",
    "from dotenv import load_dotenv\n",
    "load_dotenv()\n",
    "import os, warnings\n",
    "warnings.filterwarnings(\"ignore\")\n",
    "from langchain.prompts import SystemMessagePromptTemplate, HumanMessagePromptTemplate, AIMessagePromptTemplate, PromptTemplate"
   ]
  },
  {
   "cell_type": "code",
   "execution_count": 7,
   "id": "df2fd2ad-66f9-4462-9436-5cc5e7ea2d7f",
   "metadata": {},
   "outputs": [],
   "source": [
    "# DON\"T FORGET YOUR IMPORTS!\n",
    "\n",
    "def travel_idea(interest,budget):\n",
    "    '''\n",
    "    INPUTS:\n",
    "        interest: A str interest or hobby (e.g. fishing)\n",
    "        budget: A str budget (e.g. $10,000)\n",
    "    '''\n",
    "    "
   ]
  },
  {
   "cell_type": "code",
   "execution_count": 8,
   "id": "f7e240b6-96cf-4163-ad19-90a44cf7ef24",
   "metadata": {},
   "outputs": [
    {
     "name": "stdout",
     "output_type": "stream",
     "text": [
      "Certainly! Here's an example travel itinerary for a fishing trip on a budget of $10,000:\n",
      "\n",
      "Day 1: Arrival in Anchorage, Alaska\n",
      "- Fly into Anchorage and check into a budget-friendly hotel.\n",
      "- Spend the day exploring the city and enjoying local attractions.\n",
      "\n",
      "Day 2-3: Fishing in Kenai Peninsula\n",
      "- Rent a car and drive to the beautiful Kenai Peninsula.\n",
      "- Book a guided fishing trip on the Kenai River, known for its salmon and trout species.\n",
      "- Stay at a budget-friendly cabin or campground in the area.\n",
      "\n",
      "Day 4-6: Fishing in Yellowstone National Park, Wyoming\n",
      "- Fly from Anchorage to Jackson Hole, Wyoming.\n",
      "- Rent a car and drive to Yellowstone National Park.\n",
      "- Purchase a fishing permit and spend a few days fishing in the park's pristine rivers and lakes.\n",
      "- Stay at a budget-friendly lodge or campground within or near the park.\n",
      "\n",
      "Day 7-9: Fishing in Gunnison, Colorado\n",
      "- Fly from Jackson Hole to Gunnison, Colorado.\n",
      "- Rent a car and drive to Gunnison, known for its excellent trout fishing.\n",
      "- Hire a local guide and spend a few days fishing in the Gunnison River or nearby Blue Mesa Reservoir.\n",
      "- Stay at a budget-friendly hotel or campground in the area.\n",
      "\n",
      "Day 10-12: Fishing in Baja California, Mexico\n",
      "- Fly from Gunnison to Cabo San Lucas, Mexico.\n",
      "- Book a fishing charter and enjoy deep-sea fishing in the waters off the coast of Baja California.\n",
      "- Spend a couple of days exploring the vibrant local culture and relaxing on the beautiful beaches.\n",
      "- Stay at a budget-friendly hotel or hostel in Cabo San Lucas.\n",
      "\n",
      "Day 13: Return to Anchorage\n",
      "- Fly back to Anchorage from Cabo San Lucas.\n",
      "- Enjoy a final evening in the city, trying out local seafood and reflecting on your fishing adventures.\n",
      "\n",
      "Day 14: Departure\n",
      "- Check out of your hotel and fly back home, carrying wonderful memories of your fishing trip.\n",
      "\n",
      "Please note that the prices for flights, accommodations, and fishing charters may vary depending on the time of year and availability. It's always recommended to do thorough research and compare prices to stay within your budget.\n"
     ]
    }
   ],
   "source": [
    "print(travel_idea('fishing','$10,000'))"
   ]
  }
 ],
 "metadata": {
  "kernelspec": {
   "display_name": "Python 3 (ipykernel)",
   "language": "python",
   "name": "python3"
  },
  "language_info": {
   "codemirror_mode": {
    "name": "ipython",
    "version": 3
   },
   "file_extension": ".py",
   "mimetype": "text/x-python",
   "name": "python",
   "nbconvert_exporter": "python",
   "pygments_lexer": "ipython3",
   "version": "3.12.7"
  }
 },
 "nbformat": 4,
 "nbformat_minor": 5
}
